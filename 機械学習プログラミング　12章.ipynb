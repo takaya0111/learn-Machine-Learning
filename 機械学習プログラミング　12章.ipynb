{
 "cells": [
  {
   "cell_type": "code",
   "execution_count": 1,
   "metadata": {},
   "outputs": [
    {
     "name": "stdout",
     "output_type": "stream",
     "text": [
      "/Users/hasegawatakashikana/Downloads\n"
     ]
    }
   ],
   "source": [
    "cd Downloads/"
   ]
  },
  {
   "cell_type": "code",
   "execution_count": 14,
   "metadata": {},
   "outputs": [
    {
     "name": "stdout",
     "output_type": "stream",
     "text": [
      "gzip: t10k-images.idx3-ubyte.idx3-ubyte: unknown suffix -- ignored\r\n",
      "gzip: t10k-labels.idx1-ubyte: unknown suffix -- ignored\r\n",
      "gzip: train-images.idx3-ubyte: unknown suffix -- ignored\r\n",
      "gzip: train-labels.idx1-ubyte: unknown suffix -- ignored\r\n"
     ]
    }
   ],
   "source": [
    "!gzip *ubyte -d"
   ]
  },
  {
   "cell_type": "code",
   "execution_count": 62,
   "metadata": {},
   "outputs": [],
   "source": [
    "import os\n",
    "import struct\n",
    "import numpy as np\n",
    "import sys"
   ]
  },
  {
   "cell_type": "code",
   "execution_count": 21,
   "metadata": {},
   "outputs": [],
   "source": [
    "def load_mnist(path,kind=\"train\"):\n",
    "    #引数に指定したパスを結合\n",
    "    labels_path = os.path.join(path,\"%s-labels.idx1-ubyte\"%kind)\n",
    "    images_path = os.path.join(path,\"%s-images.idx3-ubyte\"%kind)\n",
    "    \n",
    "    #ファイルを読み込む\n",
    "    #引数にファイル、モードを指定(rbは読み込みのバイナリモード)\n",
    "    with open(labels_path,\"rb\") as lbpath:\n",
    "        #バイナリを文字列に変換:unpack関数の引数にフォーマット、８バイト分のバイナリデータを指定してマジックナンバー、アイテムの個数を読み込む\n",
    "        magic,n = struct.unpack(\">II\",lbpath.read(8))\n",
    "        #ファイルからラベルを読み込み配列を構築：fromfile関数の引数にファイル、配列のデータ形式を指定\n",
    "        labels = np.fromfile(lbpath,dtype=np.uint8)\n",
    "        \n",
    "    with open(images_path,\"rb\") as imgpath:\n",
    "        magic,num,rows,cols = struct.unpack(\">IIII\",imgpath.read(16))\n",
    "        #画像ピクセル情報の配列のサイズを変更\n",
    "        #(行数：ラベルのサイズ、列数：特徴量の個数)\n",
    "        images = np.fromfile(imgpath,dtype=np.uint8).reshape(len(labels),784)\n",
    "        images = ((images/255.)-.5)*2\n",
    "    return images,labels"
   ]
  },
  {
   "cell_type": "code",
   "execution_count": 22,
   "metadata": {},
   "outputs": [],
   "source": [
    "X_train,y_train = load_mnist(\"\",kind=\"train\")"
   ]
  },
  {
   "cell_type": "code",
   "execution_count": 24,
   "metadata": {},
   "outputs": [
    {
     "name": "stdout",
     "output_type": "stream",
     "text": [
      "Rows: 60000,columns: 784\n"
     ]
    }
   ],
   "source": [
    "print(\"Rows: %d,columns: %d\"%(X_train.shape[0],X_train.shape[1]))"
   ]
  },
  {
   "cell_type": "code",
   "execution_count": 26,
   "metadata": {},
   "outputs": [
    {
     "name": "stdout",
     "output_type": "stream",
     "text": [
      "Rows: 10000,columns: 784\n"
     ]
    }
   ],
   "source": [
    "X_test,y_test = load_mnist(\"\",kind=\"t10k\")\n",
    "print(\"Rows: %d,columns: %d\"%(X_test.shape[0],X_test.shape[1]))"
   ]
  },
  {
   "cell_type": "code",
   "execution_count": 27,
   "metadata": {},
   "outputs": [
    {
     "data": {
      "text/plain": [
       "array([[-1., -1., -1., ..., -1., -1., -1.],\n",
       "       [-1., -1., -1., ..., -1., -1., -1.],\n",
       "       [-1., -1., -1., ..., -1., -1., -1.],\n",
       "       ...,\n",
       "       [-1., -1., -1., ..., -1., -1., -1.],\n",
       "       [-1., -1., -1., ..., -1., -1., -1.],\n",
       "       [-1., -1., -1., ..., -1., -1., -1.]])"
      ]
     },
     "execution_count": 27,
     "metadata": {},
     "output_type": "execute_result"
    }
   ],
   "source": [
    "X_test"
   ]
  },
  {
   "cell_type": "code",
   "execution_count": 28,
   "metadata": {},
   "outputs": [],
   "source": [
    "import matplotlib.pyplot as plt"
   ]
  },
  {
   "cell_type": "code",
   "execution_count": 31,
   "metadata": {},
   "outputs": [
    {
     "data": {
      "image/png": "[encoded data removed]",
      "text/plain": [
       "<Figure size 432x288 with 10 Axes>"
      ]
     },
     "metadata": {},
     "output_type": "display_data"
    }
   ],
   "source": [
    "fig,ax = plt.subplots(nrows=2,ncols=5,sharex=True,sharey=True)\n",
    "ax = ax.flatten()\n",
    "for i in range(10):\n",
    "    img = X_train[y_train ==i ][0].reshape(28,28)\n",
    "    ax[i].imshow(img,cmap=\"Greys\")\n",
    "ax[0].set_xticks([])\n",
    "ax[0].set_yticks([])\n",
    "plt.tight_layout()\n",
    "plt.show()"
   ]
  },
  {
   "cell_type": "code",
   "execution_count": 32,
   "metadata": {},
   "outputs": [
    {
     "data": {
      "image/png": "[encoded data removed]",
      "text/plain": [
       "<Figure size 432x288 with 25 Axes>"
      ]
     },
     "metadata": {},
     "output_type": "display_data"
    }
   ],
   "source": [
    "fig,ax = plt.subplots(nrows=5,ncols=5,sharex=True,sharey=True)\n",
    "ax =ax.flatten()\n",
    "for i in range(25):\n",
    "    img = X_train[y_train==7][i].reshape(28,28)\n",
    "    ax[i].imshow(img,cmap=\"Greys\")\n",
    "ax[0].set_xticks([])\n",
    "ax[0].set_yticks([])\n",
    "plt.tight_layout()\n",
    "plt.show()"
   ]
  },
  {
   "cell_type": "code",
   "execution_count": 33,
   "metadata": {},
   "outputs": [],
   "source": [
    "np.savez_compressed(\"mnist_scaled.npz\",\n",
    "                   X_train=X_train,\n",
    "                   y_train=y_train,\n",
    "                   X_test=X_test,\n",
    "                   y_test=y_test)"
   ]
  },
  {
   "cell_type": "code",
   "execution_count": 34,
   "metadata": {},
   "outputs": [],
   "source": [
    "mnist = np.load(\"mnist_scaled.npz\")"
   ]
  },
  {
   "cell_type": "code",
   "execution_count": 35,
   "metadata": {},
   "outputs": [
    {
     "data": {
      "text/plain": [
       "['X_train', 'y_train', 'y_test', 'X_test']"
      ]
     },
     "execution_count": 35,
     "metadata": {},
     "output_type": "execute_result"
    }
   ],
   "source": [
    "mnist.files"
   ]
  },
  {
   "cell_type": "code",
   "execution_count": 36,
   "metadata": {},
   "outputs": [],
   "source": [
    "X_train,y_train,X_test,y_test =[mnist[f] for f in mnist.files]"
   ]
  },
  {
   "cell_type": "markdown",
   "metadata": {},
   "source": [
    "多層パーセプトロンの実装"
   ]
  },
  {
   "cell_type": "code",
   "execution_count": 84,
   "metadata": {},
   "outputs": [],
   "source": [
    "class NeuralNetMLP(object):\n",
    "    \n",
    "    def __init__(self, n_hidden=30,\n",
    "                 l2=0., epochs=100, eta=0.001,\n",
    "                 shuffle=True, minibatch_size=1, seed=None):\n",
    "\n",
    "        self.random = np.random.RandomState(seed)\n",
    "        self.n_hidden = n_hidden\n",
    "        self.l2 = l2\n",
    "        self.epochs = epochs\n",
    "        self.eta = eta\n",
    "        self.shuffle = shuffle\n",
    "        self.minibatch_size = minibatch_size\n",
    "\n",
    "    def _onehot(self, y, n_classes):\n",
    "        \"\"\"Encode labels into one-hot representation\n",
    "        Parameters\n",
    "        ------------\n",
    "        y : array, shape = [n_samples]\n",
    "            Target values.\n",
    "        Returns\n",
    "        -----------\n",
    "        onehot : array, shape = (n_samples, n_labels)\n",
    "        \"\"\"\n",
    "        onehot = np.zeros((n_classes, y.shape[0]))\n",
    "        for idx, val in enumerate(y.astype(int)):\n",
    "            onehot[val, idx] = 1.\n",
    "        return onehot.T\n",
    "\n",
    "    def _sigmoid(self, z):\n",
    "        \"\"\"Compute logistic function (sigmoid)\"\"\"\n",
    "        return 1. / (1. + np.exp(-np.clip(z, -250, 250)))\n",
    "\n",
    "    def _forward(self, X):\n",
    "        \"\"\"Compute forward propagation step\"\"\"\n",
    "\n",
    "        # step 1: net input of hidden layer\n",
    "        # [n_samples, n_features] dot [n_features, n_hidden]\n",
    "        # -> [n_samples, n_hidden]\n",
    "        z_h = np.dot(X, self.w_h) + self.b_h\n",
    "\n",
    "        # step 2: activation of hidden layer\n",
    "        a_h = self._sigmoid(z_h)\n",
    "\n",
    "        # step 3: net input of output layer\n",
    "        # [n_samples, n_hidden] dot [n_hidden, n_classlabels]\n",
    "        # -> [n_samples, n_classlabels]\n",
    "\n",
    "        z_out = np.dot(a_h, self.w_out) + self.b_out\n",
    "\n",
    "        # step 4: activation output layer\n",
    "        a_out = self._sigmoid(z_out)\n",
    "\n",
    "        return z_h, a_h, z_out, a_out\n",
    "\n",
    "    def _compute_cost(self, y_enc, output):\n",
    "        \"\"\"Compute cost function.\n",
    "        Parameters\n",
    "        ----------\n",
    "        y_enc : array, shape = (n_samples, n_labels)\n",
    "            one-hot encoded class labels.\n",
    "        output : array, shape = [n_samples, n_output_units]\n",
    "            Activation of the output layer (forward propagation)\n",
    "        Returns\n",
    "        ---------\n",
    "        cost : float\n",
    "            Regularized cost\n",
    "        \"\"\"\n",
    "        L2_term = (self.l2 *\n",
    "                   (np.sum(self.w_h ** 2.) +\n",
    "                    np.sum(self.w_out ** 2.)))\n",
    "\n",
    "        term1 = -y_enc * (np.log(output))\n",
    "        term2 = (1. - y_enc) * np.log(1. - output)\n",
    "        cost = np.sum(term1 - term2) + L2_term\n",
    "        \n",
    "        # If you are applying this cost function to other\n",
    "        # datasets where activation\n",
    "        # values maybe become more extreme (closer to zero or 1)\n",
    "        # you may encounter \"ZeroDivisionError\"s due to numerical\n",
    "        # instabilities in Python & NumPy for the current implementation.\n",
    "        # I.e., the code tries to evaluate log(0), which is undefined.\n",
    "        # To address this issue, you could add a small constant to the\n",
    "        # activation values that are passed to the log function.\n",
    "        #\n",
    "        # For example:\n",
    "        #\n",
    "        # term1 = -y_enc * (np.log(output + 1e-5))\n",
    "        # term2 = (1. - y_enc) * np.log(1. - output + 1e-5)\n",
    "        \n",
    "        return cost\n",
    "\n",
    "    def predict(self, X):\n",
    "        \"\"\"Predict class labels\n",
    "        Parameters\n",
    "        -----------\n",
    "        X : array, shape = [n_samples, n_features]\n",
    "            Input layer with original features.\n",
    "        Returns:\n",
    "        ----------\n",
    "        y_pred : array, shape = [n_samples]\n",
    "            Predicted class labels.\n",
    "        \"\"\"\n",
    "        z_h, a_h, z_out, a_out = self._forward(X)\n",
    "        y_pred = np.argmax(z_out, axis=1)\n",
    "        return y_pred\n",
    "\n",
    "    \n",
    "    def fit(self, X_train, y_train, X_valid, y_valid):\n",
    "        \"\"\" Learn weights from training data.\n",
    "        Parameters\n",
    "        -----------\n",
    "        X_train : array, shape = [n_samples, n_features]\n",
    "            Input layer with original features.\n",
    "        y_train : array, shape = [n_samples]\n",
    "            Target class labels.\n",
    "        X_valid : array, shape = [n_samples, n_features]\n",
    "            Sample features for validation during training\n",
    "        y_valid : array, shape = [n_samples]\n",
    "            Sample labels for validation during training\n",
    "        Returns:\n",
    "        ----------\n",
    "        self\n",
    "        \"\"\"\n",
    "        n_output = np.unique(y_train).shape[0]  # number of class labels\n",
    "        n_features = X_train.shape[1]\n",
    "\n",
    "        ########################\n",
    "        # Weight initialization\n",
    "        ########################\n",
    "\n",
    "        # weights for input -> hidden\n",
    "        self.b_h = np.zeros(self.n_hidden)\n",
    "        self.w_h = self.random.normal(loc=0.0, scale=0.1,\n",
    "                                      size=(n_features, self.n_hidden))\n",
    "\n",
    "        # weights for hidden -> output\n",
    "        self.b_out = np.zeros(n_output)\n",
    "        self.w_out = self.random.normal(loc=0.0, scale=0.1,\n",
    "                                        size=(self.n_hidden, n_output))\n",
    "\n",
    "        epoch_strlen = len(str(self.epochs))  # for progress formatting\n",
    "        self.eval_ = {'cost': [], 'train_acc': [], 'valid_acc': []}\n",
    "\n",
    "        y_train_enc = self._onehot(y_train, n_output)\n",
    "\n",
    "        # iterate over training epochs\n",
    "        for i in range(self.epochs):\n",
    "\n",
    "            # iterate over minibatches\n",
    "            indices = np.arange(X_train.shape[0])\n",
    "\n",
    "            if self.shuffle:\n",
    "                self.random.shuffle(indices)\n",
    "\n",
    "            for start_idx in range(0, indices.shape[0] - self.minibatch_size +\n",
    "                                   1, self.minibatch_size):\n",
    "                batch_idx = indices[start_idx:start_idx + self.minibatch_size]\n",
    "\n",
    "                # forward propagation\n",
    "                z_h, a_h, z_out, a_out = self._forward(X_train[batch_idx])\n",
    "\n",
    "                ##################\n",
    "                # Backpropagation\n",
    "                ##################\n",
    "\n",
    "                # [n_samples, n_classlabels]\n",
    "                sigma_out = a_out - y_train_enc[batch_idx]\n",
    "\n",
    "                # [n_samples, n_hidden]\n",
    "                sigmoid_derivative_h = a_h * (1. - a_h)\n",
    "\n",
    "                # [n_samples, n_classlabels] dot [n_classlabels, n_hidden]\n",
    "                # -> [n_samples, n_hidden]\n",
    "                sigma_h = (np.dot(sigma_out, self.w_out.T) *\n",
    "                           sigmoid_derivative_h)\n",
    "\n",
    "                # [n_features, n_samples] dot [n_samples, n_hidden]\n",
    "                # -> [n_features, n_hidden]\n",
    "                grad_w_h = np.dot(X_train[batch_idx].T, sigma_h)\n",
    "                grad_b_h = np.sum(sigma_h, axis=0)\n",
    "\n",
    "                # [n_hidden, n_samples] dot [n_samples, n_classlabels]\n",
    "                # -> [n_hidden, n_classlabels]\n",
    "                grad_w_out = np.dot(a_h.T, sigma_out)\n",
    "                grad_b_out = np.sum(sigma_out, axis=0)\n",
    "\n",
    "                # Regularization and weight updates\n",
    "                delta_w_h = (grad_w_h + self.l2*self.w_h)\n",
    "                delta_b_h = grad_b_h # bias is not regularized\n",
    "                self.w_h -= self.eta * delta_w_h\n",
    "                self.b_h -= self.eta * delta_b_h\n",
    "\n",
    "                delta_w_out = (grad_w_out + self.l2*self.w_out)\n",
    "                delta_b_out = grad_b_out  # bias is not regularized\n",
    "                self.w_out -= self.eta * delta_w_out\n",
    "                self.b_out -= self.eta * delta_b_out\n",
    "\n",
    "            #############\n",
    "            # Evaluation\n",
    "            #############\n",
    "\n",
    "            # Evaluation after each epoch during training\n",
    "            z_h, a_h, z_out, a_out = self._forward(X_train)\n",
    "            \n",
    "            cost = self._compute_cost(y_enc=y_train_enc,\n",
    "                                      output=a_out)\n",
    "\n",
    "            y_train_pred = self.predict(X_train)\n",
    "            y_valid_pred = self.predict(X_valid)\n",
    "\n",
    "            train_acc = ((np.sum(y_train == y_train_pred)).astype(np.float) /\n",
    "                         X_train.shape[0])\n",
    "            valid_acc = ((np.sum(y_valid == y_valid_pred)).astype(np.float) /\n",
    "                         X_valid.shape[0])\n",
    "\n",
    "            sys.stderr.write('\\r%0*d/%d | Cost: %.2f '\n",
    "                             '| Train/Valid Acc.: %.2f%%/%.2f%% ' %\n",
    "                             (epoch_strlen, i+1, self.epochs, cost,\n",
    "                              train_acc*100, valid_acc*100))\n",
    "            sys.stderr.flush()\n",
    "\n",
    "            self.eval_['cost'].append(cost)\n",
    "            self.eval_['train_acc'].append(train_acc)\n",
    "            self.eval_['valid_acc'].append(valid_acc)\n",
    "\n",
    "        return self\n"
   ]
  },
  {
   "cell_type": "code",
   "execution_count": 128,
   "metadata": {},
   "outputs": [],
   "source": [
    "nn = NeuralNetMLP(n_hidden=100, \n",
    "                  l2=0.01, \n",
    "                  epochs=n_epochs, \n",
    "                  eta=0.0005,\n",
    "                  minibatch_size=100, \n",
    "                  shuffle=True,\n",
    "                  seed=1)"
   ]
  },
  {
   "cell_type": "code",
   "execution_count": 124,
   "metadata": {},
   "outputs": [
    {
     "data": {
      "text/plain": [
       "array([-2.25122416e+01,  5.64287452e+01, -3.28410915e+01, -7.89944247e+01,\n",
       "        8.15054535e+01,  8.38752125e+00, -5.43579483e+01,  8.28350694e+01,\n",
       "        6.32607183e+01, -1.79994831e+01,  1.03346363e+02,  6.09958424e+01,\n",
       "       -5.20795918e+01, -1.56624218e+01,  4.43037634e+01, -1.00381675e+02,\n",
       "       -3.37088657e+00,  1.21922163e+00, -2.77944409e+01, -8.93082077e+01,\n",
       "       -2.65090214e+01,  3.70363649e+01,  1.95233527e+01,  5.28470029e+01,\n",
       "        7.59624504e+01,  1.42757325e+02, -5.33798374e+01, -4.24397680e+01,\n",
       "       -2.64783588e+01,  5.00150850e+01, -1.69153844e+01,  5.18278931e+01,\n",
       "        5.29541491e+00, -7.26365642e+01, -1.36987582e+01, -4.88210135e+01,\n",
       "       -3.63237977e+01, -4.07709952e+00,  3.49746585e+01,  2.83781788e+01,\n",
       "       -5.71228911e+01, -6.70490463e+01, -8.12747952e+00,  5.64143856e+01,\n",
       "       -5.77709545e+01, -8.12123552e+00,  1.02007057e+02,  4.97837981e+01,\n",
       "        7.26593505e+00, -2.57381147e+01, -4.15390979e+01,  3.52199911e+01,\n",
       "       -3.41834215e+01, -6.77108262e+01,  2.00207117e+01, -1.36936127e+01,\n",
       "        7.92774374e+01, -9.59483276e+01,  1.10427372e+02,  6.54867234e+01,\n",
       "        9.35578148e+01, -1.28436050e+02,  4.10317351e+01, -2.72553137e+01,\n",
       "        4.06350360e+00,  4.30518520e+01, -8.76806442e+01,  6.92068787e+01,\n",
       "        5.05438543e+01, -4.49097258e+01, -4.21482812e+01,  6.29457478e+00,\n",
       "       -5.00283889e+01, -1.11164599e+01,  4.12513279e+01,  3.43852118e+01,\n",
       "       -1.07262169e+02,  3.09627399e+01, -7.24325912e+01, -3.83878808e+01,\n",
       "        5.82244378e+01, -1.45163729e+01,  3.86524902e+01, -4.42837785e+01,\n",
       "        3.99674964e+01, -1.40547983e+02, -1.23285941e+02,  1.51300517e+01,\n",
       "       -6.38309956e+01,  3.20790956e+01,  1.69209152e+02,  4.41057221e+01,\n",
       "        1.10702489e+02, -1.63156267e+01,  3.38386192e+01,  5.23615814e+01,\n",
       "        2.64657694e+01,  9.76923281e+00, -6.06652196e+01, -7.03678828e+01,\n",
       "        7.23664436e+01,  2.66521358e+01, -2.50532721e+01,  5.20019246e+01,\n",
       "       -2.80599839e+01,  3.10226377e+01,  5.58697879e+00,  5.05166759e+01,\n",
       "        5.23677084e+01, -9.72892368e+01, -3.41734381e+01,  1.30765369e+01,\n",
       "       -9.01016603e+01,  5.35466697e+01, -8.39395460e+00,  5.49155224e+01,\n",
       "        7.40695898e+00,  1.15424990e+01, -8.63526023e+01,  7.34690199e+01,\n",
       "       -4.99454480e+01,  2.85331255e+01, -3.65166362e+01, -9.47996843e+01,\n",
       "        7.43341871e+01, -2.29873739e+01,  5.39779476e+01, -5.60851897e+01,\n",
       "       -5.27941412e+01,  4.08619237e+01,  3.76090598e+01, -2.65398752e+01,\n",
       "       -2.93635844e+01,  3.60132334e+01,  9.49431049e+01,  4.50896225e+01,\n",
       "        9.88017905e+00, -7.48751974e+01,  3.76200750e+01,  8.79138122e+00,\n",
       "        4.58635085e+01,  2.66234869e+01,  5.85409734e+00, -6.22862407e+00,\n",
       "        5.02496732e+01, -4.79567251e-01, -2.03472211e+01, -4.41489716e+00,\n",
       "       -7.58408238e+00, -2.52417402e+01, -1.18423933e+01,  4.03729374e+00,\n",
       "        8.61559710e+01,  3.46713730e+01,  5.49299490e+01, -7.27024445e+01,\n",
       "        4.36082978e+01, -3.03761855e+00, -1.26666381e+01, -4.66768951e+01,\n",
       "        3.15829773e+01,  5.28907100e+01,  8.95879074e+01, -3.72902516e+01,\n",
       "       -1.13209187e+01,  7.40688439e+01, -2.81295854e+01,  3.74646493e+01,\n",
       "       -7.40046556e+00,  1.62982326e+01, -2.67045313e+01, -6.84771632e+01,\n",
       "        2.22503922e+01,  6.72043472e+01,  1.04867040e+02,  2.54959402e+01,\n",
       "       -4.95371568e+01, -4.14703129e+01,  6.33319116e+01,  9.95288492e+01,\n",
       "        2.82753047e+01, -6.17182682e+01, -4.29927079e+01,  1.23219660e+01,\n",
       "       -4.23823102e+01,  2.22009885e+01, -9.18713579e+01, -3.85387966e+01,\n",
       "       -4.89400824e+01,  9.09272449e+01, -1.40826094e+00,  5.01485875e+01,\n",
       "        4.13485698e+01,  1.27451879e+01,  2.82175922e+01, -2.72880144e+01,\n",
       "        2.82366322e+01, -3.55616836e+01, -3.26539494e+01,  1.07415442e+02,\n",
       "       -1.68971493e+01, -5.00858939e+01, -5.93989843e+01, -1.77721765e+01,\n",
       "       -5.52873876e+01,  8.24232067e+00,  3.95728488e+01,  2.49428163e+01,\n",
       "       -2.49262697e+00, -3.01836749e+01,  1.20208855e+02, -1.62507736e+01,\n",
       "       -1.35742532e+01,  1.10197878e+01, -4.38328735e+01, -5.02098265e+01,\n",
       "        4.36140421e+01,  4.18135109e+01,  1.40115866e+01, -7.66080178e+01,\n",
       "       -5.49158173e+00,  3.38517288e+01, -2.66033326e+01, -1.23779706e+01,\n",
       "       -4.29198110e+01,  2.60035090e+01,  9.07970466e+01,  4.55401751e+01,\n",
       "        2.77007976e+01, -1.10967207e+01, -4.23547227e+01, -3.43529491e+01,\n",
       "       -1.08185950e+01, -6.01007542e+01,  7.32930179e+01, -1.60295451e+01,\n",
       "        7.17642037e+01, -6.53352807e+01, -6.99802877e+01, -1.51051266e+02,\n",
       "        4.78092563e+01, -3.24775294e+01,  3.40858926e+01, -1.76040199e+01,\n",
       "        5.11415211e+01,  8.23792916e+01,  1.53245808e+01, -3.03988591e+01,\n",
       "       -6.17332666e+01,  8.24015470e+01, -8.11379652e+01, -3.86906158e+01,\n",
       "        9.58526839e+01,  4.12476102e+01, -1.03034748e+02, -5.91854587e+00,\n",
       "        4.05522542e+01,  1.00912289e+02, -6.62630293e+00,  2.26082756e+01,\n",
       "        5.88461985e+01, -8.84539752e+01,  1.28566653e+01,  9.98357882e+00,\n",
       "        8.13574692e-01,  1.03441002e+01, -1.22608888e+01, -3.17107311e+01,\n",
       "       -7.69781100e+00,  5.90296849e+01, -2.46065202e-01, -3.07006342e+01,\n",
       "        4.79004874e+01,  1.03061937e+02,  5.14169253e+01, -5.46237750e+01,\n",
       "        1.84096404e+00, -1.41102297e+01, -5.22709418e+01, -9.67442714e+01,\n",
       "        5.95216617e+01, -1.61186123e+01,  7.62001833e+01, -2.59893813e+01,\n",
       "       -7.02730463e+01, -5.91035802e+00, -1.93204054e+01, -4.57795800e+01,\n",
       "        9.05577276e+00,  2.00593834e+01,  7.21540090e+01,  1.36503320e+01,\n",
       "        7.16688727e+00,  6.95346148e+01,  4.72314977e+01,  2.99312310e+00,\n",
       "       -2.54086911e+01, -4.65707826e+01, -1.80338188e+01,  3.96359477e+01,\n",
       "        3.49688614e-01,  8.29950246e+01, -2.76787914e+01,  5.22487767e+01,\n",
       "        1.42615196e+01, -3.87633018e+01, -4.78153089e+01,  2.41169380e+01,\n",
       "       -8.60513668e+01,  3.74295905e+00, -1.83114931e+00,  7.68290185e+01,\n",
       "        7.30027268e+01,  1.46227144e+01, -5.51378787e+01, -3.88443876e+01,\n",
       "        2.38260033e+00, -4.38610421e+01,  6.53238298e+01,  6.43370801e+01,\n",
       "       -5.74778219e+01,  1.68546504e+00,  1.71239187e+01,  3.94816094e+01,\n",
       "        3.38484885e+01, -2.86046724e+01,  2.29456607e+01,  3.68166855e+01,\n",
       "       -6.88815744e+01,  3.37272640e+01,  7.65495838e+01, -5.29992713e+00,\n",
       "       -5.41509631e+01,  4.64626134e+01, -1.12090997e+02, -5.22777251e+01,\n",
       "        4.47162049e+01,  1.04399592e+01, -4.93688101e+01,  5.91637802e+01,\n",
       "       -7.91553112e+01, -1.27622337e+01,  2.58612308e+01,  2.98117228e+01,\n",
       "       -1.84725345e+01, -8.20472479e+01, -6.53868716e+01,  1.91420223e+01,\n",
       "        6.16882987e+01, -5.39378350e+01, -1.18961950e+02,  1.95110483e+00,\n",
       "       -3.00833244e+01,  6.64642683e+01, -1.00872585e+01, -1.97190970e+01,\n",
       "        2.71029657e+01,  2.08772527e+01, -4.85318386e+01,  1.16884256e+01,\n",
       "        1.47928890e+01, -2.38967888e+01,  1.18695145e+01, -3.25773041e+01,\n",
       "       -8.13790134e+01, -1.29743198e+01,  1.12706756e+01,  2.73793071e+01,\n",
       "       -5.40901844e+01, -1.00204485e+02,  9.06149993e+01, -6.06442348e+00,\n",
       "        8.98267941e+01,  5.01139899e+01, -9.10684851e+00, -9.31733417e+01,\n",
       "        8.18424432e+01,  2.32124162e+01, -9.97021507e+01,  8.81721851e-01,\n",
       "       -2.38292400e+01, -6.74941741e+01,  3.34954314e+01, -3.51155466e+01,\n",
       "       -7.85208860e+00, -1.99846562e+01,  3.86211172e+01, -5.70477728e+01,\n",
       "        3.28513895e+01, -1.10375861e+02,  1.04865623e+02, -4.64285441e+01,\n",
       "       -7.39898046e+01,  2.26019847e+01,  9.47894693e+01, -6.67651100e+01,\n",
       "       -1.02873139e+02, -9.98454472e+01,  4.60004914e+01,  1.17356404e+00,\n",
       "        8.25722205e+00,  1.01473564e+02,  4.97332756e+01, -3.47615272e+01,\n",
       "       -1.11294793e+02,  3.69132556e+01, -9.20983049e+01,  3.18536678e+01,\n",
       "       -2.58218900e+01,  5.35025273e+01,  1.11073283e+02, -1.58266307e+01,\n",
       "        5.11967667e+01,  6.45569277e+01,  4.10584402e+01, -7.05831844e+01,\n",
       "        1.09331380e+02, -6.23821802e+01, -6.67940366e+00,  7.70034436e+01,\n",
       "        2.62065415e+01, -6.37040860e+01, -4.17226520e+01,  6.69252891e+00,\n",
       "       -2.69782459e+01, -1.40990829e+01, -8.51856624e+01,  2.37904092e+01,\n",
       "       -6.29094948e+01, -5.28249275e+01, -4.64710540e+01, -6.79207218e+01,\n",
       "        9.61706115e+01,  4.02822973e+01, -1.44136044e+02,  4.88687450e+01,\n",
       "       -1.06859816e+02, -1.67669526e+01,  4.26285196e+01,  2.65586729e+01,\n",
       "       -3.33098361e+00, -6.99899486e+01, -5.24199509e+01, -3.59669441e+01,\n",
       "        1.12899611e+02, -1.24917090e+02, -2.27410532e+01, -1.87135573e+01,\n",
       "        1.57065411e+01, -3.91237166e+01,  1.52482929e+01,  7.72348961e+00,\n",
       "       -4.02022618e+01, -7.79134838e+01, -1.79779667e+01,  1.74986613e+01,\n",
       "       -4.16799369e+01,  8.17212182e+00,  3.27371547e+01, -8.64101158e-01,\n",
       "       -2.55915451e+01, -5.15124813e+01, -1.67636225e+01, -4.33068897e+01,\n",
       "        5.43527543e+01, -2.91634757e+01,  3.83911493e+01, -4.77281929e+00,\n",
       "        4.11400748e+00,  4.16729059e+01,  2.01165693e+00,  3.35536474e+01,\n",
       "        3.25783018e+01,  1.01210826e+01, -1.21740643e-01, -1.75754939e+01,\n",
       "       -9.12545141e+00, -3.04953847e+01, -1.38001555e+01,  3.10117243e-02,\n",
       "       -8.50330910e+00, -1.78082775e+01, -3.43706430e+01,  1.71601032e+01,\n",
       "        8.77007574e+01,  1.61808230e+01, -4.41637945e+01,  6.02578321e+01,\n",
       "       -5.33083816e+00, -9.86400570e+01, -9.95992808e+00,  6.13834082e+01,\n",
       "       -1.51332237e+01, -1.28440306e+02,  1.17639747e+00, -4.53544902e+01,\n",
       "       -1.18850108e+01,  4.50143247e+01,  3.91944935e+00, -4.77882413e+01,\n",
       "       -5.04399692e+01,  3.92501810e-01, -3.34365497e+01,  1.17864068e+02,\n",
       "       -3.05949971e+01,  1.26904062e+02,  6.45616293e+01, -6.94851749e+01,\n",
       "        2.26320851e+01, -9.42927282e+01,  5.51437537e+01,  2.23278024e+01,\n",
       "       -1.04324511e-01, -8.88741472e+00, -1.06330552e+02,  2.32236750e+01,\n",
       "        1.16888001e+02,  2.23370393e+01, -4.92425991e+01, -5.54170512e+00,\n",
       "        3.45912720e+00, -2.21925145e+01,  3.23114975e+01,  4.68182563e+01,\n",
       "       -9.33937305e+00,  1.48314554e+01,  1.02477473e+02, -2.43433671e+01,\n",
       "       -6.41852601e+01,  1.00896229e+02, -5.00819794e+01, -2.98959338e+01,\n",
       "       -3.73202276e+01,  6.75689161e+00,  6.14850270e+01, -6.32182167e+01,\n",
       "        1.53406173e+01,  6.20194380e+01,  5.95509878e+01, -1.95274924e+00,\n",
       "        7.41610241e+01, -5.05481871e+01, -7.38421899e+00, -5.83094191e+00,\n",
       "        6.74517104e+00, -1.12180530e+02,  5.13795576e+01,  5.99241775e+01,\n",
       "       -3.43029805e+01, -8.99651791e+01,  3.38090827e+01, -2.06196745e+01,\n",
       "        1.36468582e+01, -1.91245696e+01, -3.47671768e+01,  5.10436222e+01,\n",
       "        1.21417172e+01, -1.37752647e+01, -5.54262742e+01,  6.39454213e+01,\n",
       "        2.72072482e+00,  4.37802541e+01,  1.97837167e+01, -5.09443107e+01,\n",
       "        8.79064294e+01,  7.24482917e+01, -7.08805252e+01, -1.36553326e+02,\n",
       "        1.92166027e+01,  1.12986858e+01, -4.06597294e+01, -1.65146067e+01,\n",
       "       -2.37581406e+01,  2.03220948e+01, -2.08463023e+01, -7.31153151e+01,\n",
       "       -5.22732284e+01,  6.55417385e+00, -3.28650617e+01, -9.14434088e+01,\n",
       "        1.61322607e+01, -5.71111260e+01,  1.22043860e+02, -3.81273141e+00,\n",
       "       -1.97438919e+01,  3.16685083e+01,  8.91558072e+01,  3.94954856e+01,\n",
       "       -4.05911792e+01,  3.37890848e+01,  1.22104183e+01,  3.56430162e+01,\n",
       "       -4.33239276e+01,  3.34552851e+01, -1.11085192e+01,  6.03253596e+01,\n",
       "       -2.03111726e+01,  8.80307824e+00, -3.55277939e+01,  7.63635440e+00,\n",
       "       -1.45077212e+02, -1.12230578e+02,  1.05131499e+00, -4.24986965e+01,\n",
       "        2.84258578e+00,  7.04156545e+01,  3.57423334e+01,  1.83606171e+01,\n",
       "       -1.41902606e+01,  1.18432397e+01,  2.41830229e+01, -4.98447360e+00,\n",
       "        3.56911150e+00,  8.62668457e+01,  1.01511641e+02,  1.18596520e+01,\n",
       "       -4.98371746e+01,  6.76596134e+01,  1.03144242e+02,  1.07633544e+02,\n",
       "        4.00299950e+01,  5.06510221e+01, -3.90339879e+01,  7.43224212e+01,\n",
       "        1.08763042e+02, -7.99030721e+00, -3.08216392e+01, -6.17343592e+01,\n",
       "        3.16759072e+01,  2.70898450e+01,  4.20881329e+01, -2.71708893e+01,\n",
       "       -1.60843269e+01, -9.33947102e+01, -5.16116752e+01, -5.01462400e+01,\n",
       "       -7.13895268e+01, -2.47319172e+01, -8.01992397e+01, -6.25439955e+01,\n",
       "       -9.33661036e+00,  7.09477239e+01,  6.90393097e+01,  1.02537137e+01,\n",
       "        3.15811478e+00, -7.19905289e+01, -5.87632181e+01, -1.38342851e+00,\n",
       "       -4.25932865e+00, -1.50609413e+01, -3.87008635e+01, -5.66826564e+01,\n",
       "        6.45467976e+01,  6.85991044e+00, -3.33731212e+00, -4.35431682e+01,\n",
       "       -5.73887093e+01,  1.06802700e+01, -5.71539416e+01,  8.20316743e+01,\n",
       "       -6.25516377e+01,  2.32080185e+01, -9.21038385e+01,  4.78259950e+01,\n",
       "        3.08269416e+01, -4.27792981e+01,  3.54464819e+01, -2.56526607e+01,\n",
       "       -6.13793137e+01,  2.39979023e+01, -6.71532126e+01, -8.95095610e+00,\n",
       "       -7.42541001e+01,  1.46075861e+00, -1.94993711e+01, -1.21537164e+02,\n",
       "        4.56221078e+00, -1.31001803e+01, -2.76422631e+00, -6.27811067e+01,\n",
       "       -6.74733989e+01,  7.68385384e+01, -2.85309269e+01, -3.05017199e+01,\n",
       "        4.34992961e+01,  2.46371548e+01,  1.29280376e+01,  2.25593869e+01,\n",
       "        3.29436093e+01, -2.51549452e-02, -3.49040443e+01, -5.84442617e+01,\n",
       "       -3.69080564e+01,  4.58823981e+01,  2.40135741e+01,  2.86852251e+01,\n",
       "       -5.69050803e+01,  7.69514512e+01, -2.86424739e+01, -2.13209560e+01,\n",
       "        1.23258029e+01, -3.61300963e+01, -2.96564144e+01, -4.96206385e+01,\n",
       "       -1.86426905e+01, -2.36094446e+01,  1.90287045e+01,  5.84418427e+00,\n",
       "       -8.06461281e+00,  5.98905575e+00, -4.19445194e+00, -1.03742276e+02,\n",
       "       -3.84491075e+01,  5.38246497e+01, -1.04616258e+02, -1.50942293e+01,\n",
       "        1.72115398e+01,  2.90814380e+01,  3.15575376e+00, -9.92880748e+01,\n",
       "       -8.30582891e+00,  8.41432930e+01,  1.28520520e+01, -5.65454663e+01,\n",
       "        6.33800161e+01,  8.92759887e+01,  7.44439248e+00, -5.15915521e+01,\n",
       "       -3.55500164e+01,  6.57973351e+01, -3.17831025e+01, -6.00528697e+01,\n",
       "       -1.17588574e+01,  4.08345865e+01, -2.33697797e+01, -3.05206152e+01,\n",
       "       -1.97704808e+00, -1.58533861e+01,  6.21280584e+01, -3.77863632e+01,\n",
       "       -2.03400783e+01, -1.22132140e+02, -7.16094798e+01, -6.15554922e+00,\n",
       "        1.55942444e+01, -4.37498635e+01,  4.77721678e+01,  6.60473905e+01,\n",
       "        2.18070632e+01,  4.66028264e+01, -8.16983689e+01, -5.00981137e+01,\n",
       "        1.05237610e+02,  7.22301532e+01, -5.02497662e+01,  1.62493755e+01,\n",
       "       -1.77394613e+00,  2.02568027e+01,  2.33554030e+01,  4.98136652e+01,\n",
       "       -3.31882329e+01,  2.66248175e+01,  3.22342693e+01,  5.00132898e+01,\n",
       "        6.43734877e+00, -2.49429357e+01,  6.30400869e+01, -3.49365164e+01,\n",
       "        4.99320744e+01,  1.86435627e+01,  1.00383280e+02, -1.97118381e+01,\n",
       "        3.90357054e+01, -1.92001851e+01,  7.04716667e+01, -3.79392924e+01,\n",
       "        3.92339229e+01,  6.82799903e+01,  3.68766876e+01,  1.22222107e+01,\n",
       "        3.56286583e+01,  1.60420587e+02, -1.55761945e+02, -6.00406522e+01])"
      ]
     },
     "execution_count": 124,
     "metadata": {},
     "output_type": "execute_result"
    }
   ],
   "source": [
    "n_features = X_train.shape[1]\n",
    "a=nn.random.normal(loc=0.0, scale=0.1,\n",
    "                                      size=(n_features, 10000))\n",
    "\n",
    "np.dot(X_test,a.T)"
   ]
  },
  {
   "cell_type": "code",
   "execution_count": 129,
   "metadata": {},
   "outputs": [
    {
     "name": "stderr",
     "output_type": "stream",
     "text": [
      "200/200 | Cost: 5065.78 | Train/Valid Acc.: 99.28%/97.98%  "
     ]
    },
    {
     "data": {
      "text/plain": [
       "<__main__.NeuralNetMLP at 0x10fc75cc0>"
      ]
     },
     "execution_count": 129,
     "metadata": {},
     "output_type": "execute_result"
    }
   ],
   "source": [
    "nn.fit(X_train=X_train[:55000],\n",
    "      y_train=y_train[:55000],\n",
    "      X_valid = X_train[55000:],\n",
    "      y_valid = y_train[55000:])"
   ]
  },
  {
   "cell_type": "code",
   "execution_count": 100,
   "metadata": {},
   "outputs": [
    {
     "data": {
      "image/png": "[encoded data removed]",
      "text/plain": [
       "<Figure size 432x288 with 1 Axes>"
      ]
     },
     "metadata": {
      "needs_background": "light"
     },
     "output_type": "display_data"
    }
   ],
   "source": [
    "import matplotlib.pyplot as plt\n",
    "plt.plot(range(nn.epochs),nn.eval_[\"cost\"])\n",
    "plt.ylabel(\"Cost\")\n",
    "plt.xlabel(\"Epochs\")\n",
    "plt.show()"
   ]
  },
  {
   "cell_type": "code",
   "execution_count": 101,
   "metadata": {},
   "outputs": [
    {
     "data": {
      "image/png": "[encoded data removed]",
      "text/plain": [
       "<Figure size 432x288 with 1 Axes>"
      ]
     },
     "metadata": {
      "needs_background": "light"
     },
     "output_type": "display_data"
    }
   ],
   "source": [
    "plt.plot(range(nn.epochs),nn.eval_[\"train_acc\"],label=\"training\")\n",
    "plt.plot(range(nn.epochs),nn.eval_[\"valid_acc\"],label=\"validation\",linestyle=\"--\")\n",
    "plt.ylabel(\"Accuracy\")\n",
    "plt.xlabel(\"Epochs\")\n",
    "plt.legend()\n",
    "plt.show()"
   ]
  },
  {
   "cell_type": "code",
   "execution_count": 130,
   "metadata": {},
   "outputs": [
    {
     "ename": "ValueError",
     "evalue": "shapes (10000,) and (784,100) not aligned: 10000 (dim 0) != 784 (dim 0)",
     "output_type": "error",
     "traceback": [
      "\u001b[0;31m---------------------------------------------------------------------------\u001b[0m",
      "\u001b[0;31mValueError\u001b[0m                                Traceback (most recent call last)",
      "\u001b[0;32m<ipython-input-130-a98d46297586>\u001b[0m in \u001b[0;36m<module>\u001b[0;34m()\u001b[0m\n\u001b[0;32m----> 1\u001b[0;31m \u001b[0my_test_pred\u001b[0m \u001b[0;34m=\u001b[0m \u001b[0mnn\u001b[0m\u001b[0;34m.\u001b[0m\u001b[0mpredict\u001b[0m\u001b[0;34m(\u001b[0m\u001b[0mX_test\u001b[0m\u001b[0;34m)\u001b[0m\u001b[0;34m\u001b[0m\u001b[0m\n\u001b[0m\u001b[1;32m      2\u001b[0m \u001b[0macc\u001b[0m \u001b[0;34m=\u001b[0m \u001b[0;34m(\u001b[0m\u001b[0mnp\u001b[0m\u001b[0;34m.\u001b[0m\u001b[0msum\u001b[0m\u001b[0;34m(\u001b[0m\u001b[0my_teststst\u001b[0m\u001b[0;34m==\u001b[0m\u001b[0my_test_pred\u001b[0m\u001b[0;34m.\u001b[0m\u001b[0mastype\u001b[0m\u001b[0;34m(\u001b[0m\u001b[0mnp\u001b[0m\u001b[0;34m.\u001b[0m\u001b[0mfloat\u001b[0m\u001b[0;34m)\u001b[0m\u001b[0;34m/\u001b[0m\u001b[0mX_test\u001b[0m\u001b[0;34m.\u001b[0m\u001b[0mshape\u001b[0m\u001b[0;34m[\u001b[0m\u001b[0;36m0\u001b[0m\u001b[0;34m]\u001b[0m\u001b[0;34m)\u001b[0m\u001b[0;34m)\u001b[0m\u001b[0;34m\u001b[0m\u001b[0m\n\u001b[1;32m      3\u001b[0m \u001b[0mprint\u001b[0m\u001b[0;34m(\u001b[0m\u001b[0;34m\"Traning accuracy: %.2f%%\"\u001b[0m\u001b[0;34m%\u001b[0m\u001b[0;34m(\u001b[0m\u001b[0macc\u001b[0m\u001b[0;34m*\u001b[0m\u001b[0;36m100\u001b[0m\u001b[0;34m)\u001b[0m\u001b[0;34m)\u001b[0m\u001b[0;34m\u001b[0m\u001b[0m\n",
      "\u001b[0;32m<ipython-input-127-17b780ef4ff3>\u001b[0m in \u001b[0;36mpredict\u001b[0;34m(self, X)\u001b[0m\n\u001b[1;32m    125\u001b[0m             \u001b[0mPredicted\u001b[0m \u001b[0;32mclass\u001b[0m \u001b[0mlabels\u001b[0m\u001b[0;34m.\u001b[0m\u001b[0;34m\u001b[0m\u001b[0m\n\u001b[1;32m    126\u001b[0m         \"\"\"\n\u001b[0;32m--> 127\u001b[0;31m         \u001b[0mz_h\u001b[0m\u001b[0;34m,\u001b[0m \u001b[0ma_h\u001b[0m\u001b[0;34m,\u001b[0m \u001b[0mz_out\u001b[0m\u001b[0;34m,\u001b[0m \u001b[0ma_out\u001b[0m \u001b[0;34m=\u001b[0m \u001b[0mself\u001b[0m\u001b[0;34m.\u001b[0m\u001b[0m_forward\u001b[0m\u001b[0;34m(\u001b[0m\u001b[0mX\u001b[0m\u001b[0;34m)\u001b[0m\u001b[0;34m\u001b[0m\u001b[0m\n\u001b[0m\u001b[1;32m    128\u001b[0m         \u001b[0my_pred\u001b[0m \u001b[0;34m=\u001b[0m \u001b[0mnp\u001b[0m\u001b[0;34m.\u001b[0m\u001b[0margmax\u001b[0m\u001b[0;34m(\u001b[0m\u001b[0mz_out\u001b[0m\u001b[0;34m,\u001b[0m \u001b[0maxis\u001b[0m\u001b[0;34m=\u001b[0m\u001b[0;36m1\u001b[0m\u001b[0;34m)\u001b[0m\u001b[0;34m\u001b[0m\u001b[0m\n\u001b[1;32m    129\u001b[0m         \u001b[0;32mreturn\u001b[0m \u001b[0my_pred\u001b[0m\u001b[0;34m\u001b[0m\u001b[0m\n",
      "\u001b[0;32m<ipython-input-127-17b780ef4ff3>\u001b[0m in \u001b[0;36m_forward\u001b[0;34m(self, X)\u001b[0m\n\u001b[1;32m     61\u001b[0m         \u001b[0;31m# [n_samples, n_features] dot [n_features, n_hidden]\u001b[0m\u001b[0;34m\u001b[0m\u001b[0;34m\u001b[0m\u001b[0m\n\u001b[1;32m     62\u001b[0m         \u001b[0;31m# -> [n_samples, n_hidden]\u001b[0m\u001b[0;34m\u001b[0m\u001b[0;34m\u001b[0m\u001b[0m\n\u001b[0;32m---> 63\u001b[0;31m         \u001b[0mz_h\u001b[0m \u001b[0;34m=\u001b[0m \u001b[0mnp\u001b[0m\u001b[0;34m.\u001b[0m\u001b[0mdot\u001b[0m\u001b[0;34m(\u001b[0m\u001b[0mX\u001b[0m\u001b[0;34m,\u001b[0m \u001b[0mself\u001b[0m\u001b[0;34m.\u001b[0m\u001b[0mw_h\u001b[0m\u001b[0;34m)\u001b[0m \u001b[0;34m+\u001b[0m \u001b[0mself\u001b[0m\u001b[0;34m.\u001b[0m\u001b[0mb_h\u001b[0m\u001b[0;34m\u001b[0m\u001b[0m\n\u001b[0m\u001b[1;32m     64\u001b[0m \u001b[0;34m\u001b[0m\u001b[0m\n\u001b[1;32m     65\u001b[0m         \u001b[0;31m# step 2: activation of hidden layer\u001b[0m\u001b[0;34m\u001b[0m\u001b[0;34m\u001b[0m\u001b[0m\n",
      "\u001b[0;31mValueError\u001b[0m: shapes (10000,) and (784,100) not aligned: 10000 (dim 0) != 784 (dim 0)"
     ]
    }
   ],
   "source": [
    "y_test_pred = nn.predict(X_test)\n",
    "acc = (np.sum(y_teststst==y_test_pred.astype(np.float)/X_test.shape[0]))\n",
    "print(\"Traning accuracy: %.2f%%\"%(acc*100))"
   ]
  },
  {
   "cell_type": "code",
   "execution_count": 116,
   "metadata": {},
   "outputs": [
    {
     "data": {
      "text/plain": [
       "(100, 10)"
      ]
     },
     "execution_count": 116,
     "metadata": {},
     "output_type": "execute_result"
    }
   ],
   "source": [
    "nn.w_out.shape"
   ]
  },
  {
   "cell_type": "code",
   "execution_count": 108,
   "metadata": {},
   "outputs": [
    {
     "data": {
      "text/plain": [
       "(10000,)"
      ]
     },
     "execution_count": 108,
     "metadata": {},
     "output_type": "execute_result"
    }
   ],
   "source": [
    "X_test.shape"
   ]
  },
  {
   "cell_type": "code",
   "execution_count": null,
   "metadata": {},
   "outputs": [],
   "source": [
    "miscl_img = X_test[y_test != y_test_pred][:25]\n",
    "correct_lab = y_test[y_test!=y_test_pred][:25]\n",
    "miscl_lab = y_test_pred(nrows=5,ncols=5,sharex=True,sharey=True)\n",
    "ax = ax.flatten()\n",
    "for i in range(25):\n",
    "    img = miscl_img[i].reshapw(28,28)\n",
    "    ax[i].imshow(img,cmap=\"Greys\",interpolation=\"nearest\")\n",
    "    ax[i].set_title(\"%d) t: %d p: %d\"%(i+1,correct_lab[i],miscl_lab[i]))\n",
    "ax[0].set_xticks([])\n",
    "ax[0].set_yticks([])\n",
    "plt.tight_layout()\n",
    "plt.show()"
   ]
  },
  {
   "cell_type": "code",
   "execution_count": 127,
   "metadata": {},
   "outputs": [],
   "source": [
    "class NeuralNetMLP(object):\n",
    "    \"\"\" Feedforward neural network / Multi-layer perceptron classifier.\n",
    "    Parameters\n",
    "    ------------\n",
    "    n_hidden : int (default: 30)\n",
    "        Number of hidden units.\n",
    "    l2 : float (default: 0.)\n",
    "        Lambda value for L2-regularization.\n",
    "        No regularization if l2=0. (default)\n",
    "    epochs : int (default: 100)\n",
    "        Number of passes over the training set.\n",
    "    eta : float (default: 0.001)\n",
    "        Learning rate.\n",
    "    shuffle : bool (default: True)\n",
    "        Shuffles training data every epoch if True to prevent circles.\n",
    "    minibatch_size : int (default: 1)\n",
    "        Number of training samples per minibatch.\n",
    "    seed : int (default: None)\n",
    "        Random seed for initalizing weights and shuffling.\n",
    "    Attributes\n",
    "    -----------\n",
    "    eval_ : dict\n",
    "      Dictionary collecting the cost, training accuracy,\n",
    "      and validation accuracy for each epoch during training.\n",
    "    \"\"\"\n",
    "    def __init__(self, n_hidden=30,\n",
    "                 l2=0., epochs=100, eta=0.001,\n",
    "                 shuffle=True, minibatch_size=1, seed=None):\n",
    "\n",
    "        self.random = np.random.RandomState(seed)\n",
    "        self.n_hidden = n_hidden\n",
    "        self.l2 = l2\n",
    "        self.epochs = epochs\n",
    "        self.eta = eta\n",
    "        self.shuffle = shuffle\n",
    "        self.minibatch_size = minibatch_size\n",
    "\n",
    "    def _onehot(self, y, n_classes):\n",
    "        \"\"\"Encode labels into one-hot representation\n",
    "        Parameters\n",
    "        ------------\n",
    "        y : array, shape = [n_samples]\n",
    "            Target values.\n",
    "        Returns\n",
    "        -----------\n",
    "        onehot : array, shape = (n_samples, n_labels)\n",
    "        \"\"\"\n",
    "        onehot = np.zeros((n_classes, y.shape[0]))\n",
    "        for idx, val in enumerate(y.astype(int)):\n",
    "            onehot[val, idx] = 1.\n",
    "        return onehot.T\n",
    "\n",
    "    def _sigmoid(self, z):\n",
    "        \"\"\"Compute logistic function (sigmoid)\"\"\"\n",
    "        return 1. / (1. + np.exp(-np.clip(z, -250, 250)))\n",
    "\n",
    "    def _forward(self, X):\n",
    "        \"\"\"Compute forward propagation step\"\"\"\n",
    "\n",
    "        # step 1: net input of hidden layer\n",
    "        # [n_samples, n_features] dot [n_features, n_hidden]\n",
    "        # -> [n_samples, n_hidden]\n",
    "        z_h = np.dot(X, self.w_h) + self.b_h\n",
    "\n",
    "        # step 2: activation of hidden layer\n",
    "        a_h = self._sigmoid(z_h)\n",
    "\n",
    "        # step 3: net input of output layer\n",
    "        # [n_samples, n_hidden] dot [n_hidden, n_classlabels]\n",
    "        # -> [n_samples, n_classlabels]\n",
    "\n",
    "        z_out = np.dot(a_h, self.w_out) + self.b_out\n",
    "\n",
    "        # step 4: activation output layer\n",
    "        a_out = self._sigmoid(z_out)\n",
    "\n",
    "        return z_h, a_h, z_out, a_out\n",
    "\n",
    "    def _compute_cost(self, y_enc, output):\n",
    "        \"\"\"Compute cost function.\n",
    "        Parameters\n",
    "        ----------\n",
    "        y_enc : array, shape = (n_samples, n_labels)\n",
    "            one-hot encoded class labels.\n",
    "        output : array, shape = [n_samples, n_output_units]\n",
    "            Activation of the output layer (forward propagation)\n",
    "        Returns\n",
    "        ---------\n",
    "        cost : float\n",
    "            Regularized cost\n",
    "        \"\"\"\n",
    "        L2_term = (self.l2 *\n",
    "                   (np.sum(self.w_h ** 2.) +\n",
    "                    np.sum(self.w_out ** 2.)))\n",
    "\n",
    "        term1 = -y_enc * (np.log(output))\n",
    "        term2 = (1. - y_enc) * np.log(1. - output)\n",
    "        cost = np.sum(term1 - term2) + L2_term\n",
    "        \n",
    "        # If you are applying this cost function to other\n",
    "        # datasets where activation\n",
    "        # values maybe become more extreme (closer to zero or 1)\n",
    "        # you may encounter \"ZeroDivisionError\"s due to numerical\n",
    "        # instabilities in Python & NumPy for the current implementation.\n",
    "        # I.e., the code tries to evaluate log(0), which is undefined.\n",
    "        # To address this issue, you could add a small constant to the\n",
    "        # activation values that are passed to the log function.\n",
    "        #\n",
    "        # For example:\n",
    "        #\n",
    "        # term1 = -y_enc * (np.log(output + 1e-5))\n",
    "        # term2 = (1. - y_enc) * np.log(1. - output + 1e-5)\n",
    "        \n",
    "        return cost\n",
    "\n",
    "    def predict(self, X):\n",
    "        \"\"\"Predict class labels\n",
    "        Parameters\n",
    "        -----------\n",
    "        X : array, shape = [n_samples, n_features]\n",
    "            Input layer with original features.\n",
    "        Returns:\n",
    "        ----------\n",
    "        y_pred : array, shape = [n_samples]\n",
    "            Predicted class labels.\n",
    "        \"\"\"\n",
    "        z_h, a_h, z_out, a_out = self._forward(X)\n",
    "        y_pred = np.argmax(z_out, axis=1)\n",
    "        return y_pred\n",
    "\n",
    "    def fit(self, X_train, y_train, X_valid, y_valid):\n",
    "        \"\"\" Learn weights from training data.\n",
    "        Parameters\n",
    "        -----------\n",
    "        X_train : array, shape = [n_samples, n_features]\n",
    "            Input layer with original features.\n",
    "        y_train : array, shape = [n_samples]\n",
    "            Target class labels.\n",
    "        X_valid : array, shape = [n_samples, n_features]\n",
    "            Sample features for validation during training\n",
    "        y_valid : array, shape = [n_samples]\n",
    "            Sample labels for validation during training\n",
    "        Returns:\n",
    "        ----------\n",
    "        self\n",
    "        \"\"\"\n",
    "        n_output = np.unique(y_train).shape[0]  # number of class labels\n",
    "        n_features = X_train.shape[1]\n",
    "\n",
    "        ########################\n",
    "        # Weight initialization\n",
    "        ########################\n",
    "\n",
    "        # weights for input -> hidden\n",
    "        self.b_h = np.zeros(self.n_hidden)\n",
    "        self.w_h = self.random.normal(loc=0.0, scale=0.1,\n",
    "                                      size=(n_features, self.n_hidden))\n",
    "\n",
    "        # weights for hidden -> output\n",
    "        self.b_out = np.zeros(n_output)\n",
    "        self.w_out = self.random.normal(loc=0.0, scale=0.1,\n",
    "                                        size=(self.n_hidden, n_output))\n",
    "\n",
    "        epoch_strlen = len(str(self.epochs))  # for progress formatting\n",
    "        self.eval_ = {'cost': [], 'train_acc': [], 'valid_acc': []}\n",
    "\n",
    "        y_train_enc = self._onehot(y_train, n_output)\n",
    "\n",
    "        # iterate over training epochs\n",
    "        for i in range(self.epochs):\n",
    "\n",
    "            # iterate over minibatches\n",
    "            indices = np.arange(X_train.shape[0])\n",
    "\n",
    "            if self.shuffle:\n",
    "                self.random.shuffle(indices)\n",
    "\n",
    "            for start_idx in range(0, indices.shape[0] - self.minibatch_size +\n",
    "                                   1, self.minibatch_size):\n",
    "                batch_idx = indices[start_idx:start_idx + self.minibatch_size]\n",
    "\n",
    "                # forward propagation\n",
    "                z_h, a_h, z_out, a_out = self._forward(X_train[batch_idx])\n",
    "\n",
    "                ##################\n",
    "                # Backpropagation\n",
    "                ##################\n",
    "\n",
    "                # [n_samples, n_classlabels]\n",
    "                sigma_out = a_out - y_train_enc[batch_idx]\n",
    "\n",
    "                # [n_samples, n_hidden]\n",
    "                sigmoid_derivative_h = a_h * (1. - a_h)\n",
    "\n",
    "                # [n_samples, n_classlabels] dot [n_classlabels, n_hidden]\n",
    "                # -> [n_samples, n_hidden]\n",
    "                sigma_h = (np.dot(sigma_out, self.w_out.T) *\n",
    "                           sigmoid_derivative_h)\n",
    "\n",
    "                # [n_features, n_samples] dot [n_samples, n_hidden]\n",
    "                # -> [n_features, n_hidden]\n",
    "                grad_w_h = np.dot(X_train[batch_idx].T, sigma_h)\n",
    "                grad_b_h = np.sum(sigma_h, axis=0)\n",
    "\n",
    "                # [n_hidden, n_samples] dot [n_samples, n_classlabels]\n",
    "                # -> [n_hidden, n_classlabels]\n",
    "                grad_w_out = np.dot(a_h.T, sigma_out)\n",
    "                grad_b_out = np.sum(sigma_out, axis=0)\n",
    "\n",
    "                # Regularization and weight updates\n",
    "                delta_w_h = (grad_w_h + self.l2*self.w_h)\n",
    "                delta_b_h = grad_b_h # bias is not regularized\n",
    "                self.w_h -= self.eta * delta_w_h\n",
    "                self.b_h -= self.eta * delta_b_h\n",
    "\n",
    "                delta_w_out = (grad_w_out + self.l2*self.w_out)\n",
    "                delta_b_out = grad_b_out  # bias is not regularized\n",
    "                self.w_out -= self.eta * delta_w_out\n",
    "                self.b_out -= self.eta * delta_b_out\n",
    "\n",
    "            #############\n",
    "            # Evaluation\n",
    "            #############\n",
    "\n",
    "            # Evaluation after each epoch during training\n",
    "            z_h, a_h, z_out, a_out = self._forward(X_train)\n",
    "            \n",
    "            cost = self._compute_cost(y_enc=y_train_enc,\n",
    "                                      output=a_out)\n",
    "\n",
    "            y_train_pred = self.predict(X_train)\n",
    "            y_valid_pred = self.predict(X_valid)\n",
    "\n",
    "            train_acc = ((np.sum(y_train == y_train_pred)).astype(np.float) /\n",
    "                         X_train.shape[0])\n",
    "            valid_acc = ((np.sum(y_valid == y_valid_pred)).astype(np.float) /\n",
    "                         X_valid.shape[0])\n",
    "\n",
    "            sys.stderr.write('\\r%0*d/%d | Cost: %.2f '\n",
    "                             '| Train/Valid Acc.: %.2f%%/%.2f%% ' %\n",
    "                             (epoch_strlen, i+1, self.epochs, cost,\n",
    "                              train_acc*100, valid_acc*100))\n",
    "            sys.stderr.flush()\n",
    "\n",
    "            self.eval_['cost'].append(cost)\n",
    "            self.eval_['train_acc'].append(train_acc)\n",
    "            self.eval_['valid_acc'].append(valid_acc)\n",
    "\n",
    "        return self\n"
   ]
  },
  {
   "cell_type": "code",
   "execution_count": 125,
   "metadata": {},
   "outputs": [],
   "source": [
    "np.savez_compressed('mnist_scaled.npz', \n",
    "                    X_train=X_train,\n",
    "                    y_train=y_train,\n",
    "                    X_test=X_test,\n",
    "                    y_test=y_test)\n",
    "\n",
    "\n",
    "\n",
    "\n",
    "mnist = np.load('mnist_scaled.npz')"
   ]
  },
  {
   "cell_type": "code",
   "execution_count": 126,
   "metadata": {},
   "outputs": [
    {
     "data": {
      "text/plain": [
       "(60000, 784)"
      ]
     },
     "execution_count": 126,
     "metadata": {},
     "output_type": "execute_result"
    }
   ],
   "source": [
    "X_train, y_train, X_test, y_test = [mnist[f] for f in ['X_train', 'y_train', \n",
    "                                    'X_test', 'y_test']]\n",
    "\n",
    "del mnist\n",
    "\n",
    "X_train.shape"
   ]
  },
  {
   "cell_type": "code",
   "execution_count": 134,
   "metadata": {},
   "outputs": [
    {
     "data": {
      "text/plain": [
       "array([<matplotlib.axes._subplots.AxesSubplot object at 0x10fc4d400>,\n",
       "       <matplotlib.axes._subplots.AxesSubplot object at 0x117a82080>,\n",
       "       <matplotlib.axes._subplots.AxesSubplot object at 0x11c0d25f8>,\n",
       "       <matplotlib.axes._subplots.AxesSubplot object at 0x10fcbab70>,\n",
       "       <matplotlib.axes._subplots.AxesSubplot object at 0x1178b8128>,\n",
       "       <matplotlib.axes._subplots.AxesSubplot object at 0x11bf8d6a0>,\n",
       "       <matplotlib.axes._subplots.AxesSubplot object at 0x11c26d400>,\n",
       "       <matplotlib.axes._subplots.AxesSubplot object at 0x11c2681d0>,\n",
       "       <matplotlib.axes._subplots.AxesSubplot object at 0x10fc86748>,\n",
       "       <matplotlib.axes._subplots.AxesSubplot object at 0x1175e2048>],\n",
       "      dtype=object)"
      ]
     },
     "execution_count": 134,
     "metadata": {},
     "output_type": "execute_result"
    },
    {
     "data": {
      "image/png": "[encoded data removed]",
      "text/plain": [
       "<Figure size 432x288 with 10 Axes>"
      ]
     },
     "metadata": {
      "needs_background": "light"
     },
     "output_type": "display_data"
    }
   ],
   "source": [
    "fig,ax =plt.subplots(ncols=5,nrows=2)\n",
    "ax.flatten()"
   ]
  }
 ],
 "metadata": {
  "kernelspec": {
   "display_name": "Python 3",
   "language": "python",
   "name": "python3"
  },
  "language_info": {
   "codemirror_mode": {
    "name": "ipython",
    "version": 3
   },
   "file_extension": ".py",
   "mimetype": "text/x-python",
   "name": "python",
   "nbconvert_exporter": "python",
   "pygments_lexer": "ipython3",
   "version": "3.5.6"
  }
 },
 "nbformat": 4,
 "nbformat_minor": 2
}

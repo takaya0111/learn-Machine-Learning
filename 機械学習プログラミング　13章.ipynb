{
 "cells": [
  {
   "cell_type": "code",
   "execution_count": 11,
   "metadata": {},
   "outputs": [
    {
     "name": "stdout",
     "output_type": "stream",
     "text": [
      "Collecting tensorflow\n",
      "\u001b[?25l  Downloading https://files.pythonhosted.org/packages/74/fe/56818d319bd74daa17bafa1660063b492d867ed2a1f9c9e7d950ccca5503/tensorflow-1.13.1-cp35-cp35m-macosx_10_11_x86_64.whl (71.6MB)\n",
      "\u001b[K     |████████████████████████████████| 71.6MB 399kB/s eta 0:00:01     |███████▏                        | 16.0MB 185kB/s eta 0:05:00     |███████▍                        | 16.7MB 185kB/s eta 0:04:57     |███████▋                        | 17.0MB 185kB/s eta 0:04:55     |██████████████████              | 40.3MB 960kB/s eta 0:00:33     |█████████████████████████▏      | 56.4MB 550kB/s eta 0:00:28     |███████████████████████████▍    | 61.4MB 1.9MB/s eta 0:00:06     |██████████████████████████████▍ | 68.1MB 192kB/s eta 0:00:19\n",
      "\u001b[?25hCollecting tensorboard<1.14.0,>=1.13.0 (from tensorflow)\n",
      "\u001b[?25l  Downloading https://files.pythonhosted.org/packages/0f/39/bdd75b08a6fba41f098b6cb091b9e8c7a80e1b4d679a581a0ccd17b10373/tensorboard-1.13.1-py3-none-any.whl (3.2MB)\n",
      "\u001b[K     |████████████████████████████████| 3.2MB 3.7MB/s eta 0:00:01\n",
      "\u001b[?25hRequirement already satisfied: numpy>=1.13.3 in ./.local/lib/python3.5/site-packages (from tensorflow) (1.16.3)\n",
      "Collecting protobuf>=3.6.1 (from tensorflow)\n",
      "\u001b[?25l  Downloading https://files.pythonhosted.org/packages/cd/b3/963b3a897d5ae6dde86ba1c17b67a58f90a571db72644f4894dc1bd7b7f7/protobuf-3.7.1-cp35-cp35m-macosx_10_9_intel.macosx_10_9_x86_64.macosx_10_10_intel.macosx_10_10_x86_64.whl (1.3MB)\n",
      "\u001b[K     |████████████████████████████████| 1.3MB 4.6MB/s eta 0:00:01\n",
      "\u001b[?25hCollecting keras-applications>=1.0.6 (from tensorflow)\n",
      "\u001b[?25l  Downloading https://files.pythonhosted.org/packages/90/85/64c82949765cfb246bbdaf5aca2d55f400f792655927a017710a78445def/Keras_Applications-1.0.7-py2.py3-none-any.whl (51kB)\n",
      "\u001b[K     |████████████████████████████████| 61kB 3.4MB/s eta 0:00:011\n",
      "\u001b[?25hCollecting termcolor>=1.1.0 (from tensorflow)\n",
      "  Downloading https://files.pythonhosted.org/packages/8a/48/a76be51647d0eb9f10e2a4511bf3ffb8cc1e6b14e9e4fab46173aa79f981/termcolor-1.1.0.tar.gz\n",
      "Collecting keras-preprocessing>=1.0.5 (from tensorflow)\n",
      "\u001b[?25l  Downloading https://files.pythonhosted.org/packages/c0/bf/0315ef6a9fd3fc2346e85b0ff1f5f83ca17073f2c31ac719ab2e4da0d4a3/Keras_Preprocessing-1.0.9-py2.py3-none-any.whl (59kB)\n",
      "\u001b[K     |████████████████████████████████| 61kB 4.1MB/s eta 0:00:01\n",
      "\u001b[?25hCollecting absl-py>=0.1.6 (from tensorflow)\n",
      "\u001b[?25l  Downloading https://files.pythonhosted.org/packages/da/3f/9b0355080b81b15ba6a9ffcf1f5ea39e307a2778b2f2dc8694724e8abd5b/absl-py-0.7.1.tar.gz (99kB)\n",
      "\u001b[K     |████████████████████████████████| 102kB 2.5MB/s ta 0:00:011\n",
      "\u001b[?25hCollecting astor>=0.6.0 (from tensorflow)\n",
      "  Downloading https://files.pythonhosted.org/packages/35/6b/11530768cac581a12952a2aad00e1526b89d242d0b9f59534ef6e6a1752f/astor-0.7.1-py2.py3-none-any.whl\n",
      "Requirement already satisfied: wheel>=0.26 in /anaconda3/lib/python3.5/site-packages (from tensorflow) (0.31.1)\n",
      "Collecting gast>=0.2.0 (from tensorflow)\n",
      "  Downloading https://files.pythonhosted.org/packages/4e/35/11749bf99b2d4e3cceb4d55ca22590b0d7c2c62b9de38ac4a4a7f4687421/gast-0.2.2.tar.gz\n",
      "Collecting tensorflow-estimator<1.14.0rc0,>=1.13.0 (from tensorflow)\n",
      "\u001b[?25l  Downloading https://files.pythonhosted.org/packages/bb/48/13f49fc3fa0fdf916aa1419013bb8f2ad09674c275b4046d5ee669a46873/tensorflow_estimator-1.13.0-py2.py3-none-any.whl (367kB)\n",
      "\u001b[K     |████████████████████████████████| 368kB 3.0MB/s eta 0:00:01\n",
      "\u001b[?25hCollecting grpcio>=1.8.6 (from tensorflow)\n",
      "\u001b[?25l  Downloading https://files.pythonhosted.org/packages/33/da/b97d02c7dded9bd676fa27d25e4cd4d0f998b2a24410d1f5b235daef3d48/grpcio-1.20.1-cp35-cp35m-macosx_10_7_intel.whl (3.7MB)\n",
      "\u001b[K     |████████████████████████████████| 3.7MB 207kB/s eta 0:00:01\n",
      "\u001b[?25hRequirement already satisfied: six>=1.10.0 in /anaconda3/lib/python3.5/site-packages (from tensorflow) (1.11.0)\n",
      "Requirement already satisfied: werkzeug>=0.11.15 in /anaconda3/lib/python3.5/site-packages (from tensorboard<1.14.0,>=1.13.0->tensorflow) (0.15.2)\n",
      "Collecting markdown>=2.6.8 (from tensorboard<1.14.0,>=1.13.0->tensorflow)\n",
      "\u001b[?25l  Downloading https://files.pythonhosted.org/packages/f5/e4/d8c18f2555add57ff21bf25af36d827145896a07607486cc79a2aea641af/Markdown-3.1-py2.py3-none-any.whl (87kB)\n",
      "\u001b[K     |████████████████████████████████| 92kB 1.8MB/s eta 0:00:01\n",
      "\u001b[?25hRequirement already satisfied: setuptools in /anaconda3/lib/python3.5/site-packages (from protobuf>=3.6.1->tensorflow) (41.0.0)\n",
      "Requirement already satisfied: h5py in /anaconda3/lib/python3.5/site-packages (from keras-applications>=1.0.6->tensorflow) (2.8.0)\n",
      "Collecting mock>=2.0.0 (from tensorflow-estimator<1.14.0rc0,>=1.13.0->tensorflow)\n",
      "  Downloading https://files.pythonhosted.org/packages/05/d2/f94e68be6b17f46d2c353564da56e6fb89ef09faeeff3313a046cb810ca9/mock-3.0.5-py2.py3-none-any.whl\n",
      "Building wheels for collected packages: termcolor, absl-py, gast\n",
      "  Building wheel for termcolor (setup.py) ... \u001b[?25ldone\n",
      "\u001b[?25h  Stored in directory: /Users/hasegawatakashikana/Library/Caches/pip/wheels/7c/06/54/bc84598ba1daf8f970247f550b175aaaee85f68b4b0c5ab2c6\n",
      "  Building wheel for absl-py (setup.py) ... \u001b[?25ldone\n",
      "\u001b[?25h  Stored in directory: /Users/hasegawatakashikana/Library/Caches/pip/wheels/ee/98/38/46cbcc5a93cfea5492d19c38562691ddb23b940176c14f7b48\n",
      "  Building wheel for gast (setup.py) ... \u001b[?25ldone\n",
      "\u001b[?25h  Stored in directory: /Users/hasegawatakashikana/Library/Caches/pip/wheels/5c/2e/7e/a1d4d4fcebe6c381f378ce7743a3ced3699feb89bcfbdadadd\n",
      "Successfully built termcolor absl-py gast\n",
      "Installing collected packages: grpcio, absl-py, markdown, protobuf, tensorboard, keras-applications, termcolor, keras-preprocessing, astor, gast, mock, tensorflow-estimator, tensorflow\n",
      "Successfully installed absl-py-0.7.1 astor-0.7.1 gast-0.2.2 grpcio-1.20.1 keras-applications-1.0.7 keras-preprocessing-1.0.9 markdown-3.1 mock-3.0.5 protobuf-3.7.1 tensorboard-1.13.1 tensorflow-1.13.1 tensorflow-estimator-1.13.0 termcolor-1.1.0\n",
      "\u001b[33mWARNING: You are using pip version 19.1, however version 19.1.1 is available.\n",
      "You should consider upgrading via the 'pip install --upgrade pip' command.\u001b[0m\n"
     ]
    }
   ],
   "source": [
    "!pip install tensorflow"
   ]
  },
  {
   "cell_type": "code",
   "execution_count": 12,
   "metadata": {},
   "outputs": [
    {
     "name": "stdout",
     "output_type": "stream",
     "text": [
      "Collecting tensorflow-gpu\n",
      "\u001b[?25l  Downloading https://files.pythonhosted.org/packages/03/2b/ac3af64944a7867fadd0233eaddb87d7f91b38c28824132e1b202e2591c6/tensorflow_gpu-1.1.0-cp35-cp35m-macosx_10_11_x86_64.whl (81.6MB)\n",
      "\u001b[K     |████████████████████████████████| 81.6MB 2.1MB/s eta 0:00:01     |██████████████████████          | 56.2MB 663kB/s eta 0:00:39\n",
      "\u001b[?25hRequirement already satisfied: protobuf>=3.2.0 in /anaconda3/lib/python3.5/site-packages (from tensorflow-gpu) (3.7.1)\n",
      "Requirement already satisfied: werkzeug>=0.11.10 in /anaconda3/lib/python3.5/site-packages (from tensorflow-gpu) (0.15.2)\n",
      "Requirement already satisfied: wheel>=0.26 in /anaconda3/lib/python3.5/site-packages (from tensorflow-gpu) (0.31.1)\n",
      "Requirement already satisfied: numpy>=1.11.0 in ./.local/lib/python3.5/site-packages (from tensorflow-gpu) (1.16.3)\n",
      "Requirement already satisfied: six>=1.10.0 in /anaconda3/lib/python3.5/site-packages (from tensorflow-gpu) (1.11.0)\n",
      "Requirement already satisfied: setuptools in /anaconda3/lib/python3.5/site-packages (from protobuf>=3.2.0->tensorflow-gpu) (41.0.0)\n",
      "Installing collected packages: tensorflow-gpu\n",
      "Successfully installed tensorflow-gpu-1.1.0\n",
      "\u001b[33mWARNING: You are using pip version 19.1, however version 19.1.1 is available.\n",
      "You should consider upgrading via the 'pip install --upgrade pip' command.\u001b[0m\n"
     ]
    }
   ],
   "source": [
    "!pip install tensorflow-gpu"
   ]
  },
  {
   "cell_type": "code",
   "execution_count": 13,
   "metadata": {},
   "outputs": [
    {
     "name": "stdout",
     "output_type": "stream",
     "text": [
      "Collecting pip\n",
      "\u001b[?25l  Downloading https://files.pythonhosted.org/packages/5c/e0/be401c003291b56efc55aeba6a80ab790d3d4cece2778288d65323009420/pip-19.1.1-py2.py3-none-any.whl (1.4MB)\n",
      "\u001b[K     |████████████████████████████████| 1.4MB 607kB/s eta 0:00:01     |██████████████▏                 | 604kB 318kB/s eta 0:00:03\n",
      "\u001b[?25hInstalling collected packages: pip\n",
      "  Found existing installation: pip 19.1\n",
      "    Uninstalling pip-19.1:\n",
      "      Successfully uninstalled pip-19.1\n",
      "Successfully installed pip-19.1.1\n"
     ]
    }
   ],
   "source": [
    "!pip install --upgrade pip"
   ]
  },
  {
   "cell_type": "code",
   "execution_count": 24,
   "metadata": {},
   "outputs": [
    {
     "ename": "ImportError",
     "evalue": "Traceback (most recent call last):\n  File \"/anaconda3/lib/python3.5/site-packages/tensorflow/python/pywrap_tensorflow.py\", line 41, in <module>\n    from tensorflow.python.pywrap_tensorflow_internal import *\n  File \"/anaconda3/lib/python3.5/site-packages/tensorflow/python/pywrap_tensorflow_internal.py\", line 28, in <module>\n    _pywrap_tensorflow_internal = swig_import_helper()\n  File \"/anaconda3/lib/python3.5/site-packages/tensorflow/python/pywrap_tensorflow_internal.py\", line 24, in swig_import_helper\n    _mod = imp.load_module('_pywrap_tensorflow_internal', fp, pathname, description)\n  File \"/anaconda3/lib/python3.5/imp.py\", line 243, in load_module\n    return load_dynamic(name, filename, file)\n  File \"/anaconda3/lib/python3.5/imp.py\", line 343, in load_dynamic\n    return _load(spec)\nImportError: dlopen(/anaconda3/lib/python3.5/site-packages/tensorflow/python/_pywrap_tensorflow_internal.so, 10): Library not loaded: @rpath/libcublas.8.0.dylib\n  Referenced from: /anaconda3/lib/python3.5/site-packages/tensorflow/python/_pywrap_tensorflow_internal.so\n  Reason: image not found\n\n\nFailed to load the native TensorFlow runtime.\n\nSee https://www.tensorflow.org/install/install_sources#common_installation_problems\n\nfor some common reasons and solutions.  Include the entire stack trace\nabove this error message when asking for help.",
     "output_type": "error",
     "traceback": [
      "\u001b[0;31m---------------------------------------------------------------------------\u001b[0m",
      "\u001b[0;31mImportError\u001b[0m                               Traceback (most recent call last)",
      "\u001b[0;32m/anaconda3/lib/python3.5/site-packages/tensorflow/python/pywrap_tensorflow.py\u001b[0m in \u001b[0;36m<module>\u001b[0;34m()\u001b[0m\n\u001b[1;32m     40\u001b[0m     \u001b[0msys\u001b[0m\u001b[0;34m.\u001b[0m\u001b[0msetdlopenflags\u001b[0m\u001b[0;34m(\u001b[0m\u001b[0m_default_dlopen_flags\u001b[0m \u001b[0;34m|\u001b[0m \u001b[0mctypes\u001b[0m\u001b[0;34m.\u001b[0m\u001b[0mRTLD_GLOBAL\u001b[0m\u001b[0;34m)\u001b[0m\u001b[0;34m\u001b[0m\u001b[0m\n\u001b[0;32m---> 41\u001b[0;31m   \u001b[0;32mfrom\u001b[0m \u001b[0mtensorflow\u001b[0m\u001b[0;34m.\u001b[0m\u001b[0mpython\u001b[0m\u001b[0;34m.\u001b[0m\u001b[0mpywrap_tensorflow_internal\u001b[0m \u001b[0;32mimport\u001b[0m \u001b[0;34m*\u001b[0m\u001b[0;34m\u001b[0m\u001b[0m\n\u001b[0m\u001b[1;32m     42\u001b[0m   \u001b[0;32mfrom\u001b[0m \u001b[0mtensorflow\u001b[0m\u001b[0;34m.\u001b[0m\u001b[0mpython\u001b[0m\u001b[0;34m.\u001b[0m\u001b[0mpywrap_tensorflow_internal\u001b[0m \u001b[0;32mimport\u001b[0m \u001b[0m__version__\u001b[0m\u001b[0;34m\u001b[0m\u001b[0m\n",
      "\u001b[0;32m/anaconda3/lib/python3.5/site-packages/tensorflow/python/pywrap_tensorflow_internal.py\u001b[0m in \u001b[0;36m<module>\u001b[0;34m()\u001b[0m\n\u001b[1;32m     27\u001b[0m             \u001b[0;32mreturn\u001b[0m \u001b[0m_mod\u001b[0m\u001b[0;34m\u001b[0m\u001b[0m\n\u001b[0;32m---> 28\u001b[0;31m     \u001b[0m_pywrap_tensorflow_internal\u001b[0m \u001b[0;34m=\u001b[0m \u001b[0mswig_import_helper\u001b[0m\u001b[0;34m(\u001b[0m\u001b[0;34m)\u001b[0m\u001b[0;34m\u001b[0m\u001b[0m\n\u001b[0m\u001b[1;32m     29\u001b[0m     \u001b[0;32mdel\u001b[0m \u001b[0mswig_import_helper\u001b[0m\u001b[0;34m\u001b[0m\u001b[0m\n",
      "\u001b[0;32m/anaconda3/lib/python3.5/site-packages/tensorflow/python/pywrap_tensorflow_internal.py\u001b[0m in \u001b[0;36mswig_import_helper\u001b[0;34m()\u001b[0m\n\u001b[1;32m     23\u001b[0m             \u001b[0;32mtry\u001b[0m\u001b[0;34m:\u001b[0m\u001b[0;34m\u001b[0m\u001b[0m\n\u001b[0;32m---> 24\u001b[0;31m                 \u001b[0m_mod\u001b[0m \u001b[0;34m=\u001b[0m \u001b[0mimp\u001b[0m\u001b[0;34m.\u001b[0m\u001b[0mload_module\u001b[0m\u001b[0;34m(\u001b[0m\u001b[0;34m'_pywrap_tensorflow_internal'\u001b[0m\u001b[0;34m,\u001b[0m \u001b[0mfp\u001b[0m\u001b[0;34m,\u001b[0m \u001b[0mpathname\u001b[0m\u001b[0;34m,\u001b[0m \u001b[0mdescription\u001b[0m\u001b[0;34m)\u001b[0m\u001b[0;34m\u001b[0m\u001b[0m\n\u001b[0m\u001b[1;32m     25\u001b[0m             \u001b[0;32mfinally\u001b[0m\u001b[0;34m:\u001b[0m\u001b[0;34m\u001b[0m\u001b[0m\n",
      "\u001b[0;32m/anaconda3/lib/python3.5/imp.py\u001b[0m in \u001b[0;36mload_module\u001b[0;34m(name, file, filename, details)\u001b[0m\n\u001b[1;32m    242\u001b[0m         \u001b[0;32melse\u001b[0m\u001b[0;34m:\u001b[0m\u001b[0;34m\u001b[0m\u001b[0m\n\u001b[0;32m--> 243\u001b[0;31m             \u001b[0;32mreturn\u001b[0m \u001b[0mload_dynamic\u001b[0m\u001b[0;34m(\u001b[0m\u001b[0mname\u001b[0m\u001b[0;34m,\u001b[0m \u001b[0mfilename\u001b[0m\u001b[0;34m,\u001b[0m \u001b[0mfile\u001b[0m\u001b[0;34m)\u001b[0m\u001b[0;34m\u001b[0m\u001b[0m\n\u001b[0m\u001b[1;32m    244\u001b[0m     \u001b[0;32melif\u001b[0m \u001b[0mtype_\u001b[0m \u001b[0;34m==\u001b[0m \u001b[0mPKG_DIRECTORY\u001b[0m\u001b[0;34m:\u001b[0m\u001b[0;34m\u001b[0m\u001b[0m\n",
      "\u001b[0;32m/anaconda3/lib/python3.5/imp.py\u001b[0m in \u001b[0;36mload_dynamic\u001b[0;34m(name, path, file)\u001b[0m\n\u001b[1;32m    342\u001b[0m             name=name, loader=loader, origin=path)\n\u001b[0;32m--> 343\u001b[0;31m         \u001b[0;32mreturn\u001b[0m \u001b[0m_load\u001b[0m\u001b[0;34m(\u001b[0m\u001b[0mspec\u001b[0m\u001b[0;34m)\u001b[0m\u001b[0;34m\u001b[0m\u001b[0m\n\u001b[0m\u001b[1;32m    344\u001b[0m \u001b[0;34m\u001b[0m\u001b[0m\n",
      "\u001b[0;31mImportError\u001b[0m: dlopen(/anaconda3/lib/python3.5/site-packages/tensorflow/python/_pywrap_tensorflow_internal.so, 10): Library not loaded: @rpath/libcublas.8.0.dylib\n  Referenced from: /anaconda3/lib/python3.5/site-packages/tensorflow/python/_pywrap_tensorflow_internal.so\n  Reason: image not found",
      "\nDuring handling of the above exception, another exception occurred:\n",
      "\u001b[0;31mImportError\u001b[0m                               Traceback (most recent call last)",
      "\u001b[0;32m<ipython-input-24-64156d691fe5>\u001b[0m in \u001b[0;36m<module>\u001b[0;34m()\u001b[0m\n\u001b[0;32m----> 1\u001b[0;31m \u001b[0;32mimport\u001b[0m \u001b[0mtensorflow\u001b[0m \u001b[0;32mas\u001b[0m \u001b[0mtf\u001b[0m\u001b[0;34m\u001b[0m\u001b[0m\n\u001b[0m",
      "\u001b[0;32m/anaconda3/lib/python3.5/site-packages/tensorflow/__init__.py\u001b[0m in \u001b[0;36m<module>\u001b[0;34m()\u001b[0m\n\u001b[1;32m     22\u001b[0m \u001b[0;34m\u001b[0m\u001b[0m\n\u001b[1;32m     23\u001b[0m \u001b[0;31m# pylint: disable=wildcard-import\u001b[0m\u001b[0;34m\u001b[0m\u001b[0;34m\u001b[0m\u001b[0m\n\u001b[0;32m---> 24\u001b[0;31m \u001b[0;32mfrom\u001b[0m \u001b[0mtensorflow\u001b[0m\u001b[0;34m.\u001b[0m\u001b[0mpython\u001b[0m \u001b[0;32mimport\u001b[0m \u001b[0;34m*\u001b[0m\u001b[0;34m\u001b[0m\u001b[0m\n\u001b[0m\u001b[1;32m     25\u001b[0m \u001b[0;31m# pylint: enable=wildcard-import\u001b[0m\u001b[0;34m\u001b[0m\u001b[0;34m\u001b[0m\u001b[0m\n\u001b[1;32m     26\u001b[0m \u001b[0;34m\u001b[0m\u001b[0m\n",
      "\u001b[0;32m/anaconda3/lib/python3.5/site-packages/tensorflow/python/__init__.py\u001b[0m in \u001b[0;36m<module>\u001b[0;34m()\u001b[0m\n\u001b[1;32m     49\u001b[0m \u001b[0;32mimport\u001b[0m \u001b[0mnumpy\u001b[0m \u001b[0;32mas\u001b[0m \u001b[0mnp\u001b[0m\u001b[0;34m\u001b[0m\u001b[0m\n\u001b[1;32m     50\u001b[0m \u001b[0;34m\u001b[0m\u001b[0m\n\u001b[0;32m---> 51\u001b[0;31m \u001b[0;32mfrom\u001b[0m \u001b[0mtensorflow\u001b[0m\u001b[0;34m.\u001b[0m\u001b[0mpython\u001b[0m \u001b[0;32mimport\u001b[0m \u001b[0mpywrap_tensorflow\u001b[0m\u001b[0;34m\u001b[0m\u001b[0m\n\u001b[0m\u001b[1;32m     52\u001b[0m \u001b[0;34m\u001b[0m\u001b[0m\n\u001b[1;32m     53\u001b[0m \u001b[0;31m# Protocol buffers\u001b[0m\u001b[0;34m\u001b[0m\u001b[0;34m\u001b[0m\u001b[0m\n",
      "\u001b[0;32m/anaconda3/lib/python3.5/site-packages/tensorflow/python/pywrap_tensorflow.py\u001b[0m in \u001b[0;36m<module>\u001b[0;34m()\u001b[0m\n\u001b[1;32m     50\u001b[0m \u001b[0;32mfor\u001b[0m \u001b[0msome\u001b[0m \u001b[0mcommon\u001b[0m \u001b[0mreasons\u001b[0m \u001b[0;32mand\u001b[0m \u001b[0msolutions\u001b[0m\u001b[0;34m.\u001b[0m  \u001b[0mInclude\u001b[0m \u001b[0mthe\u001b[0m \u001b[0mentire\u001b[0m \u001b[0mstack\u001b[0m \u001b[0mtrace\u001b[0m\u001b[0;34m\u001b[0m\u001b[0m\n\u001b[1;32m     51\u001b[0m above this error message when asking for help.\"\"\" % traceback.format_exc()\n\u001b[0;32m---> 52\u001b[0;31m   \u001b[0;32mraise\u001b[0m \u001b[0mImportError\u001b[0m\u001b[0;34m(\u001b[0m\u001b[0mmsg\u001b[0m\u001b[0;34m)\u001b[0m\u001b[0;34m\u001b[0m\u001b[0m\n\u001b[0m\u001b[1;32m     53\u001b[0m \u001b[0;34m\u001b[0m\u001b[0m\n\u001b[1;32m     54\u001b[0m \u001b[0;31m# pylint: enable=wildcard-import,g-import-not-at-top,unused-import,line-too-long\u001b[0m\u001b[0;34m\u001b[0m\u001b[0;34m\u001b[0m\u001b[0m\n",
      "\u001b[0;31mImportError\u001b[0m: Traceback (most recent call last):\n  File \"/anaconda3/lib/python3.5/site-packages/tensorflow/python/pywrap_tensorflow.py\", line 41, in <module>\n    from tensorflow.python.pywrap_tensorflow_internal import *\n  File \"/anaconda3/lib/python3.5/site-packages/tensorflow/python/pywrap_tensorflow_internal.py\", line 28, in <module>\n    _pywrap_tensorflow_internal = swig_import_helper()\n  File \"/anaconda3/lib/python3.5/site-packages/tensorflow/python/pywrap_tensorflow_internal.py\", line 24, in swig_import_helper\n    _mod = imp.load_module('_pywrap_tensorflow_internal', fp, pathname, description)\n  File \"/anaconda3/lib/python3.5/imp.py\", line 243, in load_module\n    return load_dynamic(name, filename, file)\n  File \"/anaconda3/lib/python3.5/imp.py\", line 343, in load_dynamic\n    return _load(spec)\nImportError: dlopen(/anaconda3/lib/python3.5/site-packages/tensorflow/python/_pywrap_tensorflow_internal.so, 10): Library not loaded: @rpath/libcublas.8.0.dylib\n  Referenced from: /anaconda3/lib/python3.5/site-packages/tensorflow/python/_pywrap_tensorflow_internal.so\n  Reason: image not found\n\n\nFailed to load the native TensorFlow runtime.\n\nSee https://www.tensorflow.org/install/install_sources#common_installation_problems\n\nfor some common reasons and solutions.  Include the entire stack trace\nabove this error message when asking for help."
     ]
    }
   ],
   "source": [
    "import tensorflow as tf"
   ]
  },
  {
   "cell_type": "code",
   "execution_count": 28,
   "metadata": {},
   "outputs": [
    {
     "name": "stdout",
     "output_type": "stream",
     "text": [
      "Uninstalling tensorflow-1.13.1:\n",
      "  Would remove:\n",
      "    /anaconda3/bin/freeze_graph\n",
      "    /anaconda3/bin/saved_model_cli\n",
      "    /anaconda3/bin/tensorboard\n",
      "    /anaconda3/bin/tf_upgrade_v2\n",
      "    /anaconda3/bin/tflite_convert\n",
      "    /anaconda3/bin/toco\n",
      "    /anaconda3/bin/toco_from_protos\n",
      "    /anaconda3/lib/python3.5/site-packages/tensorflow-1.13.1.dist-info/*\n",
      "    /anaconda3/lib/python3.5/site-packages/tensorflow/*\n",
      "  Would not remove (might be manually added):\n",
      "    /anaconda3/lib/python3.5/site-packages/tensorflow/contrib/bayesflow/python/ops/entropy.py\n",
      "    /anaconda3/lib/python3.5/site-packages/tensorflow/contrib/bayesflow/python/ops/entropy_impl.py\n",
      "    /anaconda3/lib/python3.5/site-packages/tensorflow/contrib/bayesflow/python/ops/stochastic_gradient_estimators.py\n",
      "    /anaconda3/lib/python3.5/site-packages/tensorflow/contrib/bayesflow/python/ops/stochastic_graph.py\n",
      "    /anaconda3/lib/python3.5/site-packages/tensorflow/contrib/bayesflow/python/ops/stochastic_graph_impl.py\n",
      "    /anaconda3/lib/python3.5/site-packages/tensorflow/contrib/bayesflow/python/ops/stochastic_tensor.py\n",
      "    /anaconda3/lib/python3.5/site-packages/tensorflow/contrib/bayesflow/python/ops/stochastic_tensor_impl.py\n",
      "    /anaconda3/lib/python3.5/site-packages/tensorflow/contrib/bayesflow/python/ops/stochastic_variables.py\n",
      "    /anaconda3/lib/python3.5/site-packages/tensorflow/contrib/bayesflow/python/ops/variational_inference.py\n",
      "    /anaconda3/lib/python3.5/site-packages/tensorflow/contrib/bayesflow/python/ops/variational_inference_impl.py\n",
      "    /anaconda3/lib/python3.5/site-packages/tensorflow/contrib/cudnn_rnn/ops/__init__.py\n",
      "    /anaconda3/lib/python3.5/site-packages/tensorflow/contrib/cudnn_rnn/ops/gen_cudnn_rnn_ops.py\n",
      "    /anaconda3/lib/python3.5/site-packages/tensorflow/contrib/cudnn_rnn/python/ops/_cudnn_rnn_ops.so\n",
      "    /anaconda3/lib/python3.5/site-packages/tensorflow/contrib/distributions/python/ops/bernoulli.py\n",
      "    /anaconda3/lib/python3.5/site-packages/tensorflow/contrib/distributions/python/ops/beta.py\n",
      "    /anaconda3/lib/python3.5/site-packages/tensorflow/contrib/distributions/python/ops/bijectors/affine_impl.py\n",
      "    /anaconda3/lib/python3.5/site-packages/tensorflow/contrib/distributions/python/ops/bijectors/affine_linear_operator_impl.py\n",
      "    /anaconda3/lib/python3.5/site-packages/tensorflow/contrib/distributions/python/ops/bijectors/bijector.py\n",
      "    /anaconda3/lib/python3.5/site-packages/tensorflow/contrib/distributions/python/ops/bijectors/bijector_impl.py\n",
      "    /anaconda3/lib/python3.5/site-packages/tensorflow/contrib/distributions/python/ops/bijectors/bijector_test_util.py\n",
      "    /anaconda3/lib/python3.5/site-packages/tensorflow/contrib/distributions/python/ops/bijectors/chain_impl.py\n",
      "    /anaconda3/lib/python3.5/site-packages/tensorflow/contrib/distributions/python/ops/bijectors/cholesky_outer_product_impl.py\n",
      "    /anaconda3/lib/python3.5/site-packages/tensorflow/contrib/distributions/python/ops/bijectors/conditional_bijector_impl.py\n",
      "    /anaconda3/lib/python3.5/site-packages/tensorflow/contrib/distributions/python/ops/bijectors/exp_impl.py\n",
      "    /anaconda3/lib/python3.5/site-packages/tensorflow/contrib/distributions/python/ops/bijectors/identity.py\n",
      "    /anaconda3/lib/python3.5/site-packages/tensorflow/contrib/distributions/python/ops/bijectors/identity_impl.py\n",
      "    /anaconda3/lib/python3.5/site-packages/tensorflow/contrib/distributions/python/ops/bijectors/inline_impl.py\n",
      "    /anaconda3/lib/python3.5/site-packages/tensorflow/contrib/distributions/python/ops/bijectors/invert_impl.py\n",
      "    /anaconda3/lib/python3.5/site-packages/tensorflow/contrib/distributions/python/ops/bijectors/power_transform_impl.py\n",
      "    /anaconda3/lib/python3.5/site-packages/tensorflow/contrib/distributions/python/ops/bijectors/sigmoid_centered.py\n",
      "    /anaconda3/lib/python3.5/site-packages/tensorflow/contrib/distributions/python/ops/bijectors/sigmoid_centered_impl.py\n",
      "    /anaconda3/lib/python3.5/site-packages/tensorflow/contrib/distributions/python/ops/bijectors/sigmoid_impl.py\n",
      "    /anaconda3/lib/python3.5/site-packages/tensorflow/contrib/distributions/python/ops/bijectors/softmax_centered_impl.py\n",
      "    /anaconda3/lib/python3.5/site-packages/tensorflow/contrib/distributions/python/ops/bijectors/softplus_impl.py\n",
      "    /anaconda3/lib/python3.5/site-packages/tensorflow/contrib/distributions/python/ops/categorical.py\n",
      "    /anaconda3/lib/python3.5/site-packages/tensorflow/contrib/distributions/python/ops/dirichlet.py\n",
      "    /anaconda3/lib/python3.5/site-packages/tensorflow/contrib/distributions/python/ops/dirichlet_multinomial.py\n",
      "    /anaconda3/lib/python3.5/site-packages/tensorflow/contrib/distributions/python/ops/distribution.py\n",
      "    /anaconda3/lib/python3.5/site-packages/tensorflow/contrib/distributions/python/ops/exponential.py\n",
      "    /anaconda3/lib/python3.5/site-packages/tensorflow/contrib/distributions/python/ops/gamma.py\n",
      "    /anaconda3/lib/python3.5/site-packages/tensorflow/contrib/distributions/python/ops/kullback_leibler.py\n",
      "    /anaconda3/lib/python3.5/site-packages/tensorflow/contrib/distributions/python/ops/laplace.py\n",
      "    /anaconda3/lib/python3.5/site-packages/tensorflow/contrib/distributions/python/ops/multinomial.py\n",
      "    /anaconda3/lib/python3.5/site-packages/tensorflow/contrib/distributions/python/ops/normal.py\n",
      "    /anaconda3/lib/python3.5/site-packages/tensorflow/contrib/distributions/python/ops/operator_pd.py\n",
      "    /anaconda3/lib/python3.5/site-packages/tensorflow/contrib/distributions/python/ops/operator_pd_cholesky.py\n",
      "    /anaconda3/lib/python3.5/site-packages/tensorflow/contrib/distributions/python/ops/operator_pd_diag.py\n",
      "    /anaconda3/lib/python3.5/site-packages/tensorflow/contrib/distributions/python/ops/operator_pd_full.py\n",
      "    /anaconda3/lib/python3.5/site-packages/tensorflow/contrib/distributions/python/ops/operator_pd_identity.py\n",
      "    /anaconda3/lib/python3.5/site-packages/tensorflow/contrib/distributions/python/ops/operator_pd_vdvt_update.py\n",
      "    /anaconda3/lib/python3.5/site-packages/tensorflow/contrib/distributions/python/ops/operator_test_util.py\n",
      "    /anaconda3/lib/python3.5/site-packages/tensorflow/contrib/distributions/python/ops/special_math.py\n",
      "    /anaconda3/lib/python3.5/site-packages/tensorflow/contrib/distributions/python/ops/student_t.py\n",
      "    /anaconda3/lib/python3.5/site-packages/tensorflow/contrib/distributions/python/ops/transformed_distribution.py\n",
      "    /anaconda3/lib/python3.5/site-packages/tensorflow/contrib/distributions/python/ops/uniform.py\n",
      "    /anaconda3/lib/python3.5/site-packages/tensorflow/contrib/imperative/__init__.py\n",
      "    /anaconda3/lib/python3.5/site-packages/tensorflow/contrib/imperative/imperative_graph.py\n",
      "    /anaconda3/lib/python3.5/site-packages/tensorflow/contrib/imperative/imperative_mode.py\n",
      "    /anaconda3/lib/python3.5/site-packages/tensorflow/contrib/keras/python/__init__.py\n",
      "    /anaconda3/lib/python3.5/site-packages/tensorflow/contrib/keras/python/keras/__init__.py\n",
      "    /anaconda3/lib/python3.5/site-packages/tensorflow/contrib/keras/python/keras/activations.py\n",
      "    /anaconda3/lib/python3.5/site-packages/tensorflow/contrib/keras/python/keras/applications/__init__.py\n",
      "    /anaconda3/lib/python3.5/site-packages/tensorflow/contrib/keras/python/keras/applications/imagenet_utils.py\n",
      "    /anaconda3/lib/python3.5/site-packages/tensorflow/contrib/keras/python/keras/applications/inception_v3.py\n",
      "    /anaconda3/lib/python3.5/site-packages/tensorflow/contrib/keras/python/keras/applications/resnet50.py\n",
      "    /anaconda3/lib/python3.5/site-packages/tensorflow/contrib/keras/python/keras/applications/vgg16.py\n",
      "    /anaconda3/lib/python3.5/site-packages/tensorflow/contrib/keras/python/keras/applications/vgg19.py\n",
      "    /anaconda3/lib/python3.5/site-packages/tensorflow/contrib/keras/python/keras/applications/xception.py\n",
      "    /anaconda3/lib/python3.5/site-packages/tensorflow/contrib/keras/python/keras/backend.py\n",
      "    /anaconda3/lib/python3.5/site-packages/tensorflow/contrib/keras/python/keras/callbacks.py\n",
      "    /anaconda3/lib/python3.5/site-packages/tensorflow/contrib/keras/python/keras/constraints.py\n",
      "    /anaconda3/lib/python3.5/site-packages/tensorflow/contrib/keras/python/keras/datasets/__init__.py\n",
      "    /anaconda3/lib/python3.5/site-packages/tensorflow/contrib/keras/python/keras/datasets/boston_housing.py\n",
      "    /anaconda3/lib/python3.5/site-packages/tensorflow/contrib/keras/python/keras/datasets/cifar.py\n",
      "    /anaconda3/lib/python3.5/site-packages/tensorflow/contrib/keras/python/keras/datasets/cifar10.py\n",
      "    /anaconda3/lib/python3.5/site-packages/tensorflow/contrib/keras/python/keras/datasets/cifar100.py\n",
      "    /anaconda3/lib/python3.5/site-packages/tensorflow/contrib/keras/python/keras/datasets/imdb.py\n",
      "    /anaconda3/lib/python3.5/site-packages/tensorflow/contrib/keras/python/keras/datasets/mnist.py\n",
      "    /anaconda3/lib/python3.5/site-packages/tensorflow/contrib/keras/python/keras/datasets/reuters.py\n",
      "    /anaconda3/lib/python3.5/site-packages/tensorflow/contrib/keras/python/keras/engine/__init__.py\n",
      "    /anaconda3/lib/python3.5/site-packages/tensorflow/contrib/keras/python/keras/engine/topology.py\n",
      "    /anaconda3/lib/python3.5/site-packages/tensorflow/contrib/keras/python/keras/engine/training.py\n",
      "    /anaconda3/lib/python3.5/site-packages/tensorflow/contrib/keras/python/keras/initializers.py\n",
      "    /anaconda3/lib/python3.5/site-packages/tensorflow/contrib/keras/python/keras/layers/__init__.py\n",
      "    /anaconda3/lib/python3.5/site-packages/tensorflow/contrib/keras/python/keras/layers/advanced_activations.py\n",
      "    /anaconda3/lib/python3.5/site-packages/tensorflow/contrib/keras/python/keras/layers/convolutional.py\n",
      "    /anaconda3/lib/python3.5/site-packages/tensorflow/contrib/keras/python/keras/layers/convolutional_recurrent.py\n",
      "    /anaconda3/lib/python3.5/site-packages/tensorflow/contrib/keras/python/keras/layers/core.py\n",
      "    /anaconda3/lib/python3.5/site-packages/tensorflow/contrib/keras/python/keras/layers/embeddings.py\n",
      "    /anaconda3/lib/python3.5/site-packages/tensorflow/contrib/keras/python/keras/layers/local.py\n",
      "    /anaconda3/lib/python3.5/site-packages/tensorflow/contrib/keras/python/keras/layers/merge.py\n",
      "    /anaconda3/lib/python3.5/site-packages/tensorflow/contrib/keras/python/keras/layers/noise.py\n",
      "    /anaconda3/lib/python3.5/site-packages/tensorflow/contrib/keras/python/keras/layers/normalization.py\n",
      "    /anaconda3/lib/python3.5/site-packages/tensorflow/contrib/keras/python/keras/layers/pooling.py\n",
      "    /anaconda3/lib/python3.5/site-packages/tensorflow/contrib/keras/python/keras/layers/recurrent.py\n",
      "    /anaconda3/lib/python3.5/site-packages/tensorflow/contrib/keras/python/keras/layers/serialization.py\n",
      "    /anaconda3/lib/python3.5/site-packages/tensorflow/contrib/keras/python/keras/layers/wrappers.py\n",
      "    /anaconda3/lib/python3.5/site-packages/tensorflow/contrib/keras/python/keras/losses.py\n",
      "    /anaconda3/lib/python3.5/site-packages/tensorflow/contrib/keras/python/keras/metrics.py\n",
      "    /anaconda3/lib/python3.5/site-packages/tensorflow/contrib/keras/python/keras/models.py\n",
      "    /anaconda3/lib/python3.5/site-packages/tensorflow/contrib/keras/python/keras/optimizers.py\n",
      "    /anaconda3/lib/python3.5/site-packages/tensorflow/contrib/keras/python/keras/preprocessing/__init__.py\n",
      "    /anaconda3/lib/python3.5/site-packages/tensorflow/contrib/keras/python/keras/preprocessing/image.py\n",
      "    /anaconda3/lib/python3.5/site-packages/tensorflow/contrib/keras/python/keras/preprocessing/sequence.py\n",
      "    /anaconda3/lib/python3.5/site-packages/tensorflow/contrib/keras/python/keras/preprocessing/text.py\n",
      "    /anaconda3/lib/python3.5/site-packages/tensorflow/contrib/keras/python/keras/regularizers.py\n",
      "    /anaconda3/lib/python3.5/site-packages/tensorflow/contrib/keras/python/keras/testing_utils.py\n",
      "    /anaconda3/lib/python3.5/site-packages/tensorflow/contrib/keras/python/keras/utils/__init__.py\n",
      "    /anaconda3/lib/python3.5/site-packages/tensorflow/contrib/keras/python/keras/utils/conv_utils.py\n",
      "    /anaconda3/lib/python3.5/site-packages/tensorflow/contrib/keras/python/keras/utils/data_utils.py\n",
      "    /anaconda3/lib/python3.5/site-packages/tensorflow/contrib/keras/python/keras/utils/generic_utils.py\n",
      "    /anaconda3/lib/python3.5/site-packages/tensorflow/contrib/keras/python/keras/utils/io_utils.py\n",
      "    /anaconda3/lib/python3.5/site-packages/tensorflow/contrib/keras/python/keras/utils/layer_utils.py\n",
      "    /anaconda3/lib/python3.5/site-packages/tensorflow/contrib/keras/python/keras/utils/np_utils.py\n",
      "    /anaconda3/lib/python3.5/site-packages/tensorflow/contrib/keras/python/keras/utils/vis_utils.py\n",
      "    /anaconda3/lib/python3.5/site-packages/tensorflow/contrib/keras/python/keras/wrappers/__init__.py\n",
      "    /anaconda3/lib/python3.5/site-packages/tensorflow/contrib/keras/python/keras/wrappers/scikit_learn.py\n",
      "    /anaconda3/lib/python3.5/site-packages/tensorflow/contrib/layers/ops/gen_bucketization_op.py\n",
      "    /anaconda3/lib/python3.5/site-packages/tensorflow/contrib/layers/python/ops/_bucketization_op.so\n",
      "    /anaconda3/lib/python3.5/site-packages/tensorflow/contrib/learn/python/learn/dataframe/__init__.py\n",
      "    /anaconda3/lib/python3.5/site-packages/tensorflow/contrib/learn/python/learn/dataframe/dataframe.py\n",
      "    /anaconda3/lib/python3.5/site-packages/tensorflow/contrib/learn/python/learn/dataframe/estimator_utils.py\n",
      "    /anaconda3/lib/python3.5/site-packages/tensorflow/contrib/learn/python/learn/dataframe/queues/__init__.py\n",
      "    /anaconda3/lib/python3.5/site-packages/tensorflow/contrib/learn/python/learn/dataframe/queues/feeding_functions.py\n",
      "    /anaconda3/lib/python3.5/site-packages/tensorflow/contrib/learn/python/learn/dataframe/queues/feeding_queue_runner.py\n",
      "    /anaconda3/lib/python3.5/site-packages/tensorflow/contrib/learn/python/learn/dataframe/series.py\n",
      "    /anaconda3/lib/python3.5/site-packages/tensorflow/contrib/learn/python/learn/dataframe/tensorflow_dataframe.py\n",
      "    /anaconda3/lib/python3.5/site-packages/tensorflow/contrib/learn/python/learn/dataframe/transform.py\n",
      "    /anaconda3/lib/python3.5/site-packages/tensorflow/contrib/learn/python/learn/dataframe/transforms/__init__.py\n",
      "    /anaconda3/lib/python3.5/site-packages/tensorflow/contrib/learn/python/learn/dataframe/transforms/batch.py\n",
      "    /anaconda3/lib/python3.5/site-packages/tensorflow/contrib/learn/python/learn/dataframe/transforms/binary_transforms.py\n",
      "    /anaconda3/lib/python3.5/site-packages/tensorflow/contrib/learn/python/learn/dataframe/transforms/boolean_mask.py\n",
      "    /anaconda3/lib/python3.5/site-packages/tensorflow/contrib/learn/python/learn/dataframe/transforms/csv_parser.py\n",
      "    /anaconda3/lib/python3.5/site-packages/tensorflow/contrib/learn/python/learn/dataframe/transforms/densify.py\n",
      "    /anaconda3/lib/python3.5/site-packages/tensorflow/contrib/learn/python/learn/dataframe/transforms/difference.py\n",
      "    /anaconda3/lib/python3.5/site-packages/tensorflow/contrib/learn/python/learn/dataframe/transforms/example_parser.py\n",
      "    /anaconda3/lib/python3.5/site-packages/tensorflow/contrib/learn/python/learn/dataframe/transforms/hashes.py\n",
      "    /anaconda3/lib/python3.5/site-packages/tensorflow/contrib/learn/python/learn/dataframe/transforms/in_memory_source.py\n",
      "    /anaconda3/lib/python3.5/site-packages/tensorflow/contrib/learn/python/learn/dataframe/transforms/reader_source.py\n",
      "    /anaconda3/lib/python3.5/site-packages/tensorflow/contrib/learn/python/learn/dataframe/transforms/sparsify.py\n",
      "    /anaconda3/lib/python3.5/site-packages/tensorflow/contrib/learn/python/learn/dataframe/transforms/split_mask.py\n",
      "    /anaconda3/lib/python3.5/site-packages/tensorflow/contrib/learn/python/learn/dataframe/transforms/sum.py\n",
      "    /anaconda3/lib/python3.5/site-packages/tensorflow/contrib/learn/python/learn/dataframe/transforms/unary_transforms.py\n",
      "    /anaconda3/lib/python3.5/site-packages/tensorflow/contrib/learn/python/learn/tests/__init__.py\n",
      "    /anaconda3/lib/python3.5/site-packages/tensorflow/contrib/learn/python/learn/tests/dataframe/__init__.py\n",
      "    /anaconda3/lib/python3.5/site-packages/tensorflow/contrib/learn/python/learn/tests/dataframe/mocks.py\n",
      "    /anaconda3/lib/python3.5/site-packages/tensorflow/contrib/linalg/__init__.py\n",
      "    /anaconda3/lib/python3.5/site-packages/tensorflow/contrib/linalg/python/__init__.py\n",
      "    /anaconda3/lib/python3.5/site-packages/tensorflow/contrib/linalg/python/ops/__init__.py\n",
      "    /anaconda3/lib/python3.5/site-packages/tensorflow/contrib/linalg/python/ops/linear_operator.py\n",
      "    /anaconda3/lib/python3.5/site-packages/tensorflow/contrib/linalg/python/ops/linear_operator_addition.py\n",
      "    /anaconda3/lib/python3.5/site-packages/tensorflow/contrib/linalg/python/ops/linear_operator_composition.py\n",
      "    /anaconda3/lib/python3.5/site-packages/tensorflow/contrib/linalg/python/ops/linear_operator_diag.py\n",
      "    /anaconda3/lib/python3.5/site-packages/tensorflow/contrib/linalg/python/ops/linear_operator_full_matrix.py\n",
      "    /anaconda3/lib/python3.5/site-packages/tensorflow/contrib/linalg/python/ops/linear_operator_identity.py\n",
      "    /anaconda3/lib/python3.5/site-packages/tensorflow/contrib/linalg/python/ops/linear_operator_test_util.py\n",
      "    /anaconda3/lib/python3.5/site-packages/tensorflow/contrib/linalg/python/ops/linear_operator_tril.py\n",
      "    /anaconda3/lib/python3.5/site-packages/tensorflow/contrib/linalg/python/ops/linear_operator_udvh_update.py\n",
      "    /anaconda3/lib/python3.5/site-packages/tensorflow/contrib/linalg/python/ops/linear_operator_util.py\n",
      "    /anaconda3/lib/python3.5/site-packages/tensorflow/contrib/nccl/__init__.py\n",
      "    /anaconda3/lib/python3.5/site-packages/tensorflow/contrib/nccl/ops/__init__.py\n",
      "    /anaconda3/lib/python3.5/site-packages/tensorflow/contrib/nccl/ops/gen_nccl_ops.py\n",
      "    /anaconda3/lib/python3.5/site-packages/tensorflow/contrib/nccl/python/__init__.py\n",
      "    /anaconda3/lib/python3.5/site-packages/tensorflow/contrib/nccl/python/ops/__init__.py\n",
      "    /anaconda3/lib/python3.5/site-packages/tensorflow/contrib/nccl/python/ops/_nccl_ops.so\n",
      "    /anaconda3/lib/python3.5/site-packages/tensorflow/contrib/nccl/python/ops/nccl_ops.py\n",
      "    /anaconda3/lib/python3.5/site-packages/tensorflow/contrib/ndlstm/__init__.py\n",
      "    /anaconda3/lib/python3.5/site-packages/tensorflow/contrib/ndlstm/python/__init__.py\n",
      "    /anaconda3/lib/python3.5/site-packages/tensorflow/contrib/ndlstm/python/lstm1d.py\n",
      "    /anaconda3/lib/python3.5/site-packages/tensorflow/contrib/ndlstm/python/lstm2d.py\n",
      "    /anaconda3/lib/python3.5/site-packages/tensorflow/contrib/ndlstm/python/misc.py\n",
      "    /anaconda3/lib/python3.5/site-packages/tensorflow/contrib/rnn/python/ops/core_rnn.py\n",
      "    /anaconda3/lib/python3.5/site-packages/tensorflow/contrib/rnn/python/ops/core_rnn_cell_impl.py\n",
      "    /anaconda3/lib/python3.5/site-packages/tensorflow/contrib/saved_model/python/saved_model/signature_def_utils.py\n",
      "    /anaconda3/lib/python3.5/site-packages/tensorflow/contrib/seq2seq/python/ops/dynamic_attention_wrapper.py\n",
      "    /anaconda3/lib/python3.5/site-packages/tensorflow/contrib/tensor_forest/python/constants.py\n",
      "    /anaconda3/lib/python3.5/site-packages/tensorflow/contrib/tensorboard/graph_explorer/__init__.py\n",
      "    /anaconda3/lib/python3.5/site-packages/tensorflow/contrib/tensorboard/graph_explorer/proto/__init__.py\n",
      "    /anaconda3/lib/python3.5/site-packages/tensorflow/contrib/tensorboard/graph_explorer/proto/graph_explorer_pb2.py\n",
      "    /anaconda3/lib/python3.5/site-packages/tensorflow/contrib/tensorboard/plugins/trace/__init__.py\n",
      "    /anaconda3/lib/python3.5/site-packages/tensorflow/contrib/tensorboard/plugins/trace/trace.py\n",
      "    /anaconda3/lib/python3.5/site-packages/tensorflow/contrib/tensorboard/plugins/trace/trace_info_pb2.py\n",
      "    /anaconda3/lib/python3.5/site-packages/tensorflow/contrib/tfprof/python/__init__.py\n",
      "    /anaconda3/lib/python3.5/site-packages/tensorflow/contrib/tfprof/python/tools/__init__.py\n",
      "    /anaconda3/lib/python3.5/site-packages/tensorflow/contrib/tfprof/python/tools/tfprof/__init__.py\n",
      "    /anaconda3/lib/python3.5/site-packages/tensorflow/contrib/tfprof/python/tools/tfprof/_pywrap_tensorflow_print_model_analysis_lib.so\n",
      "    /anaconda3/lib/python3.5/site-packages/tensorflow/contrib/tfprof/python/tools/tfprof/model_analyzer.py\n",
      "    /anaconda3/lib/python3.5/site-packages/tensorflow/contrib/tfprof/python/tools/tfprof/pywrap_tensorflow_print_model_analysis_lib.py\n",
      "    /anaconda3/lib/python3.5/site-packages/tensorflow/contrib/tfprof/python/tools/tfprof/tfprof_logger.py\n",
      "    /anaconda3/lib/python3.5/site-packages/tensorflow/contrib/training/python/training/failure_tolerator.py\n",
      "    /anaconda3/lib/python3.5/site-packages/tensorflow/contrib/training/python/training/feeder.py\n",
      "    /anaconda3/lib/python3.5/site-packages/tensorflow/include/Eigen/src/Core/arch/CUDA/Half.h\n",
      "    /anaconda3/lib/python3.5/site-packages/tensorflow/include/Eigen/src/Core/arch/CUDA/MathFunctions.h\n",
      "    /anaconda3/lib/python3.5/site-packages/tensorflow/include/Eigen/src/Core/arch/CUDA/PacketMath.h\n",
      "    /anaconda3/lib/python3.5/site-packages/tensorflow/include/Eigen/src/Core/arch/CUDA/PacketMathHalf.h\n",
      "    /anaconda3/lib/python3.5/site-packages/tensorflow/include/Eigen/src/Core/arch/CUDA/TypeCasting.h\n",
      "    /anaconda3/lib/python3.5/site-packages/tensorflow/include/external/eigen_archive/Eigen/src/Core/arch/CUDA/Half.h\n",
      "    /anaconda3/lib/python3.5/site-packages/tensorflow/include/external/eigen_archive/Eigen/src/Core/arch/CUDA/MathFunctions.h\n",
      "    /anaconda3/lib/python3.5/site-packages/tensorflow/include/external/eigen_archive/Eigen/src/Core/arch/CUDA/PacketMath.h\n",
      "    /anaconda3/lib/python3.5/site-packages/tensorflow/include/external/eigen_archive/Eigen/src/Core/arch/CUDA/PacketMathHalf.h\n",
      "    /anaconda3/lib/python3.5/site-packages/tensorflow/include/external/eigen_archive/Eigen/src/Core/arch/CUDA/TypeCasting.h\n",
      "    /anaconda3/lib/python3.5/site-packages/tensorflow/include/external/eigen_archive/unsupported/Eigen/CXX11/src/ThreadPool/SimpleThreadPool.h\n",
      "    /anaconda3/lib/python3.5/site-packages/tensorflow/include/external/eigen_archive/unsupported/Eigen/src/SpecialFunctions/arch/CUDA/CudaSpecialFunctions.h\n",
      "    /anaconda3/lib/python3.5/site-packages/tensorflow/include/google/protobuf/compiler/javanano/javanano_enum.h\n",
      "    /anaconda3/lib/python3.5/site-packages/tensorflow/include/google/protobuf/compiler/javanano/javanano_enum_field.h\n",
      "    /anaconda3/lib/python3.5/site-packages/tensorflow/include/google/protobuf/compiler/javanano/javanano_extension.h\n",
      "    /anaconda3/lib/python3.5/site-packages/tensorflow/include/google/protobuf/compiler/javanano/javanano_field.h\n",
      "    /anaconda3/lib/python3.5/site-packages/tensorflow/include/google/protobuf/compiler/javanano/javanano_file.h\n",
      "    /anaconda3/lib/python3.5/site-packages/tensorflow/include/google/protobuf/compiler/javanano/javanano_generator.h\n",
      "    /anaconda3/lib/python3.5/site-packages/tensorflow/include/google/protobuf/compiler/javanano/javanano_helpers.h\n",
      "    /anaconda3/lib/python3.5/site-packages/tensorflow/include/google/protobuf/compiler/javanano/javanano_map_field.h\n",
      "    /anaconda3/lib/python3.5/site-packages/tensorflow/include/google/protobuf/compiler/javanano/javanano_message.h\n",
      "    /anaconda3/lib/python3.5/site-packages/tensorflow/include/google/protobuf/compiler/javanano/javanano_message_field.h\n",
      "    /anaconda3/lib/python3.5/site-packages/tensorflow/include/google/protobuf/compiler/javanano/javanano_params.h\n",
      "    /anaconda3/lib/python3.5/site-packages/tensorflow/include/google/protobuf/compiler/javanano/javanano_primitive_field.h\n",
      "    /anaconda3/lib/python3.5/site-packages/tensorflow/include/google/protobuf/stubs/atomic_sequence_num.h\n",
      "    /anaconda3/lib/python3.5/site-packages/tensorflow/include/google/protobuf/stubs/atomicops.h\n",
      "    /anaconda3/lib/python3.5/site-packages/tensorflow/include/google/protobuf/stubs/atomicops_internals_arm64_gcc.h\n",
      "    /anaconda3/lib/python3.5/site-packages/tensorflow/include/google/protobuf/stubs/atomicops_internals_arm_gcc.h\n",
      "    /anaconda3/lib/python3.5/site-packages/tensorflow/include/google/protobuf/stubs/atomicops_internals_arm_qnx.h\n",
      "    /anaconda3/lib/python3.5/site-packages/tensorflow/include/google/protobuf/stubs/atomicops_internals_atomicword_compat.h\n",
      "    /anaconda3/lib/python3.5/site-packages/tensorflow/include/google/protobuf/stubs/atomicops_internals_generic_c11_atomic.h\n",
      "    /anaconda3/lib/python3.5/site-packages/tensorflow/include/google/protobuf/stubs/atomicops_internals_generic_gcc.h\n",
      "    /anaconda3/lib/python3.5/site-packages/tensorflow/include/google/protobuf/stubs/atomicops_internals_mips_gcc.h\n",
      "    /anaconda3/lib/python3.5/site-packages/tensorflow/include/google/protobuf/stubs/atomicops_internals_power.h\n",
      "    /anaconda3/lib/python3.5/site-packages/tensorflow/include/google/protobuf/stubs/atomicops_internals_ppc_gcc.h\n",
      "    /anaconda3/lib/python3.5/site-packages/tensorflow/include/google/protobuf/stubs/atomicops_internals_solaris.h\n",
      "    /anaconda3/lib/python3.5/site-packages/tensorflow/include/google/protobuf/stubs/atomicops_internals_tsan.h\n",
      "    /anaconda3/lib/python3.5/site-packages/tensorflow/include/google/protobuf/stubs/atomicops_internals_x86_gcc.h\n",
      "    /anaconda3/lib/python3.5/site-packages/tensorflow/include/google/protobuf/stubs/atomicops_internals_x86_msvc.h\n",
      "    /anaconda3/lib/python3.5/site-packages/tensorflow/include/google/protobuf/stubs/scoped_ptr.h\n",
      "    /anaconda3/lib/python3.5/site-packages/tensorflow/include/google/protobuf/stubs/shared_ptr.h\n",
      "    /anaconda3/lib/python3.5/site-packages/tensorflow/include/google/protobuf/stubs/type_traits.h\n",
      "    /anaconda3/lib/python3.5/site-packages/tensorflow/include/tensorflow/core/common_runtime/gpu/gpu_event_mgr.h\n",
      "    /anaconda3/lib/python3.5/site-packages/tensorflow/include/tensorflow/core/common_runtime/simple_graph_execution_state.h\n",
      "    /anaconda3/lib/python3.5/site-packages/tensorflow/include/tensorflow/core/common_runtime/simple_placer.h\n",
      "    /anaconda3/lib/python3.5/site-packages/tensorflow/include/tensorflow/core/common_runtime/visitable_allocator.h\n",
      "    /anaconda3/lib/python3.5/site-packages/tensorflow/include/tensorflow/core/graph/equal_graph_def.h\n",
      "    /anaconda3/lib/python3.5/site-packages/tensorflow/include/tensorflow/core/graph/mkl_optimizer_merge.h\n",
      "    /anaconda3/lib/python3.5/site-packages/tensorflow/include/tensorflow/core/kernels/no_op.h\n",
      "    /anaconda3/lib/python3.5/site-packages/tensorflow/include/tensorflow/core/kernels/sendrecv_ops.h\n",
      "    /anaconda3/lib/python3.5/site-packages/tensorflow/include/tensorflow/core/lib/core/casts.h\n",
      "    /anaconda3/lib/python3.5/site-packages/tensorflow/include/tensorflow/core/lib/gtl/array_slice_internal.h\n",
      "    /anaconda3/lib/python3.5/site-packages/tensorflow/include/tensorflow/core/platform/default/from_stream_executor_status.h\n",
      "    /anaconda3/lib/python3.5/site-packages/tensorflow/include/tensorflow/core/platform/default/stream_executor.h\n",
      "    /anaconda3/lib/python3.5/site-packages/tensorflow/include/tensorflow/core/platform/default/stream_executor_no_cuda.h\n",
      "    /anaconda3/lib/python3.5/site-packages/tensorflow/include/tensorflow/core/platform/png.h\n",
      "    /anaconda3/lib/python3.5/site-packages/tensorflow/include/tensorflow/stream_executor/lib/casts.h\n",
      "    /anaconda3/lib/python3.5/site-packages/tensorflow/include/tensorflow/stream_executor/lib/inlined_vector.h\n",
      "    /anaconda3/lib/python3.5/site-packages/tensorflow/include/tensorflow/stream_executor/lib/strcat.h\n",
      "    /anaconda3/lib/python3.5/site-packages/tensorflow/include/tensorflow/stream_executor/lib/stringpiece.h\n",
      "    /anaconda3/lib/python3.5/site-packages/tensorflow/include/tensorflow/stream_executor/machine_manager.h\n",
      "    /anaconda3/lib/python3.5/site-packages/tensorflow/include/unsupported/Eigen/CXX11/src/ThreadPool/SimpleThreadPool.h\n",
      "    /anaconda3/lib/python3.5/site-packages/tensorflow/include/unsupported/Eigen/src/SpecialFunctions/arch/CUDA/CudaSpecialFunctions.h\n",
      "    /anaconda3/lib/python3.5/site-packages/tensorflow/python/estimator/checkpoint_utils.py\n",
      "    /anaconda3/lib/python3.5/site-packages/tensorflow/python/ops/spectral_grad.py\n",
      "    /anaconda3/lib/python3.5/site-packages/tensorflow/python/ops/spectral_ops.py\n",
      "    /anaconda3/lib/python3.5/site-packages/tensorflow/python/ops/summary_ops.py\n",
      "    /anaconda3/lib/python3.5/site-packages/tensorflow/tensorboard/TAG\n",
      "    /anaconda3/lib/python3.5/site-packages/tensorflow/tensorboard/__init__.py\n",
      "    /anaconda3/lib/python3.5/site-packages/tensorflow/tensorboard/__main__.py\n",
      "    /anaconda3/lib/python3.5/site-packages/tensorflow/tensorboard/backend/__init__.py\n",
      "    /anaconda3/lib/python3.5/site-packages/tensorflow/tensorboard/backend/application.py\n",
      "    /anaconda3/lib/python3.5/site-packages/tensorflow/tensorboard/backend/event_processing/__init__.py\n",
      "    /anaconda3/lib/python3.5/site-packages/tensorflow/tensorboard/backend/event_processing/directory_watcher.py\n",
      "    /anaconda3/lib/python3.5/site-packages/tensorflow/tensorboard/backend/event_processing/event_accumulator.py\n",
      "    /anaconda3/lib/python3.5/site-packages/tensorflow/tensorboard/backend/event_processing/event_file_inspector.py\n",
      "    /anaconda3/lib/python3.5/site-packages/tensorflow/tensorboard/backend/event_processing/event_file_loader.py\n",
      "    /anaconda3/lib/python3.5/site-packages/tensorflow/tensorboard/backend/event_processing/event_multiplexer.py\n",
      "    /anaconda3/lib/python3.5/site-packages/tensorflow/tensorboard/backend/event_processing/io_wrapper.py\n",
      "    /anaconda3/lib/python3.5/site-packages/tensorflow/tensorboard/backend/event_processing/plugin_asset_util.py\n",
      "    /anaconda3/lib/python3.5/site-packages/tensorflow/tensorboard/backend/event_processing/reservoir.py\n",
      "    /anaconda3/lib/python3.5/site-packages/tensorflow/tensorboard/backend/process_graph.py\n",
      "    /anaconda3/lib/python3.5/site-packages/tensorflow/tensorboard/dist/bazel-html-imports.html\n",
      "    /anaconda3/lib/python3.5/site-packages/tensorflow/tensorboard/dist/index.html\n",
      "    /anaconda3/lib/python3.5/site-packages/tensorflow/tensorboard/dist/tf-tensorboard.html\n",
      "    /anaconda3/lib/python3.5/site-packages/tensorflow/tensorboard/lib/__init__.py\n",
      "    /anaconda3/lib/python3.5/site-packages/tensorflow/tensorboard/lib/css/global.css\n",
      "    /anaconda3/lib/python3.5/site-packages/tensorflow/tensorboard/lib/python/__init__.py\n",
      "    /anaconda3/lib/python3.5/site-packages/tensorflow/tensorboard/lib/python/http_util.py\n",
      "    /anaconda3/lib/python3.5/site-packages/tensorflow/tensorboard/lib/python/json_util.py\n",
      "    /anaconda3/lib/python3.5/site-packages/tensorflow/tensorboard/plugins/__init__.py\n",
      "    /anaconda3/lib/python3.5/site-packages/tensorflow/tensorboard/plugins/base_plugin.py\n",
      "    /anaconda3/lib/python3.5/site-packages/tensorflow/tensorboard/plugins/debugger/__init__.py\n",
      "    /anaconda3/lib/python3.5/site-packages/tensorflow/tensorboard/plugins/debugger/debugger_plugin.py\n",
      "    /anaconda3/lib/python3.5/site-packages/tensorflow/tensorboard/plugins/projector/__init__.py\n",
      "    /anaconda3/lib/python3.5/site-packages/tensorflow/tensorboard/plugins/projector/projector_plugin.py\n",
      "    /anaconda3/lib/python3.5/site-packages/tensorflow/tensorboard/tensorboard.py\n",
      "    /anaconda3/lib/python3.5/site-packages/tensorflow/tools/tfprof/__init__.py\n",
      "    /anaconda3/lib/python3.5/site-packages/tensorflow/tools/tfprof/tfprof_log_pb2.py\n",
      "    /anaconda3/lib/python3.5/site-packages/tensorflow/tools/tfprof/tfprof_options_pb2.py\n",
      "    /anaconda3/lib/python3.5/site-packages/tensorflow/tools/tfprof/tfprof_output_pb2.py\n"
     ]
    },
    {
     "name": "stdout",
     "output_type": "stream",
     "text": [
      "Proceed (y/n)? ^C\r\n",
      "\u001b[31mERROR: Operation cancelled by user\u001b[0m\r\n"
     ]
    }
   ],
   "source": [
    "!pip uninstall tensorflow"
   ]
  },
  {
   "cell_type": "code",
   "execution_count": 16,
   "metadata": {},
   "outputs": [],
   "source": [
    "!export CUDA_HOME=/usr/local/cuda\n",
    "!export DYLD_LIBRARY_PATH=/usr/local/cuda/lib:/usr/local/cuda/extras/CUPTI/lib\n",
    "!export LD_LIBRARY_PATH=$DYLD_LIBRARY_PATH\n",
    "!export PATH=$DYLD_LIBRARY_PATH:$PATH"
   ]
  },
  {
   "cell_type": "code",
   "execution_count": 22,
   "metadata": {},
   "outputs": [
    {
     "name": "stdout",
     "output_type": "stream",
     "text": [
      "error: /Library/Developer/CommandLineTools/usr/bin/install_name_tool: can't open file: **CHANGETHISPATH**/python3.5/site-packages/tensorflow/python/_pywrap_tensorflow_internal.so (No such file or directory)\r\n"
     ]
    }
   ],
   "source": [
    "!install_name_tool -change @rpath/libcusolver.9.2.dylib /usr/local/cuda/lib/libcusolver.9.2.dylib -change @rpath/libcudart.9.2.dylib /usr/local/cuda/lib/libcudart.9.2.dylib -change @rpath/libcublas.9.2.dylib /usr/local/cuda/lib/libcublas.9.2.dylib **CHANGETHISPATH**/python3.5/site-packages/tensorflow/python/_pywrap_tensorflow_internal.so"
   ]
  },
  {
   "cell_type": "code",
   "execution_count": 33,
   "metadata": {},
   "outputs": [
    {
     "name": "stdout",
     "output_type": "stream",
     "text": [
      "\u001b[1;34m==>\u001b[1;39m This script will install:\u001b[0m\r\n",
      "/usr/local/bin/brew\r\n",
      "/usr/local/share/doc/homebrew\r\n",
      "/usr/local/share/man/man1/brew.1\r\n",
      "/usr/local/share/zsh/site-functions/_brew\r\n",
      "/usr/local/etc/bash_completion.d/brew\r\n",
      "/usr/local/Homebrew\r\n",
      "\r\n",
      "Press RETURN to continue or any other key to abort\r\n"
     ]
    }
   ],
   "source": [
    "!ruby -e \"$(curl -fsSL https://raw.githubusercontent.com/Homebrew/install/master/install)\""
   ]
  },
  {
   "cell_type": "code",
   "execution_count": 34,
   "metadata": {},
   "outputs": [
    {
     "name": "stdout",
     "output_type": "stream",
     "text": [
      "b'Hello, TensorFlow!'\n",
      "421\n"
     ]
    }
   ],
   "source": [
    "import tensorflow as tf\n",
    "hello = tf.constant('Hello, TensorFlow!')\n",
    "sess = tf.Session()\n",
    "print(sess.run(hello))\n",
    "\n",
    "a = tf.constant(100)\n",
    "b = tf.constant(321)\n",
    "print(sess.run(a + b))"
   ]
  },
  {
   "cell_type": "code",
   "execution_count": 36,
   "metadata": {},
   "outputs": [
    {
     "name": "stdout",
     "output_type": "stream",
     "text": [
      "x= 1.0 --> z= 2.7\n",
      "x= 0.6 --> z= 1.9\n",
      "x=-1.8 --> z=-2.9\n"
     ]
    }
   ],
   "source": [
    "#計算グラフを作成\n",
    "g = tf.Graph()\n",
    "with g.as_default():\n",
    "    x = tf.placeholder(dtype=tf.float32,shape=(None),name=\"x\")\n",
    "    w = tf.Variable(2.0,name=\"weight\")\n",
    "    b = tf.Variable(0.7,name=\"bias\")\n",
    "    z = w*x + b\n",
    "    init = tf.global_variables_initializer()\n",
    "    \n",
    "#セッションを作成し計算グラフgを渡す\n",
    "with tf.Session(graph=g) as sess:\n",
    "    ##wとbを初期化\n",
    "    sess.run(init)\n",
    "    ##zを評価\n",
    "    for t in [1.0,0.6,-1.8]:\n",
    "        print(\"x=%4.1f --> z=%4.1f\"%(t,sess.run(z,feed_dict={x:t})))"
   ]
  },
  {
   "cell_type": "code",
   "execution_count": 37,
   "metadata": {},
   "outputs": [
    {
     "name": "stdout",
     "output_type": "stream",
     "text": [
      "[2.7 4.7 6.7]\n"
     ]
    }
   ],
   "source": [
    "with tf.Session(graph=g) as sess:\n",
    "    ##wとbを初期化\n",
    "    sess.run(init)\n",
    "    print(sess.run(z,feed_dict={x:[1.,2.,3.]}))"
   ]
  },
  {
   "cell_type": "code",
   "execution_count": 38,
   "metadata": {},
   "outputs": [],
   "source": [
    "import numpy as np"
   ]
  },
  {
   "cell_type": "code",
   "execution_count": 39,
   "metadata": {},
   "outputs": [
    {
     "name": "stdout",
     "output_type": "stream",
     "text": [
      "input shape:  (3, 2, 3)\n",
      "Reshaped:\n",
      " [[ 0.  1.  2.  3.  4.  5.]\n",
      " [ 6.  7.  8.  9. 10. 11.]\n",
      " [12. 13. 14. 15. 16. 17.]]\n",
      "Column Sums:\n",
      " [18. 21. 24. 27. 30. 33.]\n",
      "Column Means:\n",
      " [ 6.  7.  8.  9. 10. 11.]\n"
     ]
    }
   ],
   "source": [
    "g = tf.Graph()\n",
    "\n",
    "with g.as_default():\n",
    "    x = tf.placeholder(dtype=tf.float32,shape=(None,2,3),name=\"input_x\")\n",
    "    x2 = tf.reshape(x,shape=(-1,6),name=\"x2\")\n",
    "    \n",
    "    #各列の合計を求める\n",
    "    xsum = tf.reduce_sum(x2,axis=0,name=\"col_sum\")\n",
    "    #各列の平均を求める\n",
    "    xmean = tf.reduce_mean(x2,axis=0,name=\"col_mean\")\n",
    "    \n",
    "with tf.Session(graph=g) as sess:\n",
    "    x_array = np.arange(18).reshape(3,2,3)\n",
    "    print(\"input shape: \",x_array.shape)\n",
    "    print(\"Reshaped:\\n\",sess.run(x2,feed_dict={x:x_array}))\n",
    "    print(\"Column Sums:\\n\",sess.run(xsum,feed_dict={x:x_array}))\n",
    "    print(\"Column Means:\\n\",sess.run(xmean,feed_dict={x:x_array}))"
   ]
  },
  {
   "cell_type": "code",
   "execution_count": 44,
   "metadata": {},
   "outputs": [],
   "source": [
    "\n",
    "a =  np.arange(10).reshape(10,1)\n",
    "X_train = np.arange(10).reshape((10,1))"
   ]
  },
  {
   "cell_type": "code",
   "execution_count": 55,
   "metadata": {},
   "outputs": [],
   "source": [
    "y_train = np.array([1.0,1.3,3.1,2.0,5.0,6.3,6.6,7.4,8.0,9.0])\n"
   ]
  },
  {
   "cell_type": "code",
   "execution_count": 113,
   "metadata": {},
   "outputs": [],
   "source": [
    "class TfLinreg(object):\n",
    "    \n",
    "    def __init__(self,x_dim,learning_rate=0.01,random_seed=None):\n",
    "        self.x_dim = x_dim\n",
    "        self.learning_rate = learning_rate\n",
    "        self.g=tf.Graph()\n",
    "        \n",
    "        ##モデルを構築\n",
    "        with self.g.as_default():\n",
    "            ##グラフレベルの乱数シードを設定\n",
    "            tf.set_random_seed(random_seed)\n",
    "            self.build()\n",
    "            ##変数のイニシャライザを作成\n",
    "            self.init_op = tf.global_variables_initializer()\n",
    "            \n",
    "    def build(self):\n",
    "        ##入力用のプレースホルダを定義\n",
    "        self.X = tf.placeholder(dtype=tf.float32,\n",
    "                                shape=(None,self.x_dim),\n",
    "                                name=\"x_input\")\n",
    "        self.y = tf.placeholder(dtype=tf.float32,\n",
    "                               shape=(None),\n",
    "                               name=\"y_input\")\n",
    "        print(self.X)\n",
    "        print(self.y)\n",
    "        \n",
    "        ##重み行列とバイアスベクトルを定義\n",
    "        w = tf.Variable(tf.zeros(shape=(1)),name=\"weight\")\n",
    "        b = tf.Variable(tf.zeros(shape=(1)),name=\"bias\")\n",
    "        print(w)\n",
    "        print(b)\n",
    "        \n",
    "        self.z_net = tf.squeeze(w*self.X+b,name=\"z_net\")\n",
    "        print(self.z_net)\n",
    "        \n",
    "        sqr_errors = tf.square(self.y-self.z_net,name=\"sqr_errors\")\n",
    "        print(sqr_errors)\n",
    "        self.mean_cost = tf.reduce_mean(sqr_errors,name=\"mean_cost\")\n",
    "        \n",
    "        ##オプティマイザを作成\n",
    "        optimizer = tf.train.GradientDescentOptimizer(\n",
    "            learning_rate=self.learning_rate,\n",
    "            name=\"GradientDecent\")\n",
    "        self.optimizer = optimizer.minimize(self.mean_cost)"
   ]
  },
  {
   "cell_type": "code",
   "execution_count": 114,
   "metadata": {},
   "outputs": [
    {
     "name": "stdout",
     "output_type": "stream",
     "text": [
      "Tensor(\"x_input:0\", shape=(?, 1), dtype=float32)\n",
      "Tensor(\"y_input:0\", dtype=float32)\n",
      "<tf.Variable 'weight:0' shape=(1,) dtype=float32_ref>\n",
      "<tf.Variable 'bias:0' shape=(1,) dtype=float32_ref>\n",
      "Tensor(\"z_net:0\", dtype=float32)\n",
      "Tensor(\"sqr_errors:0\", dtype=float32)\n"
     ]
    }
   ],
   "source": [
    "lrmodel = TfLinreg(x_dim=X_train.shape[1],learning_rate=0.01)"
   ]
  },
  {
   "cell_type": "code",
   "execution_count": 115,
   "metadata": {},
   "outputs": [],
   "source": [
    "def train_linreg(sess,model,X_train,y_train,num_epochs=10):\n",
    "    ##すべての変数を初期化\n",
    "    sess.run(model.init_op)\n",
    "    \n",
    "    training_costs=[]\n",
    "    for i in range(num_epochs):\n",
    "        _, cost = sess.run([model.optimizer, model.mean_cost], \n",
    "                           feed_dict={model.X:X_train, \n",
    "                                      model.y:y_train})\n",
    "        training_costs.append(cost)\n",
    "        \n",
    "    return training_costs"
   ]
  },
  {
   "cell_type": "code",
   "execution_count": 116,
   "metadata": {},
   "outputs": [
    {
     "name": "stdout",
     "output_type": "stream",
     "text": [
      "[32.431, 6.0113096, 1.446125, 0.65659344, 0.5193632, 0.4948352, 0.48978764, 0.48811454, 0.48703355, 0.48606348]\n"
     ]
    }
   ],
   "source": [
    "print(training_costs)"
   ]
  },
  {
   "cell_type": "code",
   "execution_count": 117,
   "metadata": {},
   "outputs": [],
   "source": [
    "sess = tf.Session(graph=lrmodel.g)\n",
    "training_costs = train_linreg(sess,lrmodel,X_train,y_train)"
   ]
  },
  {
   "cell_type": "code",
   "execution_count": 118,
   "metadata": {},
   "outputs": [
    {
     "data": {
      "image/png": "[encoded data removed]",
      "text/plain": [
       "<Figure size 432x288 with 1 Axes>"
      ]
     },
     "metadata": {
      "needs_background": "light"
     },
     "output_type": "display_data"
    }
   ],
   "source": [
    "import matplotlib.pyplot as plt\n",
    "plt.plot(range(1,len(training_costs)+1),training_costs)\n",
    "plt.tight_layout()\n",
    "plt.xlabel(\"Epoch\")\n",
    "plt.ylabel(\"Training Cost\")\n",
    "plt.show()"
   ]
  },
  {
   "cell_type": "code",
   "execution_count": 122,
   "metadata": {},
   "outputs": [],
   "source": [
    "def predict_linreg(sess,model,X_test):\n",
    "    y_pred = sess.run(model.z_net,feed_dict={model.X:X_test})\n",
    "    \n",
    "    return y_pred"
   ]
  },
  {
   "cell_type": "code",
   "execution_count": 123,
   "metadata": {},
   "outputs": [
    {
     "data": {
      "image/png": "[encoded data removed]",
      "text/plain": [
       "<Figure size 432x288 with 1 Axes>"
      ]
     },
     "metadata": {
      "needs_background": "light"
     },
     "output_type": "display_data"
    }
   ],
   "source": [
    "plt.scatter(X_train,y_train,marker=\"s\",s=50,label=\"Training Data\")\n",
    "plt.plot(range(X_train.shape[0]),\n",
    "        predict_linreg(sess,lrmodel,X_train),\n",
    "        color=\"grey\",marker=\"o\",\n",
    "        markersize=6,linewidth=3,\n",
    "        label=\"LinReg Model\")\n",
    "plt.xlabel(\"x\")\n",
    "plt.ylabel(\"y\")\n",
    "plt.legend()\n",
    "plt.tight_layout()\n",
    "plt.show()"
   ]
  },
  {
   "cell_type": "code",
   "execution_count": 129,
   "metadata": {},
   "outputs": [],
   "source": [
    "X_train,y_train = load_mnist(\".\",kind=\"train\")"
   ]
  },
  {
   "cell_type": "code",
   "execution_count": 125,
   "metadata": {},
   "outputs": [],
   "source": [
    "import sys\n",
    "import gzip\n",
    "import shutil\n",
    "import os\n",
    "import struct\n",
    "import tensorflow.contrib.keras as keras"
   ]
  },
  {
   "cell_type": "code",
   "execution_count": 126,
   "metadata": {},
   "outputs": [
    {
     "name": "stdout",
     "output_type": "stream",
     "text": [
      "/Users/hasegawatakashikana/Downloads/mnist\n"
     ]
    }
   ],
   "source": [
    "cd Downloads/mnist/"
   ]
  },
  {
   "cell_type": "code",
   "execution_count": 128,
   "metadata": {},
   "outputs": [],
   "source": [
    "def load_mnist(path,kind=\"train\"):\n",
    "    #引数に指定したパスを結合\n",
    "    labels_path = os.path.join(path,\"%s-labels.idx1-ubyte\"%kind)\n",
    "    images_path = os.path.join(path,\"%s-images.idx3-ubyte\"%kind)\n",
    "    \n",
    "    #ファイルを読み込む\n",
    "    #引数にファイル、モードを指定(rbは読み込みのバイナリモード)\n",
    "    with open(labels_path,\"rb\") as lbpath:\n",
    "        #バイナリを文字列に変換:unpack関数の引数にフォーマット、８バイト分のバイナリデータを指定してマジックナンバー、アイテムの個数を読み込む\n",
    "        magic,n = struct.unpack(\">II\",lbpath.read(8))\n",
    "        #ファイルからラベルを読み込み配列を構築：fromfile関数の引数にファイル、配列のデータ形式を指定\n",
    "        labels = np.fromfile(lbpath,dtype=np.uint8)\n",
    "        \n",
    "    with open(images_path,\"rb\") as imgpath:\n",
    "        magic,num,rows,cols = struct.unpack(\">IIII\",imgpath.read(16))\n",
    "        #画像ピクセル情報の配列のサイズを変更\n",
    "        #(行数：ラベルのサイズ、列数：特徴量の個数)\n",
    "        images = np.fromfile(imgpath,dtype=np.uint8).reshape(len(labels),784)\n",
    "        images = ((images/255.)-.5)*2\n",
    "    return images,labels"
   ]
  },
  {
   "cell_type": "code",
   "execution_count": 130,
   "metadata": {},
   "outputs": [
    {
     "name": "stdout",
     "output_type": "stream",
     "text": [
      "Rows: 60000, Columns: 784\n"
     ]
    }
   ],
   "source": [
    "print(\"Rows: %d, Columns: %d\"%(X_train.shape[0],X_train.shape[1]))"
   ]
  },
  {
   "cell_type": "code",
   "execution_count": 131,
   "metadata": {},
   "outputs": [
    {
     "name": "stdout",
     "output_type": "stream",
     "text": [
      "Rows: 10000, Columns: 784\n"
     ]
    }
   ],
   "source": [
    "X_test,y_test = load_mnist(\".\",kind=\"t10k\")\n",
    "print(\"Rows: %d, Columns: %d\"%(X_test.shape[0],X_test.shape[1]))"
   ]
  },
  {
   "cell_type": "code",
   "execution_count": 132,
   "metadata": {},
   "outputs": [
    {
     "name": "stdout",
     "output_type": "stream",
     "text": [
      "(60000, 784) (60000,)\n",
      "(10000, 784) (10000,)\n"
     ]
    }
   ],
   "source": [
    "#標準化と正規化\n",
    "mean_vals = np.mean(X_train,axis=0)\n",
    "std_val = np.std(X_train)\n",
    "\n",
    "X_train_centered = (X_train-mean_vals)/std_val\n",
    "X_test_centered  = (X_test-mean_vals)/std_val\n",
    "del X_train,X_test\n",
    "print(X_train_centered.shape,y_train.shape)\n",
    "print(X_test_centered.shape,y_test.shape)"
   ]
  },
  {
   "cell_type": "code",
   "execution_count": 134,
   "metadata": {},
   "outputs": [],
   "source": [
    "n_features = X_train_centered.shape[1]\n",
    "n_classes = 10\n",
    "random_seed=123\n",
    "np.random.seed(random_seed)"
   ]
  },
  {
   "cell_type": "code",
   "execution_count": 139,
   "metadata": {},
   "outputs": [],
   "source": [
    "g = tf.Graph()\n",
    "with g.as_default():\n",
    "    tf.set_random_seed(random_seed)\n",
    "    tf_x = tf.placeholder(dtype=tf.float32,\n",
    "                         shape=(None,n_features),\n",
    "                         name=\"tf_x\")\n",
    "    tf_y = tf.placeholder(dtype=tf.int32,\n",
    "                         shape=(None),\n",
    "                         name=\"tf_y\")\n",
    "    y_onehot = tf.one_hot(indices=tf_y,depth=n_classes)\n",
    "    h1 = tf.layers.dense(inputs=tf_x,\n",
    "                        units=50,\n",
    "                        activation=tf.tanh,\n",
    "                        name=\"layer1\")\n",
    "    h2 = tf.layers.dense(inputs=h1,\n",
    "                        units=50,\n",
    "                        activation=tf.tanh,\n",
    "                        name=\"layer2\")\n",
    "    logits = tf.layers.dense(inputs=h2,\n",
    "                            units=10,\n",
    "                            activation=None,\n",
    "                            name=\"layer3\")\n",
    "    predictions = {\n",
    "        \"classes\" : tf.argmax(logits,axis=1,\n",
    "                              name=\"predicted_classes\"),\n",
    "        \"probabilities\" : tf.nn.softmax(logits,name=\"softmax_tensor\")}\n",
    "    "
   ]
  },
  {
   "cell_type": "code",
   "execution_count": 140,
   "metadata": {},
   "outputs": [],
   "source": [
    "##コスト関数とオプティマイザを定義\n",
    "with g.as_default():\n",
    "    cost = tf.losses.softmax_cross_entropy(onehot_labels=y_onehot,logits=logits)\n",
    "    optimizer = tf.train.GradientDescentOptimizer(learning_rate=0.001)\n",
    "    train_op = optimizer.minimize(loss=cost)\n",
    "    init_op = tf.global_variables_initializer()\n",
    "    \n",
    "def create_batch_generator(X,y,batch_size=128,shuffle=False):\n",
    "    X_copy = np.array(X)\n",
    "    y_copy = np.array(y)\n",
    "    \n",
    "    if shuffle:\n",
    "        data = np.column_stack((X_copy,y_copy))\n",
    "        np.random.shuffle(data)\n",
    "        X_copy = data[:,:-1]\n",
    "        y_copy = data[:,-1].astype(int)\n",
    "        \n",
    "    for i in range(0,X.shape[0],batch_size):\n",
    "        yield (X_copy[i:i+batch_size,:],y_copy[i:i+batch_size])"
   ]
  },
  {
   "cell_type": "code",
   "execution_count": 141,
   "metadata": {},
   "outputs": [
    {
     "name": "stdout",
     "output_type": "stream",
     "text": [
      " -- Epoch  1 Avg. TrainingLoss: 1.5573\n",
      " -- Epoch  2 Avg. TrainingLoss: 1.2532\n",
      " -- Epoch  3 Avg. TrainingLoss: 1.0854\n",
      " -- Epoch  4 Avg. TrainingLoss: 0.9738\n",
      " -- Epoch  5 Avg. TrainingLoss: 0.8924\n",
      " -- Epoch  6 Avg. TrainingLoss: 0.8296\n",
      " -- Epoch  7 Avg. TrainingLoss: 0.7794\n",
      " -- Epoch  8 Avg. TrainingLoss: 0.7381\n",
      " -- Epoch  9 Avg. TrainingLoss: 0.7032\n",
      " -- Epoch 10 Avg. TrainingLoss: 0.6734\n",
      " -- Epoch 11 Avg. TrainingLoss: 0.6475\n",
      " -- Epoch 12 Avg. TrainingLoss: 0.6247\n",
      " -- Epoch 13 Avg. TrainingLoss: 0.6045\n",
      " -- Epoch 14 Avg. TrainingLoss: 0.5864\n",
      " -- Epoch 15 Avg. TrainingLoss: 0.5700\n",
      " -- Epoch 16 Avg. TrainingLoss: 0.5551\n",
      " -- Epoch 17 Avg. TrainingLoss: 0.5415\n",
      " -- Epoch 18 Avg. TrainingLoss: 0.5290\n",
      " -- Epoch 19 Avg. TrainingLoss: 0.5175\n",
      " -- Epoch 20 Avg. TrainingLoss: 0.5068\n",
      " -- Epoch 21 Avg. TrainingLoss: 0.4968\n",
      " -- Epoch 22 Avg. TrainingLoss: 0.4875\n",
      " -- Epoch 23 Avg. TrainingLoss: 0.4788\n",
      " -- Epoch 24 Avg. TrainingLoss: 0.4706\n",
      " -- Epoch 25 Avg. TrainingLoss: 0.4629\n",
      " -- Epoch 26 Avg. TrainingLoss: 0.4556\n",
      " -- Epoch 27 Avg. TrainingLoss: 0.4487\n",
      " -- Epoch 28 Avg. TrainingLoss: 0.4422\n",
      " -- Epoch 29 Avg. TrainingLoss: 0.4359\n",
      " -- Epoch 30 Avg. TrainingLoss: 0.4300\n",
      " -- Epoch 31 Avg. TrainingLoss: 0.4243\n",
      " -- Epoch 32 Avg. TrainingLoss: 0.4189\n",
      " -- Epoch 33 Avg. TrainingLoss: 0.4138\n",
      " -- Epoch 34 Avg. TrainingLoss: 0.4088\n",
      " -- Epoch 35 Avg. TrainingLoss: 0.4041\n",
      " -- Epoch 36 Avg. TrainingLoss: 0.3995\n",
      " -- Epoch 37 Avg. TrainingLoss: 0.3951\n",
      " -- Epoch 38 Avg. TrainingLoss: 0.3909\n",
      " -- Epoch 39 Avg. TrainingLoss: 0.3868\n",
      " -- Epoch 40 Avg. TrainingLoss: 0.3829\n",
      " -- Epoch 41 Avg. TrainingLoss: 0.3791\n",
      " -- Epoch 42 Avg. TrainingLoss: 0.3754\n",
      " -- Epoch 43 Avg. TrainingLoss: 0.3718\n",
      " -- Epoch 44 Avg. TrainingLoss: 0.3684\n",
      " -- Epoch 45 Avg. TrainingLoss: 0.3651\n",
      " -- Epoch 46 Avg. TrainingLoss: 0.3618\n",
      " -- Epoch 47 Avg. TrainingLoss: 0.3587\n",
      " -- Epoch 48 Avg. TrainingLoss: 0.3556\n",
      " -- Epoch 49 Avg. TrainingLoss: 0.3527\n",
      " -- Epoch 50 Avg. TrainingLoss: 0.3498\n"
     ]
    }
   ],
   "source": [
    "##計算グラフを起動するためのセッションを作成\n",
    "sess = tf.Session(graph=g)\n",
    "##変数のイニシャライザを実行\n",
    "sess.run(init_op)\n",
    "\n",
    "##50エポックのトレーニング\n",
    "training_costs = []\n",
    "for epoch in range(50):\n",
    "    training_loss=[]\n",
    "    batch_generator = create_batch_generator(X_train_centered,y_train,batch_size=64)\n",
    "    \n",
    "    for batch_X,batch_y in batch_generator:\n",
    "        ##ニューラルネットワークにデータを供給するためのディクショナリを準備\n",
    "        feed = {tf_x:batch_X,tf_y:batch_y}\n",
    "        _,batch_cost = sess.run([train_op,cost],feed_dict=feed)\n",
    "        training_costs.append(batch_cost)\n",
    "    print(\" -- Epoch %2d Avg. TrainingLoss: %.4f\"%(epoch+1,np.mean(training_costs)))"
   ]
  },
  {
   "cell_type": "code",
   "execution_count": 142,
   "metadata": {},
   "outputs": [
    {
     "name": "stdout",
     "output_type": "stream",
     "text": [
      "Test Accuracy: 93.89%\n"
     ]
    }
   ],
   "source": [
    "##テストデータセットで予測を行う\n",
    "feed = {tf_x:X_test_centered}\n",
    "y_pred =sess.run(predictions[\"classes\"],feed_dict=feed)\n",
    "\n",
    "print(\"Test Accuracy: %.2f%%\"%\n",
    "     (100*np.sum(y_pred==y_test)/y_test.shape[0]))"
   ]
  },
  {
   "cell_type": "code",
   "execution_count": 143,
   "metadata": {},
   "outputs": [
    {
     "name": "stdout",
     "output_type": "stream",
     "text": [
      "Rows: 60000, Columns: 784\n",
      "Rows: 10000, Columns: 784\n",
      "(60000, 784) (60000,)\n",
      "(10000, 784) (10000,)\n"
     ]
    }
   ],
   "source": [
    "X_train,y_train = load_mnist(\".\",kind=\"train\")\n",
    "print(\"Rows: %d, Columns: %d\"%(X_train.shape[0],X_train.shape[1]))\n",
    "X_test,y_test = load_mnist(\".\",kind=\"t10k\")\n",
    "print(\"Rows: %d, Columns: %d\"%(X_test.shape[0],X_test.shape[1]))\n",
    "#標準化と正規化\n",
    "mean_vals = np.mean(X_train,axis=0)\n",
    "std_val = np.std(X_train)\n",
    "\n",
    "X_train_centered = (X_train-mean_vals)/std_val\n",
    "X_test_centered  = (X_test-mean_vals)/std_val\n",
    "del X_train,X_test\n",
    "print(X_train_centered.shape,y_train.shape)\n",
    "print(X_test_centered.shape,y_test.shape)"
   ]
  },
  {
   "cell_type": "code",
   "execution_count": 145,
   "metadata": {},
   "outputs": [],
   "source": [
    "import tensorflow.contrib.keras as keras"
   ]
  },
  {
   "cell_type": "code",
   "execution_count": 146,
   "metadata": {},
   "outputs": [],
   "source": [
    "np.random.seed(123)\n",
    "tf.set_random_seed(123)"
   ]
  },
  {
   "cell_type": "code",
   "execution_count": 147,
   "metadata": {},
   "outputs": [
    {
     "name": "stdout",
     "output_type": "stream",
     "text": [
      "First 3 labels:  [5 0 4]\n"
     ]
    }
   ],
   "source": [
    "y_train_onehot = keras.utils.to_categorical(y_train)\n",
    "print(\"First 3 labels: \",y_train[:3])"
   ]
  },
  {
   "cell_type": "code",
   "execution_count": 148,
   "metadata": {},
   "outputs": [
    {
     "name": "stdout",
     "output_type": "stream",
     "text": [
      "\n",
      "First 3 labels (one-hot):\n",
      " [[0. 0. 0. 0. 0. 1. 0. 0. 0. 0.]\n",
      " [1. 0. 0. 0. 0. 0. 0. 0. 0. 0.]\n",
      " [0. 0. 0. 0. 1. 0. 0. 0. 0. 0.]]\n"
     ]
    }
   ],
   "source": [
    "print(\"\\nFirst 3 labels (one-hot):\\n\",y_train_onehot[:3])"
   ]
  },
  {
   "cell_type": "code",
   "execution_count": 149,
   "metadata": {},
   "outputs": [],
   "source": [
    "#モデルを初期化\n",
    "model = keras.models.Sequential()\n",
    "\n",
    "#1つ目の隠れ層を追加\n",
    "model.add(keras.layers.Dense(units=50,\n",
    "                            input_dim=X_train_centered.shape[1],\n",
    "                            kernel_initializer=\"glorot_uniform\",\n",
    "                            bias_initializer=\"zeros\",\n",
    "                            activation=\"tanh\"))\n",
    "#2つ目の隠れ層を追加\n",
    "model.add(keras.layers.Dense(units=50,\n",
    "                            input_dim=50,\n",
    "                            kernel_initializer=\"glorot_uniform\",\n",
    "                            bias_initializer=\"zeros\",\n",
    "                            activation=\"tanh\"))\n",
    "#出力層を追加\n",
    "model.add(keras.layers.Dense(units=y_train_onehot.shape[1],\n",
    "                            input_dim=50,\n",
    "                            kernel_initializer=\"glorot_uniform\",\n",
    "                            bias_initializer=\"zeros\",\n",
    "                            activation=\"softmax\"))\n",
    "#モデルコンパイル時のオプティマイザを設定\n",
    "#引数に学習率、荷重減衰定数、モーメンタム学習を設定\n",
    "sgd_optimizer = keras.optimizers.SGD(lr=0.001,decay=1e-7,momentum=.9)\n",
    "\n",
    "#オプティマイザとコスト関数を指定してコンパイル\n",
    "model.compile(optimizer=sgd_optimizer,loss=\"categorical_crossentropy\")"
   ]
  },
  {
   "cell_type": "code",
   "execution_count": 150,
   "metadata": {},
   "outputs": [
    {
     "name": "stdout",
     "output_type": "stream",
     "text": [
      "Train on 54000 samples, validate on 6000 samples\n",
      "Epoch 1/50\n",
      "54000/54000 [==============================] - 13s 242us/step - loss: 0.7700 - val_loss: 0.3680\n",
      "Epoch 2/50\n",
      "54000/54000 [==============================] - 11s 205us/step - loss: 0.3751 - val_loss: 0.2762\n",
      "Epoch 3/50\n",
      "54000/54000 [==============================] - 11s 210us/step - loss: 0.3080 - val_loss: 0.2386\n",
      "Epoch 4/50\n",
      "54000/54000 [==============================] - 13s 249us/step - loss: 0.2714 - val_loss: 0.2164\n",
      "Epoch 5/50\n",
      "54000/54000 [==============================] - 18s 339us/step - loss: 0.2463 - val_loss: 0.2000\n",
      "Epoch 6/50\n",
      "54000/54000 [==============================] - 12s 226us/step - loss: 0.2266 - val_loss: 0.1884\n",
      "Epoch 7/50\n",
      "54000/54000 [==============================] - 11s 212us/step - loss: 0.2106 - val_loss: 0.1792\n",
      "Epoch 8/50\n",
      "54000/54000 [==============================] - 11s 206us/step - loss: 0.1970 - val_loss: 0.1712\n",
      "Epoch 9/50\n",
      "54000/54000 [==============================] - 11s 207us/step - loss: 0.1851 - val_loss: 0.1648\n",
      "Epoch 10/50\n",
      "54000/54000 [==============================] - 16s 288us/step - loss: 0.1747 - val_loss: 0.1596\n",
      "Epoch 11/50\n",
      "54000/54000 [==============================] - 16s 301us/step - loss: 0.1655 - val_loss: 0.1551\n",
      "Epoch 12/50\n",
      "54000/54000 [==============================] - 14s 262us/step - loss: 0.1576 - val_loss: 0.1499\n",
      "Epoch 13/50\n",
      "54000/54000 [==============================] - 13s 248us/step - loss: 0.1501 - val_loss: 0.1463\n",
      "Epoch 14/50\n",
      "54000/54000 [==============================] - 14s 257us/step - loss: 0.1433 - val_loss: 0.1439\n",
      "Epoch 15/50\n",
      "54000/54000 [==============================] - 15s 271us/step - loss: 0.1372 - val_loss: 0.1405\n",
      "Epoch 16/50\n",
      "54000/54000 [==============================] - 13s 236us/step - loss: 0.1314 - val_loss: 0.1383\n",
      "Epoch 17/50\n",
      "54000/54000 [==============================] - 12s 227us/step - loss: 0.1262 - val_loss: 0.1359\n",
      "Epoch 18/50\n",
      "54000/54000 [==============================] - 12s 231us/step - loss: 0.1213 - val_loss: 0.1341\n",
      "Epoch 19/50\n",
      "54000/54000 [==============================] - 12s 229us/step - loss: 0.1167 - val_loss: 0.1315\n",
      "Epoch 20/50\n",
      "54000/54000 [==============================] - 13s 233us/step - loss: 0.1123 - val_loss: 0.1302\n",
      "Epoch 21/50\n",
      "54000/54000 [==============================] - 12s 229us/step - loss: 0.1083 - val_loss: 0.1297\n",
      "Epoch 22/50\n",
      "54000/54000 [==============================] - 12s 222us/step - loss: 0.1045 - val_loss: 0.1283\n",
      "Epoch 23/50\n",
      "54000/54000 [==============================] - 12s 223us/step - loss: 0.1008 - val_loss: 0.1263\n",
      "Epoch 24/50\n",
      "54000/54000 [==============================] - 12s 222us/step - loss: 0.0975 - val_loss: 0.1254\n",
      "Epoch 25/50\n",
      "54000/54000 [==============================] - 12s 220us/step - loss: 0.0943 - val_loss: 0.1240\n",
      "Epoch 26/50\n",
      "54000/54000 [==============================] - 14s 255us/step - loss: 0.0913 - val_loss: 0.1244\n",
      "Epoch 27/50\n",
      "54000/54000 [==============================] - 13s 238us/step - loss: 0.0883 - val_loss: 0.1220\n",
      "Epoch 28/50\n",
      "54000/54000 [==============================] - 12s 222us/step - loss: 0.0856 - val_loss: 0.1225\n",
      "Epoch 29/50\n",
      "54000/54000 [==============================] - 12s 216us/step - loss: 0.0829 - val_loss: 0.1210\n",
      "Epoch 30/50\n",
      "54000/54000 [==============================] - 12s 226us/step - loss: 0.0804 - val_loss: 0.1207\n",
      "Epoch 31/50\n",
      "54000/54000 [==============================] - 12s 222us/step - loss: 0.0781 - val_loss: 0.1198\n",
      "Epoch 32/50\n",
      "54000/54000 [==============================] - 12s 218us/step - loss: 0.0756 - val_loss: 0.1202\n",
      "Epoch 33/50\n",
      "54000/54000 [==============================] - 12s 218us/step - loss: 0.0735 - val_loss: 0.1201\n",
      "Epoch 34/50\n",
      "54000/54000 [==============================] - 12s 224us/step - loss: 0.0713 - val_loss: 0.1200\n",
      "Epoch 35/50\n",
      "54000/54000 [==============================] - 12s 218us/step - loss: 0.0694 - val_loss: 0.1192\n",
      "Epoch 36/50\n",
      "54000/54000 [==============================] - 12s 223us/step - loss: 0.0674 - val_loss: 0.1192\n",
      "Epoch 37/50\n",
      "54000/54000 [==============================] - 12s 218us/step - loss: 0.0654 - val_loss: 0.1190\n",
      "Epoch 38/50\n",
      "54000/54000 [==============================] - 12s 222us/step - loss: 0.0637 - val_loss: 0.1190\n",
      "Epoch 39/50\n",
      "54000/54000 [==============================] - 12s 221us/step - loss: 0.0619 - val_loss: 0.1183\n",
      "Epoch 40/50\n",
      "54000/54000 [==============================] - 12s 218us/step - loss: 0.0603 - val_loss: 0.1195\n",
      "Epoch 41/50\n",
      "54000/54000 [==============================] - 12s 222us/step - loss: 0.0585 - val_loss: 0.1183\n",
      "Epoch 42/50\n",
      "54000/54000 [==============================] - 12s 223us/step - loss: 0.0571 - val_loss: 0.1188\n",
      "Epoch 43/50\n",
      "54000/54000 [==============================] - 12s 217us/step - loss: 0.0555 - val_loss: 0.1185\n",
      "Epoch 44/50\n",
      "54000/54000 [==============================] - 12s 217us/step - loss: 0.0541 - val_loss: 0.1189\n",
      "Epoch 45/50\n",
      "54000/54000 [==============================] - 11s 211us/step - loss: 0.0526 - val_loss: 0.1171\n",
      "Epoch 46/50\n",
      "54000/54000 [==============================] - 15s 276us/step - loss: 0.0512 - val_loss: 0.1177\n",
      "Epoch 47/50\n",
      "54000/54000 [==============================] - 108s 2ms/step - loss: 0.0499 - val_loss: 0.1191\n",
      "Epoch 48/50\n",
      "54000/54000 [==============================] - 14s 250us/step - loss: 0.0486 - val_loss: 0.1175\n",
      "Epoch 49/50\n",
      "54000/54000 [==============================] - 12s 229us/step - loss: 0.0472 - val_loss: 0.1176\n",
      "Epoch 50/50\n",
      "54000/54000 [==============================] - 12s 219us/step - loss: 0.0461 - val_loss: 0.1189\n"
     ]
    }
   ],
   "source": [
    "history = model.fit(X_train_centered, #トレーニングデータ\n",
    "                   y_train_onehot,     #出力データ\n",
    "                   batch_size=64,     #バッチサイズ\n",
    "                   epochs =50,\n",
    "                   verbose=1,          #実行時にメッセージを出力\n",
    "                   validation_split=0.1)#検証用データの割合"
   ]
  },
  {
   "cell_type": "code",
   "execution_count": 151,
   "metadata": {},
   "outputs": [
    {
     "name": "stderr",
     "output_type": "stream",
     "text": [
      "/anaconda3/lib/python3.5/site-packages/ipykernel_launcher.py:2: DeprecationWarning: elementwise comparison failed; this will raise an error in the future.\n",
      "  \n"
     ]
    }
   ],
   "source": [
    "y_train_pred = model.predict_classes(X_train_centered,verbose=0)\n",
    "correct_preds = np.sum(y_train==y_train_pred[:3])"
   ]
  },
  {
   "cell_type": "code",
   "execution_count": 152,
   "metadata": {},
   "outputs": [
    {
     "name": "stdout",
     "output_type": "stream",
     "text": [
      "First 3 predictions:  [5 0 4]\n",
      "Training accuracy: 98.93%\n",
      "Test Accuracy: 96.27%\n"
     ]
    }
   ],
   "source": [
    "y_train_pred = model.predict_classes(X_train_centered,verbose=0)\n",
    "correct_preds = np.sum(y_train == y_train_pred,axis=0)\n",
    "train_acc = correct_preds / y_train.shape[0]\n",
    "print(\"First 3 predictions: \",y_train_pred[:3])\n",
    "\n",
    "print(\"Training accuracy: %.2f%%\"%(train_acc*100))\n",
    "\n",
    "y_test_pred = model.predict_classes(X_test_centered,verbose=0)\n",
    "correct_preds = np.sum(y_test == y_test_pred,axis=0)\n",
    "test_acc = correct_preds / y_test.shape[0]\n",
    "print(\"Test Accuracy: %.2f%%\"%(test_acc*100))"
   ]
  },
  {
   "cell_type": "code",
   "execution_count": 153,
   "metadata": {},
   "outputs": [
    {
     "name": "stdout",
     "output_type": "stream",
     "text": [
      "P(y=1|x)= 0.888\n"
     ]
    }
   ],
   "source": [
    "X = np.array([1,1.4,2.5])\n",
    "w = np.array([0.4,0.3,0.5])\n",
    "def net_input(X,w):\n",
    "    return np.dot(X,w)\n",
    "\n",
    "def logistic(z):\n",
    "    return 1.0/(1.0+np.exp(-z))\n",
    "\n",
    "def logistic_activation(X,w):\n",
    "    z = net_input(X,w)\n",
    "    return logistic(z)\n",
    "\n",
    "print(\"P(y=1|x)= %.3f\"%logistic_activation(X,w))"
   ]
  },
  {
   "cell_type": "code",
   "execution_count": 161,
   "metadata": {},
   "outputs": [
    {
     "name": "stdout",
     "output_type": "stream",
     "text": [
      "Net Input: \n",
      " [1.78 0.76 1.65]\n",
      "Output Units:\n",
      " [0.85569687 0.68135373 0.83889105]\n"
     ]
    }
   ],
   "source": [
    "W = np.array([[1.1,1.2,0.8,0.4],\n",
    "              [0.2,0.4,1.0,0.2],\n",
    "              [0.6,1.5,1.2,0.7]])\n",
    "A = np.array([[1,0.1,0.4,0.6]])\n",
    "Z = np.dot(W,A[0])\n",
    "y_probas = logistic(Z)\n",
    "print(\"Net Input: \\n\",Z)\n",
    "\n",
    "print(\"Output Units:\\n\",y_probas)"
   ]
  },
  {
   "cell_type": "code",
   "execution_count": 162,
   "metadata": {},
   "outputs": [
    {
     "name": "stdout",
     "output_type": "stream",
     "text": [
      "Probabilities:\n",
      " [0.44668973 0.16107406 0.39223621]\n"
     ]
    }
   ],
   "source": [
    "def softmax(z):\n",
    "    return np.exp(z)/np.sum(np.exp(z))\n",
    "y_probas = softmax(Z)\n",
    "print(\"Probabilities:\\n\",y_probas)\n"
   ]
  },
  {
   "cell_type": "code",
   "execution_count": 163,
   "metadata": {},
   "outputs": [
    {
     "data": {
      "text/plain": [
       "1.0"
      ]
     },
     "execution_count": 163,
     "metadata": {},
     "output_type": "execute_result"
    }
   ],
   "source": [
    "np.sum(y_probas)"
   ]
  },
  {
   "cell_type": "code",
   "execution_count": 164,
   "metadata": {},
   "outputs": [
    {
     "data": {
      "image/png": "[encoded data removed]",
      "text/plain": [
       "<Figure size 432x288 with 1 Axes>"
      ]
     },
     "metadata": {
      "needs_background": "light"
     },
     "output_type": "display_data"
    }
   ],
   "source": [
    "def tanh(z):\n",
    "    e_p = np.exp(z)\n",
    "    e_m = np.exp(-z)\n",
    "    return (e_p-e_m)/(e_p+e_m)\n",
    "\n",
    "z = np.arange(-5,5,0.005)\n",
    "log_act = logistic(z)\n",
    "tanh_act = tanh(z)\n",
    "plt.ylim([-1.5,1.5])\n",
    "plt.xlabel(\"net input $z$\")\n",
    "plt.ylabel(\"activation $¥phi(z)$\")\n",
    "plt.axhline(1,color=\"black\",linestyle=\":\")\n",
    "plt.axhline(0.5,color=\"black\",linestyle=\":\")\n",
    "plt.axhline(0,color=\"black\",linestyle=\":\")\n",
    "plt.axhline(-0.5,color=\"black\",linestyle=\":\")\n",
    "plt.axhline(-1,color=\"black\",linestyle=\":\")\n",
    "plt.plot(z,tanh_act,linewidth=3,linestyle=\"--\",label=\"tanh\")\n",
    "plt.plot(z,log_act,linewidth=3,label=\"logistic\")\n",
    "plt.legend(loc=\"lower right\")\n",
    "plt.tight_layout()\n",
    "plt.show()"
   ]
  },
  {
   "cell_type": "code",
   "execution_count": null,
   "metadata": {},
   "outputs": [],
   "source": []
  }
 ],
 "metadata": {
  "kernelspec": {
   "display_name": "Python 3",
   "language": "python",
   "name": "python3"
  },
  "language_info": {
   "codemirror_mode": {
    "name": "ipython",
    "version": 3
   },
   "file_extension": ".py",
   "mimetype": "text/x-python",
   "name": "python",
   "nbconvert_exporter": "python",
   "pygments_lexer": "ipython3",
   "version": "3.5.6"
  }
 },
 "nbformat": 4,
 "nbformat_minor": 2
}

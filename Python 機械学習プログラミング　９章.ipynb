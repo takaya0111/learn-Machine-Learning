{
 "cells": [
  {
   "cell_type": "code",
   "execution_count": 1,
   "metadata": {},
   "outputs": [
    {
     "name": "stdout",
     "output_type": "stream",
     "text": [
      "/Users/hasegawatakashikana/Downloads\n"
     ]
    }
   ],
   "source": [
    "cd Downloads/"
   ]
  },
  {
   "cell_type": "code",
   "execution_count": 2,
   "metadata": {},
   "outputs": [],
   "source": [
    "import pickle\n",
    "import re\n",
    "import os"
   ]
  },
  {
   "cell_type": "code",
   "execution_count": 3,
   "metadata": {},
   "outputs": [
    {
     "name": "stdout",
     "output_type": "stream",
     "text": [
      "/Users/hasegawatakashikana/Downloads/movieclassifier\n"
     ]
    }
   ],
   "source": [
    "cd movieclassifier/"
   ]
  },
  {
   "cell_type": "code",
   "execution_count": 4,
   "metadata": {},
   "outputs": [],
   "source": [
    "from vectorizer import vect"
   ]
  },
  {
   "cell_type": "code",
   "execution_count": 5,
   "metadata": {},
   "outputs": [],
   "source": [
    "clf = pickle.load(open(os.path.join(\"pkl_objects\",\"classifier.pkl\"),\"rb\"))"
   ]
  },
  {
   "cell_type": "code",
   "execution_count": 10,
   "metadata": {},
   "outputs": [
    {
     "name": "stdout",
     "output_type": "stream",
     "text": [
      "Prediction: positive\n",
      "Probability: 82.48%\n"
     ]
    }
   ],
   "source": [
    "import numpy as np\n",
    "label = {0:\"negative\",1:\"positive\"}\n",
    "example =[\"I love this movie\"]\n",
    "X = vect.transform(example)\n",
    "print(\"Prediction: %s\\nProbability: %.2f%%\" %(label[clf.predict(X)[0]],np.max(clf.predict_proba(X))*100))"
   ]
  },
  {
   "cell_type": "code",
   "execution_count": 35,
   "metadata": {},
   "outputs": [],
   "source": [
    "import sqlite3\n",
    "if os.path.exists(\"reviews.sqlite\"):\n",
    "    os.remove(\"reviews.sqlite\")\n",
    "conn = sqlite3.connect(\"reviews.sqlite\")\n",
    "c = conn.cursor()\n",
    "c.execute(\"CREATE TABLE review_db (review TEXT, sentiment INTEGER, date TEXT)\")\n",
    "example1 = \"I love this movie\"\n",
    "c.execute(\"INSERT INTO review_db (review,sentiment,date) VALUES (?, ?,DATETIME('now'))\",(example1,1))\n",
    "# c.execute(\"INSERT INTO review_db (review, sentiment, date) VALUES (?, ?, DATETIME('now'))\", (example1, 1))\n",
    "\n",
    "example2 = \"I disliked this movie\"\n",
    "c.execute(\"INSERT INTO review_db (review,sentiment,date) VALUES (?,?,DATETIME('now'))\",(example2,0))\n",
    "conn.commit()\n",
    "conn.close()"
   ]
  },
  {
   "cell_type": "code",
   "execution_count": 38,
   "metadata": {},
   "outputs": [],
   "source": [
    "if os.path.exists('reviews.sqlite'):\n",
    "    os.remove('reviews.sqlite')\n",
    "\n",
    "conn = sqlite3.connect('reviews.sqlite')\n",
    "c = conn.cursor()\n",
    "c.execute('CREATE TABLE review_db (review TEXT, sentiment INTEGER, date TEXT)')\n",
    "\n",
    "example1 = 'I love this movie'\n",
    "c.execute(\"INSERT INTO review_db (review, sentiment, date) VALUES (?, ?, DATETIME('now'))\", (example1, 1))\n",
    "\n",
    "example2 = 'I disliked this movie'\n",
    "c.execute(\"INSERT INTO review_db (review, sentiment, date) VALUES (?, ?, DATETIME('now'))\", (example2, 0))\n",
    "\n",
    "conn.commit()\n",
    "conn.close()"
   ]
  },
  {
   "cell_type": "code",
   "execution_count": 37,
   "metadata": {},
   "outputs": [
    {
     "name": "stdout",
     "output_type": "stream",
     "text": [
      "/Users/hasegawatakashikana/Downloads/1st_flask_app_3\n"
     ]
    }
   ],
   "source": [
    "cd 1st_flask_app_3"
   ]
  },
  {
   "cell_type": "code",
   "execution_count": 30,
   "metadata": {},
   "outputs": [
    {
     "name": "stdout",
     "output_type": "stream",
     "text": [
      "[('I love this movie', 1, '2019-05-02 08:51:40'), ('I disliked this movie', 0, '2019-05-02 08:51:40')]\n"
     ]
    }
   ],
   "source": [
    "conn = sqlite3.connect(\"reviews.sqlite\")\n",
    "c = conn.cursor()\n",
    "c.execute(\"SELECT * FROM review_db WHERE date BETWEEN '2018-01-01 00:00:00'AND DATETIME('now')\")\n",
    "results = c.fetchall()\n",
    "conn.close()\n",
    "print(results)"
   ]
  },
  {
   "cell_type": "code",
   "execution_count": 31,
   "metadata": {},
   "outputs": [
    {
     "name": "stdout",
     "output_type": "stream",
     "text": [
      "Requirement already satisfied: flask in /anaconda3/lib/python3.5/site-packages (1.0.2)\n",
      "Requirement already satisfied: click>=5.1 in /anaconda3/lib/python3.5/site-packages (from flask) (6.7)\n",
      "Requirement already satisfied: Jinja2>=2.10 in /anaconda3/lib/python3.5/site-packages (from flask) (2.10)\n",
      "Requirement already satisfied: itsdangerous>=0.24 in /anaconda3/lib/python3.5/site-packages (from flask) (0.24)\n",
      "Requirement already satisfied: Werkzeug>=0.14 in /anaconda3/lib/python3.5/site-packages (from flask) (0.15.2)\n",
      "Requirement already satisfied: MarkupSafe>=0.23 in /anaconda3/lib/python3.5/site-packages (from Jinja2>=2.10->flask) (1.0)\n"
     ]
    }
   ],
   "source": [
    "!pip install flask"
   ]
  },
  {
   "cell_type": "code",
   "execution_count": 32,
   "metadata": {},
   "outputs": [
    {
     "name": "stdout",
     "output_type": "stream",
     "text": [
      "/Users/hasegawatakashikana/Downloads\n"
     ]
    }
   ],
   "source": [
    "cd .."
   ]
  },
  {
   "cell_type": "code",
   "execution_count": null,
   "metadata": {},
   "outputs": [],
   "source": [
    "from flask import Flask,render_template\n",
    "\n",
    "app = Flask(__name__)\n",
    "\n",
    "@app.route('/')\n",
    "def index():\n",
    "    return render_template(\"first_app.html\")\n",
    "\n",
    "if __name__ = \"__main__\":\n",
    "    app.run()"
   ]
  },
  {
   "cell_type": "code",
   "execution_count": 33,
   "metadata": {},
   "outputs": [
    {
     "name": "stdout",
     "output_type": "stream",
     "text": [
      "Collecting wtforms\n",
      "\u001b[?25l  Downloading https://files.pythonhosted.org/packages/9f/c8/dac5dce9908df1d9d48ec0e26e2a250839fa36ea2c602cc4f85ccfeb5c65/WTForms-2.2.1-py2.py3-none-any.whl (166kB)\n",
      "\u001b[K     |████████████████████████████████| 174kB 3.6MB/s eta 0:00:01\n",
      "\u001b[?25hInstalling collected packages: wtforms\n",
      "Successfully installed wtforms-2.2.1\n"
     ]
    }
   ],
   "source": [
    "!pip install wtforms"
   ]
  },
  {
   "cell_type": "code",
   "execution_count": null,
   "metadata": {},
   "outputs": [],
   "source": [
    "from flask import Flask, render_template, request\n",
    "from wtforms import Form, TextAreaField, validators\n",
    "import pickle\n",
    "import sqlite3\n",
    "import os\n",
    "import numpy as np\n",
    "\n",
    "#ローカルディスクからHashingVectorizerをインポート\n",
    "from vectorizer import vect\n",
    "\n",
    "app = Flask(__name__)\n",
    "\n",
    "#分類器の準備\n",
    "cur_dir = os.path.dirname(__file__)\n",
    "clf = pickle.load(open(os.path.join(cur_dir,\"pkkl_objects\",\"classifier.pkl\"),\"rb\"))\n",
    "\n",
    "db = os.path.join(cur_dir,\"reviews.sqlite\")\n",
    "\n",
    "def classify(document):\n",
    "    label = {0: \"negative\",1:\"positive\"}\n",
    "    X = vect.transform([document])\n",
    "    y = clf.predict(X)[0]\n",
    "    proba = clf.predict_proba(X).max()\n",
    "    return label[y],proba\n",
    "\n",
    "def train(document,y):\n",
    "    X = vect.transform(X)[0]\n",
    "    clf.partial_fit(X,[y])\n",
    "    \n",
    "def sqlite_entry(path,document,y):\n",
    "    conn = sqlite3.connect(path)\n",
    "    c = conn.cursor()\n",
    "    c.execute(\"INSERT INTO review_db (review,sentiment,date) VALUES (?,?,DATETIME('now'))\",(document,y))\n",
    "    conn.commit()\n",
    "    conn.close()\n",
    "    \n",
    "###Flask\n",
    "class ReviewForm(Form):\n",
    "    moviereview = TextAreaField(\"\",[validators.DataRequired(),validators.length(min=15)])\n",
    "    \n",
    "@app.route(\"/\")\n",
    "def index():\n",
    "    form = ReviewForm(request.form)\n",
    "    return render_template(\"reviewform.html\",form=form)\n",
    "@app.route(\"/results\",methods=[\"POST\"])\n",
    "def results():\n",
    "    form = ReviewForm(request.form)\n",
    "    if request.method == \"POST\" and form.validate():\n",
    "        review = request.form[\"moviereview\"]\n",
    "        y,proba = classify(review)\n",
    "        return render_template(\"results.html\",content=review,prediction=y,probability=round(proba*100,2))\n",
    "    return render_template(\"reviewform.html\",form=form)\n",
    "\n",
    "@app.route(\"/thanks\",methods=[\"POST\"])\n",
    "def feedback():\n",
    "    feedback = request.form[\"feedback_button\"]\n",
    "    review = request.form[\"review\"]\n",
    "    prediction = request.form[\"prediction\"]\n",
    "    \n",
    "    inv_label = {0:\"negative\",1:\"positive\"}\n",
    "    y = inv_label[prediction]\n",
    "    if feedback == \"Incorrect\":\n",
    "        y = int(not(y))\n",
    "    train(review,y)\n",
    "    sqlite_entry(db,review,y)\n",
    "    return render_template(\"thanks.html\")\n",
    "\n",
    "if __name__ == \"__main__\":\n",
    "    app.run(debug =True)"
   ]
  }
 ],
 "metadata": {
  "kernelspec": {
   "display_name": "Python 3",
   "language": "python",
   "name": "python3"
  },
  "language_info": {
   "codemirror_mode": {
    "name": "ipython",
    "version": 3
   },
   "file_extension": ".py",
   "mimetype": "text/x-python",
   "name": "python",
   "nbconvert_exporter": "python",
   "pygments_lexer": "ipython3",
   "version": "3.5.6"
  }
 },
 "nbformat": 4,
 "nbformat_minor": 2
}

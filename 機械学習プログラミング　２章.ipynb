{
 "cells": [
  {
   "cell_type": "markdown",
   "metadata": {},
   "source": [
    "第２章"
   ]
  },
  {
   "cell_type": "code",
   "execution_count": 1,
   "metadata": {},
   "outputs": [],
   "source": [
    "import numpy as np"
   ]
  },
  {
   "cell_type": "code",
   "execution_count": 49,
   "metadata": {},
   "outputs": [],
   "source": [
    "class Perceptron(object):\n",
    "    #パーセプトロンの分類器\n",
    "    def __init__(self,eta=0.01,n_iter=10):\n",
    "        self.eta = eta                   #学習率\n",
    "        self.n_iter = n_iter             #試行回数\n",
    "        \n",
    "    def fit(self,X,y):                   #Xはトレーニングデータ、yは目的変数\n",
    "        #トレーニングデータに適合させる\n",
    "        self.w_ = np.zeros(1+X.shape[1]) #適合後の重み\n",
    "        self.errors_ = []                 #各エポックでの誤分類数\n",
    "        for _ in range(self.n_iter):      #トレーニング回数分データを更新\n",
    "            errors = 0\n",
    "            for xi , target in zip(X,y):\n",
    "                update = self.eta*(target - self.predict(xi))\n",
    "                self.w_[1:] += update*xi\n",
    "                self.w_[0] += update\n",
    "                #重みの更新が０でないときは誤分類としてカウント\n",
    "                errors += int(update != 0.0)\n",
    "            #反復回数ごとの誤差を収納\n",
    "            self.errors_.append(errors)\n",
    "        return self\n",
    "\n",
    "    def net_input(self,X):\n",
    "        #総入力を計算\n",
    "        return np.dot(X,self.w_[1:])+self.w_[0]\n",
    "    \n",
    "    def predict(self,X):\n",
    "        #1ステップ後のクラスラベルを返す\n",
    "        return np.where(self.net_input(X) >= 0.0, 1, -1)"
   ]
  },
  {
   "cell_type": "code",
   "execution_count": 37,
   "metadata": {},
   "outputs": [],
   "source": [
    "import pandas as pd"
   ]
  },
  {
   "cell_type": "code",
   "execution_count": 38,
   "metadata": {},
   "outputs": [
    {
     "data": {
      "text/html": [
       "<div>\n",
       "<style scoped>\n",
       "    .dataframe tbody tr th:only-of-type {\n",
       "        vertical-align: middle;\n",
       "    }\n",
       "\n",
       "    .dataframe tbody tr th {\n",
       "        vertical-align: top;\n",
       "    }\n",
       "\n",
       "    .dataframe thead th {\n",
       "        text-align: right;\n",
       "    }\n",
       "</style>\n",
       "<table border=\"1\" class=\"dataframe\">\n",
       "  <thead>\n",
       "    <tr style=\"text-align: right;\">\n",
       "      <th></th>\n",
       "      <th>0</th>\n",
       "      <th>1</th>\n",
       "      <th>2</th>\n",
       "      <th>3</th>\n",
       "      <th>4</th>\n",
       "    </tr>\n",
       "  </thead>\n",
       "  <tbody>\n",
       "    <tr>\n",
       "      <th>145</th>\n",
       "      <td>6.7</td>\n",
       "      <td>3.0</td>\n",
       "      <td>5.2</td>\n",
       "      <td>2.3</td>\n",
       "      <td>Iris-virginica</td>\n",
       "    </tr>\n",
       "    <tr>\n",
       "      <th>146</th>\n",
       "      <td>6.3</td>\n",
       "      <td>2.5</td>\n",
       "      <td>5.0</td>\n",
       "      <td>1.9</td>\n",
       "      <td>Iris-virginica</td>\n",
       "    </tr>\n",
       "    <tr>\n",
       "      <th>147</th>\n",
       "      <td>6.5</td>\n",
       "      <td>3.0</td>\n",
       "      <td>5.2</td>\n",
       "      <td>2.0</td>\n",
       "      <td>Iris-virginica</td>\n",
       "    </tr>\n",
       "    <tr>\n",
       "      <th>148</th>\n",
       "      <td>6.2</td>\n",
       "      <td>3.4</td>\n",
       "      <td>5.4</td>\n",
       "      <td>2.3</td>\n",
       "      <td>Iris-virginica</td>\n",
       "    </tr>\n",
       "    <tr>\n",
       "      <th>149</th>\n",
       "      <td>5.9</td>\n",
       "      <td>3.0</td>\n",
       "      <td>5.1</td>\n",
       "      <td>1.8</td>\n",
       "      <td>Iris-virginica</td>\n",
       "    </tr>\n",
       "  </tbody>\n",
       "</table>\n",
       "</div>"
      ],
      "text/plain": [
       "       0    1    2    3               4\n",
       "145  6.7  3.0  5.2  2.3  Iris-virginica\n",
       "146  6.3  2.5  5.0  1.9  Iris-virginica\n",
       "147  6.5  3.0  5.2  2.0  Iris-virginica\n",
       "148  6.2  3.4  5.4  2.3  Iris-virginica\n",
       "149  5.9  3.0  5.1  1.8  Iris-virginica"
      ]
     },
     "execution_count": 38,
     "metadata": {},
     "output_type": "execute_result"
    }
   ],
   "source": [
    "df = pd.read_csv(\"https://archive.ics.uci.edu/ml/\"\n",
    "\"machine-learning-databases/iris/iris.data\",header = None)\n",
    "df.tail()"
   ]
  },
  {
   "cell_type": "code",
   "execution_count": 39,
   "metadata": {},
   "outputs": [],
   "source": [
    "import matplotlib.pyplot as plt"
   ]
  },
  {
   "cell_type": "code",
   "execution_count": 55,
   "metadata": {},
   "outputs": [
    {
     "data": {
      "text/plain": [
       "<function matplotlib.pyplot.show(*args, **kw)>"
      ]
     },
     "execution_count": 55,
     "metadata": {},
     "output_type": "execute_result"
    },
    {
     "data": {
      "image/png": "[encoded data removed]",
      "text/plain": [
       "<Figure size 432x288 with 1 Axes>"
      ]
     },
     "metadata": {
      "needs_background": "light"
     },
     "output_type": "display_data"
    }
   ],
   "source": [
    "#1~100行目の目的変数の抽出\n",
    "y = df.iloc[0:100,-1].values\n",
    "#Iris-setosaを-１に、Iris-versicolorを１に変換\n",
    "y = np.where(y==\"Iris-setosa\",-1,1)\n",
    "#1~100行目の１、３列目の抽出\n",
    "X = df.iloc[0:100,[0,2]].values\n",
    "#品種setosaのプロット（赤丸）\n",
    "plt.scatter(X[:50,0],X[:50,1],color = \"red\",marker = \"o\",label = \"setosa\")\n",
    "#品種versicolorのプロット（青のバツ）\n",
    "plt.scatter(X[50:,0],X[50:,1],color = \"blue\",marker = \"x\",label = \"versicolor\")\n",
    "#軸のラベルの設定\n",
    "plt.xlabel(\"sepal length[cm]\")\n",
    "plt.ylabel(\"petal length[cm]\")\n",
    "#凡例の設置（左上に設置）\n",
    "plt.legend(loc=\"upper left\")\n",
    "#図の表示\n",
    "plt.show\n"
   ]
  },
  {
   "cell_type": "code",
   "execution_count": 50,
   "metadata": {},
   "outputs": [
    {
     "data": {
      "image/png": "[encoded data removed]",
      "text/plain": [
       "<Figure size 432x288 with 1 Axes>"
      ]
     },
     "metadata": {
      "needs_background": "light"
     },
     "output_type": "display_data"
    }
   ],
   "source": [
    "#パーセプロトロンのオブジェクト生成（インスタンス化）\n",
    "ppn = Perceptron(eta=0.1 , n_iter=10)\n",
    "#トレーニングモデルへのデータの適合\n",
    "ppn.fit(X,y)\n",
    "#エポックと誤分類誤差の関係の折れ線グラフをプロット\n",
    "plt.plot(range(1,len(ppn.errors_)+1),ppn.errors_,marker=\"o\")\n",
    "#軸のラベルの設定\n",
    "plt.xlabel(\"Epochs\")\n",
    "plt.ylabel(\"Number of misclassifications\")\n",
    "#図の表示\n",
    "plt.show()"
   ]
  },
  {
   "cell_type": "code",
   "execution_count": 51,
   "metadata": {},
   "outputs": [],
   "source": [
    "from matplotlib.colors import ListedColormap\n",
    "\n",
    "def plot_decision_regions(X,y,classifier,resolution=0.02):\n",
    "    #マーカーとカラーマップの準備\n",
    "    markers = (\"s\",\"x\",\"o\",\"^\",\"v\")\n",
    "    colors = (\"red\",\"blue\",\"lightgreen\",\"gray\",\"cyan\")\n",
    "    cmap = ListedColormap(colors[:len(np.unique(y))])\n",
    "    \n",
    "    #決定領域のプロット\n",
    "    x1_min,x1_max = X[:,0].min()-1,X[:,0].max()+1\n",
    "    x2_min,x2_max = X[:,1].min()-1,X[:,1].max()+1\n",
    "    #グリッドポイントの作成\n",
    "    xx1, xx2 = np.meshgrid(np.arange(x1_min,x1_max,resolution),np.arange(x2_min,x2_max,resolution))\n",
    "    \n",
    "    #各特徴量を１次元配列に変換して予測を実行\n",
    "    Z = classifier.predict(np.array([xx1.ravel(),xx2.ravel()]).T)\n",
    "    #予測を元のグリッドポイントのデータサイズに変換\n",
    "    Z = Z.reshape(xx1.shape)\n",
    "    #グリッドポイントの等高線のプロット\n",
    "    plt.contourf(xx1,xx2,Z,alpha=0.4,cmap=cmap)\n",
    "    #軸の範囲の設定\n",
    "    plt.xlim(xx1.min(),xx1.max())\n",
    "    plt.ylim(xx2.min(),xx2.max())\n",
    "    \n",
    "    #クラスごとにサンプルをプロット\n",
    "    for idx ,cl in enumerate(np.unique(y)):\n",
    "        plt.scatter(x=X[y==cl,0],y=X[y==cl,1],alpha=0.8,c=cmap(idx),marker=markers[idx],label=cl)"
   ]
  },
  {
   "cell_type": "code",
   "execution_count": 54,
   "metadata": {},
   "outputs": [
    {
     "name": "stderr",
     "output_type": "stream",
     "text": [
      "'c' argument looks like a single numeric RGB or RGBA sequence, which should be avoided as value-mapping will have precedence in case its length matches with 'x' & 'y'.  Please use a 2-D array with a single row if you really want to specify the same RGB or RGBA value for all points.\n",
      "'c' argument looks like a single numeric RGB or RGBA sequence, which should be avoided as value-mapping will have precedence in case its length matches with 'x' & 'y'.  Please use a 2-D array with a single row if you really want to specify the same RGB or RGBA value for all points.\n"
     ]
    },
    {
     "data": {
      "text/plain": [
       "<function matplotlib.pyplot.show(*args, **kw)>"
      ]
     },
     "execution_count": 54,
     "metadata": {},
     "output_type": "execute_result"
    },
    {
     "data": {
      "image/png": "[encoded data removed]",
      "text/plain": [
       "<Figure size 432x288 with 1 Axes>"
      ]
     },
     "metadata": {
      "needs_background": "light"
     },
     "output_type": "display_data"
    }
   ],
   "source": [
    "#決定境界のプロット\n",
    "plot_decision_regions(X,y,classifier=ppn)\n",
    "#軸のラベルの設定\n",
    "plt.xlabel(\"sepal length[cm]\")\n",
    "plt.ylabel(\"petal length[cm]\")\n",
    "#凡例の設定\n",
    "plt.legend(loc=\"upper left\")\n",
    "#図の表示\n",
    "plt.show"
   ]
  },
  {
   "cell_type": "code",
   "execution_count": 66,
   "metadata": {},
   "outputs": [],
   "source": [
    "class AdalineGD(object):\n",
    "    def __init__(self,eta=0.01,n_iter=50):\n",
    "        self.eta = eta\n",
    "        self.n_iter=n_iter\n",
    "    \n",
    "    def fit(self,X,y):\n",
    "        self.w_ = np.zeros(1+X.shape[1])\n",
    "        self.cost_ =[]\n",
    "        for i in range(self.n_iter):\n",
    "            #活性化関数の出力値の計算\n",
    "            output = self.net_input(X)\n",
    "            #誤差の計算\n",
    "            errors = y-output\n",
    "            #w0以外の更新\n",
    "            self.w_[1:]+=self.eta* X.T.dot(errors)\n",
    "            #w0の更新\n",
    "            self.w_[0]+=self.eta*errors.sum()\n",
    "            #コスト関数の計算\n",
    "            cost = (errors**2).sum()/2.0\n",
    "            #コストの格納\n",
    "            self.cost_.append(cost)\n",
    "        return self\n",
    "\n",
    "    def net_input(self,X):\n",
    "        return np.dot(X,self.w_[1:])+self.w_[0]\n",
    "\n",
    "    def activation(self,X):\n",
    "        #線形活性関数の出力を計算\n",
    "        return self.net_input(X)\n",
    "    \n",
    "    def predict(self,X):\n",
    "        #１ステップ後のクラスラベルを返す\n",
    "        return np.where(self.activation(X)>=0.0,1,-1)"
   ]
  },
  {
   "cell_type": "code",
   "execution_count": 69,
   "metadata": {},
   "outputs": [
    {
     "data": {
      "text/plain": [
       "<function matplotlib.pyplot.show(*args, **kw)>"
      ]
     },
     "execution_count": 69,
     "metadata": {},
     "output_type": "execute_result"
    },
    {
     "data": {
      "image/png": "[encoded data removed]",
      "text/plain": [
       "<Figure size 576x288 with 2 Axes>"
      ]
     },
     "metadata": {
      "needs_background": "light"
     },
     "output_type": "display_data"
    }
   ],
   "source": [
    "#描画領域を１行２列に分割\n",
    "fig,ax = plt.subplots(nrows=1,ncols=2,figsize=(8,4))\n",
    "#勾配降下法によるADALINEの学習\n",
    "ada1 = AdalineGD(n_iter=10,eta=0.01).fit(X,y)\n",
    "#エポック数とコストの関係を表す折れ線グラフ（縦軸のコストは常用対数）\n",
    "ax[0].plot(range(1,len(ada1.cost_)+1),np.log10(ada1.cost_),marker=\"o\")\n",
    "#軸のラベルの設定\n",
    "ax[0].set_xlabel(\"Epochs\")\n",
    "ax[0].set_ylabel(\"log(Sum-squared-error)\")\n",
    "#タイトルの設定\n",
    "ax[0].set_title(\"Adaline-Learning rate 0.01\")\n",
    "#勾配降下法によるADALINEの学習\n",
    "ada2 = AdalineGD(n_iter=10,eta=0.0001).fit(X,y)\n",
    "#エポック数とコストの関係を表す折れ線グラフ\n",
    "ax[1].plot(range(1,len(ada2.cost_)+1),ada2.cost_,marker=\"o\")\n",
    "#軸のラベルの設定\n",
    "ax[1].set_xlabel(\"Epochs\")\n",
    "ax[1].set_ylabel(\"log(Sum-squared-error)\")\n",
    "#タイトルの設定\n",
    "ax[1].set_title(\"Adaline-Learning rate 0.0001\")\n",
    "\n",
    "plt.show"
   ]
  },
  {
   "cell_type": "code",
   "execution_count": 70,
   "metadata": {},
   "outputs": [],
   "source": [
    "X_std = np.copy(X)\n",
    "X_std[:,0]=(X[:,0]-X[:,0].mean())/X[:,0].std()\n",
    "X_std[:,1]=(X[:,1]-X[:,1].mean())/X[:,1].std()"
   ]
  },
  {
   "cell_type": "code",
   "execution_count": 72,
   "metadata": {},
   "outputs": [
    {
     "name": "stderr",
     "output_type": "stream",
     "text": [
      "'c' argument looks like a single numeric RGB or RGBA sequence, which should be avoided as value-mapping will have precedence in case its length matches with 'x' & 'y'.  Please use a 2-D array with a single row if you really want to specify the same RGB or RGBA value for all points.\n",
      "'c' argument looks like a single numeric RGB or RGBA sequence, which should be avoided as value-mapping will have precedence in case its length matches with 'x' & 'y'.  Please use a 2-D array with a single row if you really want to specify the same RGB or RGBA value for all points.\n"
     ]
    },
    {
     "data": {
      "text/plain": [
       "<function matplotlib.pyplot.show(*args, **kw)>"
      ]
     },
     "execution_count": 72,
     "metadata": {},
     "output_type": "execute_result"
    },
    {
     "data": {
      "image/png": "[encoded data removed]",
      "text/plain": [
       "<Figure size 432x288 with 1 Axes>"
      ]
     },
     "metadata": {
      "needs_background": "light"
     },
     "output_type": "display_data"
    }
   ],
   "source": [
    "#勾配降下法によるADALINEの学習\n",
    "ada = AdalineGD(n_iter=15,eta=0.01).fit(X_std,y)\n",
    "#境界領域のプロット\n",
    "plot_decision_regions(X_std,y,classifier=ada)\n",
    "#タイトルの設定\n",
    "plt.title(\"Adaline Gradient Descent\")\n",
    "#軸のラベルの設定\n",
    "plt.xlabel(\"sepal length [standardized]\")\n",
    "plt.ylabel(\"petal length [standardized]\")\n",
    "#凡例の設定\n",
    "plt.legend(loc=\"upper left\")\n",
    "\n",
    "plt.show\n"
   ]
  },
  {
   "cell_type": "code",
   "execution_count": 73,
   "metadata": {},
   "outputs": [
    {
     "data": {
      "text/plain": [
       "<function matplotlib.pyplot.show(*args, **kw)>"
      ]
     },
     "execution_count": 73,
     "metadata": {},
     "output_type": "execute_result"
    },
    {
     "data": {
      "image/png": "[encoded data removed]",
      "text/plain": [
       "<Figure size 432x288 with 1 Axes>"
      ]
     },
     "metadata": {
      "needs_background": "light"
     },
     "output_type": "display_data"
    }
   ],
   "source": [
    "#エポック数とコストの関係を表す折れ線グラフ\n",
    "plt.plot(range(1,len(ada.cost_)+1),ada.cost_,marker=\"o\")\n",
    "#軸のラベルの設定\n",
    "plt.xlabel(\"Epochs\")\n",
    "plt.ylabel(\"Sum-squared-error\")\n",
    "\n",
    "plt.show"
   ]
  },
  {
   "cell_type": "code",
   "execution_count": 75,
   "metadata": {},
   "outputs": [],
   "source": [
    "from numpy.random import seed"
   ]
  },
  {
   "cell_type": "markdown",
   "metadata": {},
   "source": [
    "確率的勾配降下法"
   ]
  },
  {
   "cell_type": "code",
   "execution_count": 88,
   "metadata": {},
   "outputs": [],
   "source": [
    "class AdalineSGD(object):\n",
    "    def __init__(self,eta=0.01,n_iter=10,shuffle=True,random_state=None):\n",
    "        #学習率、トレーニング回数の初期化\n",
    "        self.eta = eta\n",
    "        self.n_iter=n_iter\n",
    "        #重みの初期化フラグはFalseに設定\n",
    "        self.w_initialized = False\n",
    "        #各エポックでトレーニングデータをシャッフルするかどうかのフラグを初期化\n",
    "        self.shuffle = shuffle\n",
    "        #引数random_stateが指定された場合は乱数種を設定\n",
    "        if random_state :\n",
    "            seed(random_state)\n",
    "            \n",
    "    def fit(self,X,y):\n",
    "        #重みベクトルの生成\n",
    "        self._initialize_weights(X.shape[1])\n",
    "        #コストを格納する部分のリストの生成\n",
    "        self.cost_ = []\n",
    "        #トレーニング回数分トレーニングデータを反復\n",
    "        for i in range(self.n_iter):\n",
    "            #指定された場合はトレーニングデータをシャッフル\n",
    "            if self.shuffle:\n",
    "                X,y = self._shuffle(X,y)\n",
    "            #各サンプルのコストを格納するリストの生成\n",
    "            cost=[]\n",
    "            #各サンプルに対する計算f\n",
    "            for xi, target in zip(X,y):\n",
    "                #特徴量xiと目的変数yを用いた重みの更新とコストの計算\n",
    "                cost.append(self._update_weights(xi,target))\n",
    "            #サンプルの平均コストの計算\n",
    "            avg_cost = sum(cost)/len(y)\n",
    "            #平均コストを格納\n",
    "            self.cost_.append(avg_cost)\n",
    "        return self\n",
    "        \n",
    "    def partial_fit(self,X,y):                 #重みを再初期化することなくトレーニングデータに適合させる\n",
    "        #初期化されていない場合は初期化を実行\n",
    "        if not self.w_initialized:\n",
    "            self._initialize_weights(X.shape[1])\n",
    "        #目的変数yの要素数が２以上の場合は各サンプルの特徴量xiと目的変数targetで重みを更新\n",
    "        if y.ravel().shape[0] > 1:\n",
    "            for xi ,target in zip(X,y):\n",
    "                self._update_weights(xi,target)\n",
    "        #目的変数yの要素数が１の場合はサンプル全体の特徴量Xと目的変数yで重みを更新\n",
    "        else:\n",
    "            self._update_weights(X,y)\n",
    "        return self\n",
    "        \n",
    "    def _shuffle(self,X,y):                   #トレーニングデータをシャッフル\n",
    "        r = np.random.permutation(len(y))\n",
    "        return X[r],y[r]\n",
    "        \n",
    "    def _initialize_weights(self,m):          #重みを０に初期化\n",
    "        self.w_=np.zeros(1+m)\n",
    "        self.w_initialized = True\n",
    "            \n",
    "    def _update_weights(self,xi,target):\n",
    "        #活性化関数の出力の計算\n",
    "        output = self.net_input(xi)\n",
    "        #誤差の計算\n",
    "        error = (target-output)\n",
    "        #w１以降の重みの更新\n",
    "        self.w_[1:] += self.eta*xi.dot(error)\n",
    "        #w0の更新\n",
    "        self.w_[0] += self.eta*error\n",
    "        #コストの計算\n",
    "        cost = 0.5*error**2\n",
    "        return cost\n",
    "        \n",
    "    def net_input(self,X):                  #総入力を計算\n",
    "        return np.dot(X,self.w_[1:])+self.w_[0]\n",
    "        \n",
    "    def activation(self,X):                 #線形活性化関数の出力を計算\n",
    "        return self.net_input(X)\n",
    "        \n",
    "    def predict(self,X):                    #1ステップ後のクラスのラベルを返す\n",
    "        return np.where(self.activation(X)>=0.0,1,-1)"
   ]
  },
  {
   "cell_type": "code",
   "execution_count": 89,
   "metadata": {},
   "outputs": [
    {
     "name": "stderr",
     "output_type": "stream",
     "text": [
      "'c' argument looks like a single numeric RGB or RGBA sequence, which should be avoided as value-mapping will have precedence in case its length matches with 'x' & 'y'.  Please use a 2-D array with a single row if you really want to specify the same RGB or RGBA value for all points.\n",
      "'c' argument looks like a single numeric RGB or RGBA sequence, which should be avoided as value-mapping will have precedence in case its length matches with 'x' & 'y'.  Please use a 2-D array with a single row if you really want to specify the same RGB or RGBA value for all points.\n"
     ]
    },
    {
     "data": {
      "text/plain": [
       "<function matplotlib.pyplot.show(*args, **kw)>"
      ]
     },
     "execution_count": 89,
     "metadata": {},
     "output_type": "execute_result"
    },
    {
     "data": {
      "image/png": "[encoded data removed]",
      "text/plain": [
       "<Figure size 432x288 with 1 Axes>"
      ]
     },
     "metadata": {
      "needs_background": "light"
     },
     "output_type": "display_data"
    }
   ],
   "source": [
    "#確率的勾配降下法によるADALINEの学習\n",
    "ada = AdalineSGD(n_iter=15,eta=0.01,random_state=1)\n",
    "#モデルへの適合\n",
    "ada.fit(X_std,y)\n",
    "#境界領域のプロット\n",
    "plot_decision_regions(X_std,y,classifier=ada)\n",
    "#タイトルの設定\n",
    "plt.title(\"Adaline-Stochastic Gradient Decent\")\n",
    "#軸のラベルの設定\n",
    "plt.xlabel(\"sepal length [standardized]\")\n",
    "plt.ylabel(\"petal length [standardized]\")\n",
    "\n",
    "plt.show"
   ]
  },
  {
   "cell_type": "code",
   "execution_count": 90,
   "metadata": {},
   "outputs": [
    {
     "data": {
      "text/plain": [
       "<function matplotlib.pyplot.show(*args, **kw)>"
      ]
     },
     "execution_count": 90,
     "metadata": {},
     "output_type": "execute_result"
    },
    {
     "data": {
      "image/png": "[encoded data removed]",
      "text/plain": [
       "<Figure size 432x288 with 1 Axes>"
      ]
     },
     "metadata": {
      "needs_background": "light"
     },
     "output_type": "display_data"
    }
   ],
   "source": [
    "#エポックとコストの折れ線のグラフ\n",
    "plt.plot(range(1,len(ada.cost_)+1),ada.cost_,marker=\"o\")\n",
    "#軸ラベルの設定\n",
    "plt.xlabel(\"Epochs\")\n",
    "plt.ylabel(\"Average Cost\")\n",
    "\n",
    "plt.show"
   ]
  }
 ],
 "metadata": {
  "kernelspec": {
   "display_name": "Python 3",
   "language": "python",
   "name": "python3"
  },
  "language_info": {
   "codemirror_mode": {
    "name": "ipython",
    "version": 3
   },
   "file_extension": ".py",
   "mimetype": "text/x-python",
   "name": "python",
   "nbconvert_exporter": "python",
   "pygments_lexer": "ipython3",
   "version": "3.5.6"
  }
 },
 "nbformat": 4,
 "nbformat_minor": 2
}
